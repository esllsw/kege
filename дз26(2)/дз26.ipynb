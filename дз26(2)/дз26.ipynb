{
 "cells": [
  {
   "cell_type": "code",
   "execution_count": null,
   "metadata": {},
   "outputs": [],
   "source": [
    "f = open('26-1.txt')\n",
    "n = int(f.readline())\n",
    "a = [int(x) for x in f]\n",
    "a.sort(reverse=True)\n",
    "b = [a[0]]\n",
    "for c in a[1:]:\n",
    "    if b[-1] - c >= 3:\n",
    "        b += [c]\n",
    "print(len(b),b[-1])"
   ]
  },
  {
   "cell_type": "code",
   "execution_count": null,
   "metadata": {},
   "outputs": [],
   "source": [
    "f = open('26-2.txt')\n",
    "lines = f.readlines()\n",
    "n, k = map(int,lines[0].split())\n",
    "paks = []\n",
    "for line in lines[1:]:\n",
    "    weight, cost = map(int,line.split())\n",
    "    cpu = cost / weight\n",
    "    paks.append((cpu, -weight, weight, cost))\n",
    "paks.sort()\n",
    "selected = paks[:k]\n",
    "total_weight = sum(pkg[2] for pkg in selected)\n",
    "heaviest_cost = max(selected, key=lambda x: x[2])[3]  # выбираем по максимальному весу\n",
    "\n",
    "print(total_weight, heaviest_cost)"
   ]
  },
  {
   "cell_type": "code",
   "execution_count": null,
   "metadata": {},
   "outputs": [],
   "source": [
    "f = open('26_2.txt')  # открываем файл\n",
    "n, k = map(int, f.readline().split())  # считываем числа n и k\n",
    "packs = {}  # создаём словарь, в котором будем хранить параметры товаров\n",
    "max_weight = sum_weight = max_price = count = 0  # создаём переменные для хранения: максимального веса пакета, \n",
    "# суммарного веса пакетов на отправку, цену самого тяжелого пакета и кол-во отправленных пакетов\n",
    "for i in range(n):  # проходимся по файлу n раз\n",
    "    weight, price = map(int, f.readline().split())  # считываем вес и цену пакета\n",
    "    if price / weight in packs:  # в качестве ключа в словаре будет выступать цена за единицу товара, а значением будет список с параметрами пакета\n",
    "        packs[price / weight].append([weight, price])\n",
    "    else:\n",
    "        packs[price / weight] = [[weight, price]]\n",
    "for i in sorted(packs.keys()):  # сортируем ключи в порядке возрастания и проходимся по ним, чтобы получить минимальные цены за единицу товара\n",
    "    coal = sorted(packs[i], reverse=True)  # выносим в переменную список из списков с параметрами товаров, сортируем их по весу в порядке убывания\n",
    "    for j in coal:  # проходимся по всем пакетам\n",
    "        if count == k:  # если уже набрали k пакетов, то заканчиваем перебор\n",
    "            break\n",
    "        else:   # в ином случае фиксируем погруженный пакет, считаем его вес, если вес больше максимального, то запоминаем его цену\n",
    "            count += 1  \n",
    "            sum_weight += j[0]\n",
    "            if j[0] > max_weight:\n",
    "                max_weight, max_price = j[0], j[1]\n",
    "print(sum_weight, max_price)"
   ]
  },
  {
   "cell_type": "code",
   "execution_count": null,
   "metadata": {},
   "outputs": [],
   "source": [
    "f = open('26_3.txt')\n",
    "n = int(f.readline())\n",
    "a = {}\n",
    "for i in range(n):\n",
    "    r, s = map(int, f.readline().split())\n",
    "    if r in a:\n",
    "        a[r] += [s]\n",
    "    else:\n",
    "        a[r] = [s]\n",
    "for r in sorted(a.keys()):\n",
    "    b = a[r]\n",
    "    b.sort(reverse=True)\n",
    "    for i in range(1,len(b)):\n",
    "        if b[i-1] - b[i] == 8:\n",
    "            res_r = r\n",
    "            res_s = b[i] + 1\n",
    "print(res_r,res_s)"
   ]
  },
  {
   "cell_type": "code",
   "execution_count": null,
   "metadata": {},
   "outputs": [],
   "source": [
    "f = open('26_4.txt')\n",
    "k = int(f.readline())\n",
    "n = int(f.readline())\n",
    "times = []\n",
    "\n",
    "for i in range(n):\n",
    "    a = list(map(int,f.readline().split()))\n",
    "    times.append(a)\n",
    "\n",
    "clients = []\n",
    "schedule = [[0] * 601 for i in range(k)]\n",
    "for st,en in times:\n",
    "    for num in range(k):\n",
    "        if sum(schedule[num][st:en+1]) == 0:\n",
    "            clients.append(num+1)\n",
    "            for t in range(st,en+1):\n",
    "                schedule[num][t] = 1\n",
    "            break\n",
    "print(len(clients),clients[-2])"
   ]
  },
  {
   "cell_type": "code",
   "execution_count": null,
   "metadata": {},
   "outputs": [],
   "source": [
    "f = open('26_5.txt')\n",
    "l, n = map(int,f.readline().split())\n",
    "times = []\n",
    "\n",
    "for i in range(n):\n",
    "    a = list(map(int,f.readline().split()))\n",
    "    times.append(a)\n",
    "\n",
    "times.sort(key=lambda x: (x[1] - x[0]))\n",
    "print(times)\n",
    "k = []\n",
    "sched = [0] * l\n",
    "for st,en in times:\n",
    "    if sum(sched[st:en+1]) == 0:\n",
    "        k.append(st)\n",
    "        for t in range(st,en+1):\n",
    "            sched[t] = 1\n",
    "print(sched)\n",
    "print(len(k) + 1, max(k))"
   ]
  },
  {
   "cell_type": "code",
   "execution_count": null,
   "metadata": {},
   "outputs": [],
   "source": [
    "base = ''\n",
    "fd = open(base + '26_6.txt')\n",
    "N = int(fd.readline())\n",
    "\n",
    "stud = []\n",
    "for line in fd:\n",
    "    arr = [int(x) for x in line.split()]\n",
    "    st = {'ID': arr[0],\n",
    "          'sr_ball': -sum(arr[1:]) if arr.count(2) == 0 else 0,\n",
    "          'neud': arr.count(2)}\n",
    "    stud.append(st)\n",
    "\n",
    "stud.sort(key = lambda x: (x['neud'], x['sr_ball'], x['ID']))\n",
    "for i in range(N):\n",
    "    if stud[i]['neud']< 3:\n",
    "        continue\n",
    "    id_neud = stud[i]['ID']\n",
    "    break\n",
    "\n",
    "print(stud[N // 4 - 1]['ID'], id_neud)"
   ]
  },
  {
   "cell_type": "code",
   "execution_count": null,
   "metadata": {},
   "outputs": [],
   "source": [
    "tf = open('26_6.txt')  # открываем файл из задания\n",
    "n = int(tf.readline())  # считываем количество студентов в файле\n",
    "students = {}  # словарь, в котором будем хранить студентов\n",
    "min_id = 10 ** 10  # переменная, в которой будем хранить id первого в рейтинге студента, имеющего более двух двоек\n",
    "for i in range(n):  # перебираем студентов\n",
    "    s = list(map(int, tf.readline().split()))  # разделяем и переводим в числа строку с id и оценками\n",
    "    stud_id = s[0]  # переменная для id студента\n",
    "    grades = s[1:]  # переменная для оценок студента\n",
    "    if grades.count(2) == 0:  # если у студента нет двоек\n",
    "        students[stud_id] = sum(grades) / 4  # добавляем его в словарь с ключом id и значением средней оценки\n",
    "    if grades.count(2) > 2:  # если у студента больше двух двоек\n",
    "        min_id = min(min_id, stud_id)  # сохраняем тот id, который будет в рейтинге первым\n",
    "        \n",
    "students = dict(sorted(students.items()))  # сортируем словарь сначала по возрастанию id \n",
    "students = dict(sorted(students.items(), key=lambda item: item[1], reverse=True))  # сортируем словарь теперь по средней оценке\n",
    "print(list(students.keys())[n // 4 - 1], min_id) # выводим id последнего студента, который попадет в 25% и id первого студента, который получил больше двух двоек"
   ]
  },
  {
   "cell_type": "code",
   "execution_count": null,
   "metadata": {},
   "outputs": [],
   "source": []
  }
 ],
 "metadata": {
  "kernelspec": {
   "display_name": "Python 3",
   "language": "python",
   "name": "python3"
  },
  "language_info": {
   "codemirror_mode": {
    "name": "ipython",
    "version": 3
   },
   "file_extension": ".py",
   "mimetype": "text/x-python",
   "name": "python",
   "nbconvert_exporter": "python",
   "pygments_lexer": "ipython3",
   "version": "3.12.8"
  }
 },
 "nbformat": 4,
 "nbformat_minor": 2
}
