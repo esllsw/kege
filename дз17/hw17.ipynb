{
 "cells": [
  {
   "cell_type": "code",
   "execution_count": null,
   "metadata": {},
   "outputs": [],
   "source": [
    "a = [int(i) for i in open('17_1.txt')]\n",
    "k = 0\n",
    "mn = 10**10\n",
    "for i in range(len(a)-1):\n",
    "    x = a[i:i+2]\n",
    "    if abs(x[0]) > abs(x[1]) and (x[0] + x[1]) % 27 == 0:\n",
    "        k += 1\n",
    "        if (x[0] + x[1]) < mn:\n",
    "            mn = (x[0] + x[1])\n",
    "print(k,abs(mn))"
   ]
  },
  {
   "cell_type": "code",
   "execution_count": null,
   "metadata": {},
   "outputs": [],
   "source": [
    "a = [int(i) for i in open('17_2.txt')]\n",
    "k = 0\n",
    "sm = -10 ** 7\n",
    "for i in range(len(a)-1):\n",
    "    x = a[i:i+2]\n",
    "    if all(int(digit) % 2 == 0 for digit in str(x[0])) and all(int(digit) % 2 == 1 for digit in str(x[1])) or all(int(digit) % 2 == 1 for digit in str(x[0])) and all(int(digit) % 2 == 0 for digit in str(x[1])) :\n",
    "        k += 1\n",
    "        if x[0] + x[1] > sm:\n",
    "            sm = x[0]+ x[1]\n",
    "print(k,sm)"
   ]
  },
  {
   "cell_type": "code",
   "execution_count": null,
   "metadata": {},
   "outputs": [],
   "source": [
    "for num in range(100, 401):\n",
    "    if all(int(digit) % 2 == 0 for digit in str(num)):\n",
    "        print(num)"
   ]
  },
  {
   "cell_type": "code",
   "execution_count": null,
   "metadata": {},
   "outputs": [],
   "source": [
    "a = [int(i) for i in open('17_3.txt')]\n",
    "m = min(a)\n",
    "k = 0\n",
    "mn = 10**10\n",
    "for i in range(len(a)-1):\n",
    "    x = a[i:i+2]\n",
    "    if x[0] % 111 == m or x[1] % 111 == 8:\n",
    "        k += 1\n",
    "        if x[0] + x[1] < mn:\n",
    "            mn = x[0] + x[1]\n",
    "print(k,mn)"
   ]
  },
  {
   "cell_type": "code",
   "execution_count": null,
   "metadata": {},
   "outputs": [],
   "source": [
    "a = [int(i) for i in open('17_4.txt')]\n",
    "k = 0\n",
    "z = 0\n",
    "for s in a:\n",
    "    if s % 100 == 0:\n",
    "        z += 1\n",
    "\n",
    "mx = -10**5\n",
    "\n",
    "for i in range(len(a)-1):\n",
    "    x = a[i:i+2]\n",
    "    if x[0] < 0 and x[0] + x[1] < z or x[1] < 0 and x[0] + x[1] < z:\n",
    "        k += 1\n",
    "        mx = max(mx, x[0] + x[1])\n",
    "print(k,mx)"
   ]
  },
  {
   "cell_type": "code",
   "execution_count": null,
   "metadata": {},
   "outputs": [],
   "source": [
    "a = [int(i) for i in open('17_5.txt')]\n",
    "k = 0\n",
    "sm = -10 ** 9\n",
    "for i in range(len(a)-2):\n",
    "    x = a[i:i+3]\n",
    "    if sum(x) % 2022 == 0 and (x[0] >= 0 or x[1] >= 0 or x[2] >= 0):\n",
    "        k += 1\n",
    "        sm = max(sm,x[0] + x[1] + x[2])\n",
    "print(k,sm)"
   ]
  },
  {
   "cell_type": "code",
   "execution_count": null,
   "metadata": {},
   "outputs": [],
   "source": [
    "a = [int(i) for i in open('17_6.txt')]\n",
    "m = max([i for i in a if abs(i) % 10 == 2])\n",
    "res = []\n",
    "for i in range(len(a)):\n",
    "    if a[i] % 3 == 0 and a[i] % 7 != 0 and a[i] % 17 != 0 and m % a[i] == 0:\n",
    "        res.append(a[i])\n",
    "print(len(res),max(res))"
   ]
  },
  {
   "cell_type": "code",
   "execution_count": null,
   "metadata": {},
   "outputs": [],
   "source": [
    "a = [int(i) for i in open('17_7.txt')]\n",
    "m = max([i for i in a if abs(i) % 118 == 0 and abs(i) % 10 != 8])\n",
    "k = 0\n",
    "sm = -10 ** 9\n",
    "for i in range(len(a)-2):\n",
    "    x = a[i:i+3]\n",
    "    if (x[0] % 118 == 0 or x[1] % 118 == 0 or x[2] % 118 == 0) and (x[0] % 1000 == 118 or x[1] % 1000 == 118 or x[2] % 1000 == 118) and sum(x) > m:\n",
    "        k += 1\n",
    "        sm = max(sm,sum(x))\n",
    "print(k,sm**2)"
   ]
  },
  {
   "cell_type": "code",
   "execution_count": null,
   "metadata": {},
   "outputs": [],
   "source": [
    "a = [int(i) for i in open('17_8.txt')]\n",
    "m = max([abs(i) for i in a if abs(i) % 570 == 0])\n",
    "print(m)\n",
    "k1 = 0\n",
    "k2 = 0 \n",
    "for i in range(len(a)- 3):\n",
    "    x = a[i:i+4]\n",
    "    if sum(x)/4 > m:\n",
    "        k1 += 1\n",
    "for y in range(len(a)-2):\n",
    "    s = a[y:y+3]\n",
    "    if ((s[0] > 0 and s[1] > 0) or (s[1] > 0 and s[2] > 0) or (s[0] > 0 and s[2] > 0)) and sum(s)% 34 == 0:\n",
    "        k2 += 1\n",
    "print(k1,k2)"
   ]
  },
  {
   "cell_type": "code",
   "execution_count": null,
   "metadata": {},
   "outputs": [],
   "source": [
    "a = [int(i) for i in open('17_9.txt')]\n",
    "k = 0\n",
    "sm = -10**9\n",
    "for i in range(len(a) - 1):\n",
    "    x = a[i:i+2]\n",
    "    if x[0] % 3 == 0 or x[1] % 3 == 0:\n",
    "        k += 1\n",
    "        sm = max(sm, x[0] + x[1])\n",
    "print(k,sm)"
   ]
  },
  {
   "cell_type": "code",
   "execution_count": null,
   "metadata": {},
   "outputs": [],
   "source": [
    "a = [int(i) for i in open('17_10.txt')]\n",
    "k = 0 \n",
    "sm = -10**9\n",
    "for i in range(len(a) - 1):\n",
    "    x = a[i:i+2]\n",
    "    if abs(sum(x)) % 3 == 0 and abs(sum(x)) % 6 != 0 and abs((x[0] * x[1])) % 10 == 8:\n",
    "        k += 1\n",
    "        sm = max(sm, sum(x))\n",
    "print(k,sm)"
   ]
  },
  {
   "cell_type": "code",
   "execution_count": null,
   "metadata": {},
   "outputs": [],
   "source": [
    "a = [int(i) for i in open('17_11.txt')]\n",
    "res = []\n",
    "for i in range(len(a)):\n",
    "    if a[i] % 3 == 0 and a[i] % 11 == 0 and (a[i] % 10 == 2 or a[i] % 10 == 7):\n",
    "        res.append(a[i])\n",
    "print(len(res), min(res))"
   ]
  },
  {
   "cell_type": "code",
   "execution_count": null,
   "metadata": {},
   "outputs": [],
   "source": [
    "a = [int(i) for i in open('17_12.txt')]\n",
    "res = []\n",
    "for i in range(len(a)):\n",
    "    if a[i] % 13 == 7 and a[i] % 7 != 0 and a[i] % 11 != 0:\n",
    "        res.append(a[i])\n",
    "print(max(res) - min(res), len(res))"
   ]
  },
  {
   "cell_type": "code",
   "execution_count": null,
   "metadata": {},
   "outputs": [],
   "source": [
    "a = [int(i) for i in open('17_13.txt')]\n",
    "k = 0\n",
    "sm = 10**6\n",
    "for i in range(len(a) - 1):\n",
    "    x = a[i:i+ 2]\n",
    "    if x[0] % 5 == 0 and x[0] % 3 != 0 and x[1] % 5 == 0 and x[1] % 3 != 0:\n",
    "        k += 1\n",
    "        if sum(x) > 0 and sum(x) < sm:\n",
    "            sm = sum(x)\n",
    "print(k,sm)"
   ]
  },
  {
   "cell_type": "code",
   "execution_count": null,
   "metadata": {},
   "outputs": [],
   "source": [
    "a = [int(i) for i in open('17_14.txt')]\n",
    "mn = min([i for i in a if i % 21 == 0])\n",
    "k = 0\n",
    "sm = -10**7\n",
    "for i in range(len(a) - 1):\n",
    "    x = a[i:i+2]\n",
    "    if x[0] % mn == 0 or x[1] % mn == 0:\n",
    "        k += 1\n",
    "        sm = max(sm,sum(x))\n",
    "print(k,sm)"
   ]
  },
  {
   "cell_type": "code",
   "execution_count": null,
   "metadata": {},
   "outputs": [],
   "source": [
    "a = [int(i) for i in open('17_15.txt')]\n",
    "k = 0\n",
    "sm = -10**5\n",
    "for i in range(len(a)- 1):\n",
    "    x = a[i:i+2]\n",
    "    if abs(sum(x)) % 11 == 0:\n",
    "        k += 1\n",
    "        sm = max(sm,sum(x))\n",
    "print(k,sm)"
   ]
  },
  {
   "cell_type": "code",
   "execution_count": null,
   "metadata": {},
   "outputs": [],
   "source": [
    "a = [int(i) for i in open('17_16.txt')]\n",
    "k = 0\n",
    "mn = 10**9\n",
    "for i in range(len(a) - 1):\n",
    "    x = a[i:i+2]\n",
    "    if x[0] * x[1] > 0 and sum(x) % 7 == 0:\n",
    "        k += 1\n",
    "        if x[0] * x[1] < mn:\n",
    "            mn = x[0] * x[1]\n",
    "print(k,mn)"
   ]
  },
  {
   "cell_type": "code",
   "execution_count": null,
   "metadata": {},
   "outputs": [],
   "source": [
    "from math import sqrt\n",
    "a = [int(i) for i in open('17_17.txt')]\n",
    "k = 0\n",
    "res = []\n",
    "sm = -10**5\n",
    "for i in range(len(a) - 1):\n",
    "    x = a[i:i+2]\n",
    "    if sqrt(x[0]) % 2 == 0 and sqrt(x[1]) % 2 == 0:\n",
    "        sm = max(sm, sum(x))\n",
    "        k += 1\n",
    "print(sm,k)\n"
   ]
  },
  {
   "cell_type": "code",
   "execution_count": null,
   "metadata": {},
   "outputs": [],
   "source": [
    "def tri(x):\n",
    "    s = ''\n",
    "    while x > 0:\n",
    "        s = str(x%3) + s\n",
    "        x //= 3\n",
    "    return s\n",
    "\n",
    "a = [int(i) for i in open('17_18.txt')]\n",
    "k = 0\n",
    "sm = 0\n",
    "for i in range(len(a) - 2):\n",
    "    x = a[i:i+3]\n",
    "    if int(tri(x[0])) % 10 == 2 or int(tri(x[1])) % 10 == 2 or int(tri(x[2])) % 10 == 2:\n",
    "        k += 1\n",
    "        sm += min(x)\n",
    "print(k,sm)"
   ]
  },
  {
   "cell_type": "code",
   "execution_count": null,
   "metadata": {},
   "outputs": [],
   "source": [
    "def check(x):  # функция проверки проверки числа на соответствие двум условиям\n",
    "  if abs(x) % 10 == 9 and x > 0:  # если проверка пройдена\n",
    "    return True  # возвращаем истину - число подходит\n",
    "  return False  # если не была возвращена истина, возвращаем ложь - число не подходит\n",
    "\n",
    "f = [int(x) for x in open(\"17_19.txt\")]  # создаём список со всеми числами из фай\n",
    "count = 0  # переменная для количества подходящих троек\n",
    "max_sum = -10**4  # переменная для максимальной суммы троек\n",
    "\n",
    "for i in range(len(f) - 2):  # цикл для прохождения по тройкам в файле\n",
    "  if (not(check(f[i]))) and check(f[i+1]) and (not(check(f[i+2]))):  # если под условие подходит только 2 число\n",
    "    count += 1  # увеличиваем счётчик на 1\n",
    "    max_sum = max(max_sum, (f[i] + f[i+1] + f[i+2]))  # считаем новую максимальную сумму тройки\n",
    "\n",
    "print(count, max_sum)  # выводим ответ"
   ]
  },
  {
   "cell_type": "code",
   "execution_count": null,
   "metadata": {},
   "outputs": [],
   "source": []
  }
 ],
 "metadata": {
  "kernelspec": {
   "display_name": "Python 3",
   "language": "python",
   "name": "python3"
  },
  "language_info": {
   "codemirror_mode": {
    "name": "ipython",
    "version": 3
   },
   "file_extension": ".py",
   "mimetype": "text/x-python",
   "name": "python",
   "nbconvert_exporter": "python",
   "pygments_lexer": "ipython3",
   "version": "3.13.0"
  }
 },
 "nbformat": 4,
 "nbformat_minor": 2
}
