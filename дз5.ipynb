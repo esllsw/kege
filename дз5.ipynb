{
 "cells": [
  {
   "cell_type": "code",
   "execution_count": null,
   "metadata": {},
   "outputs": [],
   "source": [
    "def r(n):\n",
    "    s = bin(n)[2:]\n",
    "    s += str(s.count('1') % 2)\n",
    "    s += str(s.count('1') % 2)\n",
    "    return int(s,2)\n",
    "for i in range(1,100):\n",
    "    if r(i) < 55:\n",
    "        print(i,r(i))"
   ]
  },
  {
   "cell_type": "code",
   "execution_count": null,
   "metadata": {},
   "outputs": [],
   "source": [
    "def r(n):\n",
    "    s = bin(n)[2:]\n",
    "    s1 = str(int(s,2))\n",
    "    if (s1.count(\"1\") + s1.count('2') * 2 + s1.count(\"3\") * 3 + s1.count(\"4\") * 4 + s1.count(\"5\") * 5 + s1.count(\"6\") * 6 + s1.count(\"7\") * 7 + s1.count(\"8\") * 8 + s1.count(\"9\") * 9) % 2 == 0:\n",
    "        s += '0'\n",
    "    else:\n",
    "        s += '1'\n",
    "    s1 = str(int(s,2))\n",
    "    if (s1.count(\"1\") + s1.count('2') * 2 + s1.count(\"3\") * 3 + s1.count(\"4\") * 4 + s1.count(\"5\") * 5 + s1.count(\"6\") * 6 + s1.count(\"7\") * 7 + s1.count(\"8\") * 8 + s1.count(\"9\") * 9) % 2 == 0:\n",
    "        s += '0'\n",
    "    else:\n",
    "        s += '1'\n",
    "    s1 = str(int(s,2))\n",
    "    if (s1.count(\"1\") + s1.count('2') * 2 + s1.count(\"3\") * 3 + s1.count(\"4\") * 4 + s1.count(\"5\") * 5 + s1.count(\"6\") * 6 + s1.count(\"7\") * 7 + s1.count(\"8\") * 8 + s1.count(\"9\") * 9) % 2 == 0:\n",
    "        s += '0'\n",
    "    else:\n",
    "        s += '1'\n",
    "    return int(s,2)\n",
    "for i in range(1,2100):\n",
    "    if r(i) > 2054:\n",
    "        print(i, r(i))"
   ]
  },
  {
   "cell_type": "code",
   "execution_count": null,
   "metadata": {},
   "outputs": [],
   "source": [
    "def r(n):\n",
    "    s = bin(n)[2:]\n",
    "    if len(s) % 2 == 0:\n",
    "        s += '10'\n",
    "    else:\n",
    "        s = '11' + s\n",
    "    return int(s,2)\n",
    "k = 0\n",
    "\n",
    "for n in range(100,201):\n",
    "    if r(n) % 2 == 0:\n",
    "        k += 1\n",
    "        print(n,r(n))\n",
    "print(k)"
   ]
  },
  {
   "cell_type": "code",
   "execution_count": null,
   "metadata": {},
   "outputs": [],
   "source": [
    "def r(n):\n",
    "    s = bin(n)[2:]\n",
    "    if s.count('1') % 2 == 0:\n",
    "        s = '10' + s[2:] + '1'\n",
    "    else:\n",
    "        s = '1' + s[2:] + '11'\n",
    "    return int(s,2)\n",
    "for n in range(1,100):\n",
    "    if r(n) >= 100:\n",
    "        print(n, r(n))"
   ]
  },
  {
   "cell_type": "code",
   "execution_count": null,
   "metadata": {},
   "outputs": [],
   "source": [
    "def r(n):\n",
    "    s = bin(n)[2:]\n",
    "    for i in range(3):\n",
    "        if s.count('0') == s.count('1'):\n",
    "            s += s[-1]\n",
    "        else:\n",
    "            if s.count('0') < s.count('1'):\n",
    "                s += '0'\n",
    "            else:\n",
    "                s += '1'\n",
    "    return int(s,2)\n",
    "for n in range(1,200):\n",
    "    if n > 80 and r(n) % 4 == 0:\n",
    "        print(n,r(n))\n"
   ]
  },
  {
   "cell_type": "code",
   "execution_count": null,
   "metadata": {},
   "outputs": [],
   "source": [
    "def r(n):\n",
    "    s = bin(n)[2:]\n",
    "    if int(s,2) % 2 == 0:\n",
    "        s = '10' + s\n",
    "    else:\n",
    "        s = '1' + s + '01'\n",
    "    return int(s,2)\n",
    "\n",
    "for n in range(1,100):\n",
    "    if n <= 8:\n",
    "        print(n, r(n))"
   ]
  },
  {
   "cell_type": "code",
   "execution_count": null,
   "metadata": {},
   "outputs": [],
   "source": [
    "a = '0101010'\n",
    "a = a.replace('0','')\n",
    "print(a)"
   ]
  },
  {
   "cell_type": "code",
   "execution_count": null,
   "metadata": {},
   "outputs": [],
   "source": [
    "res = set()\n",
    "for n in range(100,1001):\n",
    "    s = bin(n)[2:]\n",
    "    s = s.replace('0','')\n",
    "    res.add(int(s,2))\n",
    "print(res,len(res))"
   ]
  },
  {
   "cell_type": "code",
   "execution_count": null,
   "metadata": {},
   "outputs": [],
   "source": [
    "def zap(x,base):\n",
    "    s = ''\n",
    "    while x > 0:\n",
    "        s = str(x%base) + s\n",
    "        x //= base\n",
    "    return s\n",
    "\n",
    "def r(n):\n",
    "    s = zap(n,6)\n",
    "    s += s[-1]\n",
    "    s1 = int(s,6)\n",
    "    s2 = bin(s1)[2:]\n",
    "    return s2.count('1')\n",
    "\n",
    "for n in range(1,10**5 + 1):\n",
    "    if r(n) == 18:\n",
    "        print(n, r(n))"
   ]
  },
  {
   "cell_type": "code",
   "execution_count": null,
   "metadata": {},
   "outputs": [],
   "source": [
    "for n in range(1,100):\n",
    "    s = bin(n)[2:]\n",
    "    n1 = n - s.count('0')\n",
    "    s1 = bin(n1)[2:]\n",
    "    s1 = s1[-3:] + s1\n",
    "    r = int(s1,2)\n",
    "    if r > 224:\n",
    "        print(n,r)"
   ]
  },
  {
   "cell_type": "code",
   "execution_count": null,
   "metadata": {},
   "outputs": [],
   "source": [
    "for n in range(1000):\n",
    "    r = bin(n)[2:]\n",
    "    if n % 3 == 0: r += r[-3:]\n",
    "    else: r += bin((n%3)*3)[2:]\n",
    "    r = int(r,2)\n",
    "    if r <= 170:\n",
    "        print(r,n)"
   ]
  },
  {
   "cell_type": "code",
   "execution_count": null,
   "metadata": {},
   "outputs": [],
   "source": [
    "s = []\n",
    "for n in range(1000):\n",
    "    r = bin(n)[2:]\n",
    "    for i in range(2):\n",
    "        if r.count('1') % 2 == 1:\n",
    "            r += '1'\n",
    "        else: r += '0'\n",
    "    r = int(r,2)\n",
    "    if r > 452:\n",
    "        s.append(r)\n",
    "        print(r,n)\n",
    "print(min(s))"
   ]
  },
  {
   "cell_type": "code",
   "execution_count": null,
   "metadata": {},
   "outputs": [],
   "source": [
    "s = []\n",
    "r1 = []\n",
    "for n in range(1000):\n",
    "    r = bin(n)[2:]\n",
    "    if n % 2 == 0: r += '10'\n",
    "    else: r = '1' + r + '01'\n",
    "    r = int(r,2)\n",
    "    if r > 516:\n",
    "        s.append(n)\n",
    "        r1.append(r)\n",
    "        print(r,n)\n",
    "print(min(s), min(r1))"
   ]
  },
  {
   "cell_type": "code",
   "execution_count": null,
   "metadata": {},
   "outputs": [],
   "source": [
    "s = []\n",
    "for n in range(10000):\n",
    "    r = bin(n)[2:]\n",
    "    if n % 2 == 0: r = '1' + r + '00'\n",
    "    else: r = '10' + r + '1'\n",
    "    r = int(r,2)\n",
    "    if r < 1000:\n",
    "        s.append(n)\n",
    "        print(n,r)\n",
    "print(max(s))"
   ]
  },
  {
   "cell_type": "code",
   "execution_count": null,
   "metadata": {},
   "outputs": [],
   "source": [
    "s = []\n",
    "for n in range(1000):\n",
    "    r = bin(n)[2:]\n",
    "    if r.count('1') % 2 == 0: r = '1' + r[:-2] + '10'\n",
    "    else: r = '10' + r[2:] +  '1'\n",
    "    r = int(r,2)\n",
    "    if r > 202:\n",
    "        s.append(n)\n",
    "        print(r,n)\n",
    "print(min(s))"
   ]
  },
  {
   "cell_type": "code",
   "execution_count": null,
   "metadata": {},
   "outputs": [],
   "source": [
    "r = '1234567'\n",
    "print(r[2:])"
   ]
  },
  {
   "cell_type": "code",
   "execution_count": null,
   "metadata": {},
   "outputs": [],
   "source": [
    "s = []\n",
    "def zap(x,base):\n",
    "    s = ''\n",
    "    while x > 0:\n",
    "        s = str(x%base) + s\n",
    "        x //= base\n",
    "    return s\n",
    "\n",
    "def r(n):\n",
    "    s = zap(n,3)\n",
    "    if n % 2 == 0: s = '1' + s + '00'\n",
    "    else: s += zap((s.count('1') + s.count('2')*2),3)\n",
    "    s1 = int(s,3)\n",
    "    return s1\n",
    "\n",
    "for n in range(1000):\n",
    "    if r(n) > 168:\n",
    "        s.append(n)\n",
    "        print(n)\n",
    "print(min(s))"
   ]
  },
  {
   "cell_type": "code",
   "execution_count": null,
   "metadata": {},
   "outputs": [],
   "source": [
    "s = []\n",
    "def p(x,base):\n",
    "    s = ''\n",
    "    while x > 0:\n",
    "        s = str(x % base) + s\n",
    "        x //= base\n",
    "    return s\n",
    "\n",
    "def r(n):\n",
    "    s = p(n,3)\n",
    "    if n % 3 == 0: s = '1' + s + '02'\n",
    "    else: s += p((n%3)*4,3)\n",
    "    s1 = int(s,3)\n",
    "    return s1\n",
    "\n",
    "for n in range(1000):\n",
    "    if r(n) < 199:\n",
    "        s.append(n)\n",
    "        print(r(n),n)\n",
    "print(max(s))"
   ]
  },
  {
   "cell_type": "code",
   "execution_count": null,
   "metadata": {},
   "outputs": [],
   "source": [
    "s = []\n",
    "for n in range(2,1000):\n",
    "    r = bin(n)[2:]\n",
    "    r = r[1:]\n",
    "    if r.count('1') % 2 == 0: r = '10' + r\n",
    "    else: r = '1' + r + '0'\n",
    "    r = int(r,2)\n",
    "    if r < 450:\n",
    "        s.append(r)\n",
    "print(max(s))"
   ]
  },
  {
   "cell_type": "code",
   "execution_count": null,
   "metadata": {},
   "outputs": [],
   "source": [
    "s = []\n",
    "def zap(x,base):\n",
    "    s = ''\n",
    "    while x > 0:\n",
    "        s = str(x%base) + s\n",
    "        x //= base\n",
    "    return s\n",
    "\n",
    "for n in range(100,100000):\n",
    "    r3 = zap(n,3)\n",
    "    r4 = zap(n,4)\n",
    "    if r3.count('1') % 2 == 0: r4 = '3' + r4 + '00'\n",
    "    else: r4 = '12' + r4\n",
    "    r1 = int(r4,4)\n",
    "    r5 = zap(r1,5)\n",
    "    r6 = zap(r1,6)\n",
    "    if r5.count(\"4\") == r5.count('2'): r6 += '222'\n",
    "    else: r6 = '5' + r6 + '4'\n",
    "    r12 = int(r6,6)\n",
    "    r7 = zap(r12,7)\n",
    "    r9 = zap(r12,9)\n",
    "    if r7.count('0') > r7.count('5'): r9 = '4' + r9\n",
    "    else: r9 = '123' + r9[-3:-2] + '87'\n",
    "    r = int(r9,9)\n",
    "    s.append(r)\n",
    "print(max(s))"
   ]
  },
  {
   "cell_type": "code",
   "execution_count": null,
   "metadata": {},
   "outputs": [],
   "source": [
    "def f(x, q):  # создадим функцию, которая будет считать количество максимальной цифры по значению в числе в СС q\n",
    "    k = 0  # создаём переменную\n",
    "    while x > 0:  # при переводе числа в СС q, рассматриваем остатки от деления, если остаток равен q-1 то есть максимальной цифре по значению в СС q, прибавляем к k единицу\n",
    "        if x % q == q - 1:\n",
    "            k += 1\n",
    "        x //= q\n",
    "    return k  # возвращаем k\n",
    "\n",
    "a = set()  # создаём множество, в которое будем добавлять результаты алгоритма\n",
    "for i in range(100, 1000):  # перебираем все трёхзначные числа\n",
    "    s = ''  # создаём строку, в которую будем записывать значения из каждой СС\n",
    "    for b in range(2, 33):  # перебираем все нужные нам СС\n",
    "        s += str(f(i, b))  # приписываем к s значение функции от каждой СС\n",
    "    x = sum(map(int, s))  # считаем сумму цифр в полученном значении\n",
    "    a.add(x)  # добавляем результат работы алгоритма в множество\n",
    "print(len(a))  # выводим длину множества, то есть количество различных значений"
   ]
  },
  {
   "cell_type": "code",
   "execution_count": null,
   "metadata": {},
   "outputs": [],
   "source": [
    "res = set()\n",
    "for n in range(1,1001):\n",
    "    s = bin(n)[2:]\n",
    "    if n % 2 == 0:\n",
    "        s += '01'\n",
    "    else:\n",
    "        s += '10'\n",
    "    r = int(s,2)\n",
    "    if r > 130:\n",
    "        res.add(r)\n",
    "print(min(res))"
   ]
  },
  {
   "cell_type": "code",
   "execution_count": null,
   "metadata": {},
   "outputs": [],
   "source": [
    "res = set()\n",
    "for n in range(1,1001):\n",
    "    s = bin(n)[2:]\n",
    "    if s.count('1') > s.count('0'):\n",
    "        s += '1'\n",
    "    else:\n",
    "        s += '0'\n",
    "    r = int(s,2)\n",
    "    if r < 90:\n",
    "        res.add(r)\n",
    "print(max(res))"
   ]
  },
  {
   "cell_type": "code",
   "execution_count": null,
   "metadata": {},
   "outputs": [],
   "source": [
    "res = set()\n",
    "for n in range(2,1000):\n",
    "    s = bin(n)[2:]\n",
    "    s += s[-2]\n",
    "    s += s[1]\n",
    "    r = int(s,2)\n",
    "    if r <= 128:\n",
    "        res.add(n)\n",
    "print(max(res))"
   ]
  },
  {
   "cell_type": "code",
   "execution_count": null,
   "metadata": {},
   "outputs": [],
   "source": [
    "res = set()\n",
    "for n in range(1,1000):\n",
    "    s = bin(n)[2:]\n",
    "    if s.count('1') % 2 == 0:\n",
    "        s += '0'\n",
    "        s = s.replace(s[:2],'10',1)\n",
    "    else:\n",
    "        s += '1'\n",
    "        s = s.replace(s[:2],'11',1)\n",
    "    r = int(s,2)\n",
    "    if r > 171:\n",
    "        res.add(n)\n",
    "print(min(res))"
   ]
  },
  {
   "cell_type": "code",
   "execution_count": null,
   "metadata": {},
   "outputs": [],
   "source": [
    "res = set()\n",
    "for n in range(1,1000):\n",
    "    s = bin(n)[2:]\n",
    "    s = s.replace('1', '*')\n",
    "    s = s.replace('0', '1')\n",
    "    s = s.replace('*', '0')\n",
    "    s = '1' + s\n",
    "    if s.count('1') % 2 == 0:\n",
    "        s += '0'\n",
    "    else:\n",
    "        s += '1'\n",
    "    r = int(s,2)\n",
    "    if r > 180:\n",
    "        res.add(n)\n",
    "print(min(res))"
   ]
  },
  {
   "cell_type": "code",
   "execution_count": null,
   "metadata": {},
   "outputs": [],
   "source": [
    "def cht(x):\n",
    "    s = ''\n",
    "    while x > 0:\n",
    "        s = str(x%4) + s\n",
    "        x //= 4\n",
    "    return s\n",
    "\n",
    "res = set()\n",
    "\n",
    "for n in range(1,1000):\n",
    "    s = cht(n)\n",
    "    if n % 4 == 0:\n",
    "        s = '2' + s + '03'\n",
    "    else:\n",
    "        a = (n%4) * 5\n",
    "        s += cht(a)\n",
    "    r = int(s,4)\n",
    "    if r <= 567:\n",
    "        res.add(n)\n",
    "print(max(res))"
   ]
  },
  {
   "cell_type": "code",
   "execution_count": null,
   "metadata": {},
   "outputs": [],
   "source": [
    "res = set()\n",
    "for n in range(10,2501):\n",
    "    s = bin(n)[2:]\n",
    "    s = s.replace('0','')\n",
    "    r = int(s,2)\n",
    "    res.add(r)\n",
    "print(len(res))"
   ]
  },
  {
   "cell_type": "code",
   "execution_count": null,
   "metadata": {},
   "outputs": [],
   "source": [
    "def tr(x):\n",
    "    s = ''\n",
    "    while x > 0:\n",
    "        s = str(x%3) + s\n",
    "        x //= 3\n",
    "    return s\n",
    "\n",
    "res = set()\n",
    "\n",
    "for n in range(1,1000):\n",
    "    s = tr(n)\n",
    "    if n % 2 == 0:\n",
    "        s = '2' + s + tr(int(s[-1])*2)\n",
    "    else:\n",
    "        s = tr(int(s[0])*2) + s + '2'\n",
    "    r = int(s,3)\n",
    "    if r > 100:\n",
    "        res.add(r)\n",
    "print(min(res))    "
   ]
  },
  {
   "cell_type": "code",
   "execution_count": null,
   "metadata": {},
   "outputs": [],
   "source": [
    "n = 2781\n",
    "print(int(str(n)[-1])*2)"
   ]
  },
  {
   "cell_type": "code",
   "execution_count": 1,
   "metadata": {},
   "outputs": [
    {
     "name": "stdout",
     "output_type": "stream",
     "text": [
      "2521\n"
     ]
    }
   ],
   "source": [
    "def tr(n):\n",
    "    s = ''\n",
    "    while n > 0:\n",
    "        s = str(n%3) + s\n",
    "        n //= 3\n",
    "    return s\n",
    "\n",
    "res = []\n",
    "\n",
    "for n in range(1,1000):\n",
    "    s = tr(n)\n",
    "    if n % 3 == 0:\n",
    "        s += s[:3]\n",
    "    else:\n",
    "        a = (s.count('1') + s.count('2')) * 5\n",
    "        s += tr(a)\n",
    "    r = int(s,3)\n",
    "    if r > 2500 and r % 2 == 1:\n",
    "        res.append(r)\n",
    "print(min(res))"
   ]
  },
  {
   "cell_type": "code",
   "execution_count": null,
   "metadata": {},
   "outputs": [],
   "source": []
  }
 ],
 "metadata": {
  "kernelspec": {
   "display_name": "Python 3",
   "language": "python",
   "name": "python3"
  },
  "language_info": {
   "codemirror_mode": {
    "name": "ipython",
    "version": 3
   },
   "file_extension": ".py",
   "mimetype": "text/x-python",
   "name": "python",
   "nbconvert_exporter": "python",
   "pygments_lexer": "ipython3",
   "version": "3.12.8"
  }
 },
 "nbformat": 4,
 "nbformat_minor": 2
}
