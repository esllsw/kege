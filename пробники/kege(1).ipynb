{
 "cells": [
  {
   "cell_type": "markdown",
   "id": "e12fefe3",
   "metadata": {},
   "source": [
    "https://kompege.ru/variant?kim=25095608"
   ]
  },
  {
   "cell_type": "code",
   "execution_count": null,
   "id": "5d0dde06",
   "metadata": {},
   "outputs": [],
   "source": [
    "#2\n",
    "print('x y w z F')\n",
    "for x in range(2):\n",
    "    for y in range(2):\n",
    "        for w in range(2):\n",
    "            for z in range(2):\n",
    "                f = (not x <= y) or (z == w) or z\n",
    "                if f == False:\n",
    "                    print(x,y,w,z,f)"
   ]
  },
  {
   "cell_type": "code",
   "execution_count": null,
   "id": "eafcdc2c",
   "metadata": {},
   "outputs": [],
   "source": [
    "#5\n",
    "def tr(x):\n",
    "    s = ''\n",
    "    while x > 0:\n",
    "        s = str(x % 3) + s\n",
    "        x //= 3\n",
    "    return s\n",
    "res = []\n",
    "for n in range(3,200):\n",
    "    s = tr(n)\n",
    "    if n % 3 == 0: s += s[-3:]\n",
    "    else:\n",
    "        a = (n%3) * 3\n",
    "        s += tr(a)\n",
    "    r = int(s,3)\n",
    "    if r <= 150:\n",
    "        res.append(n)\n",
    "print(max(res))"
   ]
  },
  {
   "cell_type": "code",
   "execution_count": null,
   "id": "3bc1353e",
   "metadata": {},
   "outputs": [],
   "source": [
    "#6\n",
    "import turtle as t\n",
    "t.speed(10)\n",
    "t.tracer(-1)\n",
    "k = 15\n",
    "\n",
    "for _ in range(2):\n",
    "    t.forward(28 * k)\n",
    "    t.right(90)\n",
    "    t.forward(18 * k)\n",
    "    t.right(90)\n",
    "\n",
    "t.up()\n",
    "t.forward(14 * k)\n",
    "t.right(90)\n",
    "t.forward(10 * k)\n",
    "t.left(90)\n",
    "\n",
    "t.down()\n",
    "for _ in range(2):\n",
    "    t.forward(30 * k)\n",
    "    t.right(90)\n",
    "    t.forward(7 * k)\n",
    "    t.right(90)\n",
    "\n",
    "t.up()\n",
    "for x in range(10, 30):\n",
    "    for y in range(-20,-5):\n",
    "        t.goto(x * k, y * k)\n",
    "        t.dot()\n",
    "t.done()"
   ]
  },
  {
   "cell_type": "code",
   "execution_count": null,
   "id": "2b9c51f3",
   "metadata": {},
   "outputs": [],
   "source": [
    "#8 \n",
    "from itertools import product\n",
    "s = 'абдеоп'\n",
    "k = 0\n",
    "for x in product(s,repeat=6):\n",
    "    k += 1\n",
    "    a = ''.join(x)\n",
    "    if k % 2 == 0:\n",
    "        if a[0] == 'о' and a.count('п') == 1 and a.count('о') == 1 and a.count('б') == 1 and a.count('е') == 1 and a.count('д') == 1 and a.count('а') == 1:\n",
    "            print(k,a)"
   ]
  },
  {
   "cell_type": "code",
   "execution_count": null,
   "id": "4de3f16d",
   "metadata": {},
   "outputs": [],
   "source": [
    "#12\n",
    "for n in range(4,10000):\n",
    "    s = '4' + '2' * n\n",
    "    while '42' in s or '8222' in s or '2222' in s:\n",
    "        if '42' in s: s = s.replace('42',\"2\",1)\n",
    "        if '8222' in s: s = s.replace('8222', '24', 1)\n",
    "        if '2222' in s: s = s.replace('2222','8',1)\n",
    "    sm = s.count('2') * 2 + s.count('4') * 4 + s.count(\"8\") * 8\n",
    "    if sm == 110:\n",
    "        print(n)\n",
    "        break"
   ]
  },
  {
   "cell_type": "code",
   "execution_count": null,
   "id": "33dfc235",
   "metadata": {},
   "outputs": [],
   "source": [
    "#13\n",
    "from ipaddress import ip_network\n",
    "net = ip_network(f'11.92.135.56/255.224.0.0', 0)\n",
    "for x in net:\n",
    "    print(x)"
   ]
  },
  {
   "cell_type": "code",
   "execution_count": null,
   "id": "f813e755",
   "metadata": {},
   "outputs": [],
   "source": [
    "#14\n",
    "def ch(x):\n",
    "    s = ''\n",
    "    while x > 0:\n",
    "        s = str(x % 4) + s\n",
    "        x //= 4\n",
    "    return s\n",
    "d = 9000\n",
    "f = 0\n",
    "for x in range(1,3001):\n",
    "    s = 4 ** 210 + 4 ** 110 - x\n",
    "    a = ch(s)\n",
    "    if a.count('0') > f:\n",
    "        f = a.count('0')\n",
    "        d = x\n",
    "print(d)"
   ]
  },
  {
   "cell_type": "code",
   "execution_count": null,
   "id": "1a975465",
   "metadata": {},
   "outputs": [],
   "source": [
    "#15\n",
    "def f(x):\n",
    "    B = 36 <= x <= 75\n",
    "    C = 60 <= x <= 110\n",
    "    A = start <= x <= end\n",
    "    return (not A) <= (B == C)\n",
    "\n",
    "min_len = 10**10\n",
    "\n",
    "for start in range(1, 111):  \n",
    "    for end in range(start, 111):\n",
    "        if all(f(x) for x in range(1, 111)):\n",
    "            min_len = min(min_len, end - start) \n",
    "\n",
    "print(min_len)"
   ]
  },
  {
   "cell_type": "code",
   "execution_count": null,
   "id": "3850cdd0",
   "metadata": {},
   "outputs": [],
   "source": [
    "#16\n",
    "from functools import lru_cache\n",
    "\n",
    "@lru_cache(None)\n",
    "def f(n):\n",
    "    if n < 20: return n\n",
    "    else: return (n-6) * f(n - 7)\n",
    "\n",
    "for i in range(50000):\n",
    "    f(i)\n",
    "\n",
    "print((f(47872) - 290 * f(47865)) // f(47858))"
   ]
  },
  {
   "cell_type": "code",
   "execution_count": null,
   "id": "f78aa773",
   "metadata": {},
   "outputs": [],
   "source": [
    "#17, решение для тех, кто ищет легкий путь\n",
    "f = open('17_21712.txt')\n",
    "s = [int(i) for i in f]\n",
    "mn = 1076\n",
    "cn = 0\n",
    "qw = -10 ** 11\n",
    "for i in range(len(s) - 2):\n",
    "    a = s[i:i + 3]\n",
    "    k = 0\n",
    "    if len(str(abs(a[0]))) == 4 and abs(a[0]) % 10 == 6:\n",
    "        k += 1\n",
    "    if len(str(abs(a[1]))) == 4 and abs(a[1]) % 10 == 6:\n",
    "        k += 1\n",
    "    if len(str(abs(a[2]))) == 4 and abs(a[2]) % 10 == 6:\n",
    "        k += 1\n",
    "    if k == 1:\n",
    "        if (a[0] + a[1] + a[2]) <= mn:\n",
    "            cn += 1\n",
    "            qw = max(qw,sum(a))\n",
    "    k = 0\n",
    "print(cn,qw)"
   ]
  },
  {
   "cell_type": "code",
   "execution_count": null,
   "id": "27447050",
   "metadata": {},
   "outputs": [],
   "source": [
    "#19-21\n",
    "def f(s,m):\n",
    "    if s >= 128: return m % 2 == 0\n",
    "    if m == 0: return 0\n",
    "    nm = [f(s + 2, m - 1), f(s + 5, m - 1), f(s * 2, m - 1)]\n",
    "    return any(nm) if (m - 1) % 2 == 0 else all(nm)\n",
    "\n",
    "print(19,min([s for s in range(1,128) if f(s,2) and not f(s,1)]))\n",
    "print(20,[s for s in range(1,128) if f(s,3) and not f(s, 1)])\n",
    "print(21,[s for s in range(1,128) if f(s,4) and not f(s, 2)])"
   ]
  },
  {
   "cell_type": "code",
   "execution_count": null,
   "id": "2f038fda",
   "metadata": {},
   "outputs": [],
   "source": [
    "#23\n",
    "def f(st,en):\n",
    "    if st == en: return 1\n",
    "    if st > en or st == 56: return 0\n",
    "    return f(st + 3,en) + f(st + 7, en) + f(st * 3, en)\n",
    "print(f(12,40)*f(40,72)*f(72,89))"
   ]
  },
  {
   "cell_type": "code",
   "execution_count": null,
   "id": "412c3459",
   "metadata": {},
   "outputs": [],
   "source": [
    "#25\n",
    "from fnmatch import fnmatch\n",
    "s = '4*4736*1'\n",
    "for i in range(7993, 10 ** 10 + 1, 7993):\n",
    "    if fnmatch(str(i),s):\n",
    "        print(i,i//7993)"
   ]
  },
  {
   "cell_type": "code",
   "execution_count": null,
   "id": "a7236671",
   "metadata": {},
   "outputs": [],
   "source": [
    "# f = open('27A.txt')\n",
    "\n",
    "# k1, k2 = [], []\n",
    "# for line in f:\n",
    "#     x, y = list(map(float, line.split()))\n",
    "#     if y < - 1:\n",
    "#         k1.append([x,y])\n",
    "#     else:\n",
    "#         k2.append([x,y])\n",
    "\n",
    "f = open('27B.txt')\n",
    "\n",
    "k1, k2, k3 = [], [], []\n",
    "for line in f:\n",
    "    x, y = list(map(float, line.split()))\n",
    "    if y < - 5:\n",
    "        k1.append([x,y])\n",
    "    elif y > 0 and x < - 6:\n",
    "        k2.append([x,y])\n",
    "    else:\n",
    "        k3.append([x,y])\n",
    "\n",
    "def dist(a,b):\n",
    "    return ((b[0] - a[0]) ** 2 + (b[1] - a[1]) ** 2) ** 0.5\n",
    "\n",
    "def centroid(cluster):\n",
    "    sum_res = 10 ** 10\n",
    "    final = []\n",
    "    for a in cluster:\n",
    "        sum_dist = sum(dist(point,a) for point in cluster)\n",
    "        if sum_dist < sum_res:\n",
    "            sum_res = sum_dist\n",
    "            final = a\n",
    "    return final\n",
    "\n",
    "center = [centroid(cluster) for cluster in (k1,k2,k3)]\n",
    "px = sum(x for x,y in center) / len(center) * 10000\n",
    "py = sum(y for x,y in center) / len(center) * 10000\n",
    "\n",
    "print(int(abs(px)),int(abs(py)))"
   ]
  }
 ],
 "metadata": {
  "kernelspec": {
   "display_name": "Python 3",
   "language": "python",
   "name": "python3"
  },
  "language_info": {
   "codemirror_mode": {
    "name": "ipython",
    "version": 3
   },
   "file_extension": ".py",
   "mimetype": "text/x-python",
   "name": "python",
   "nbconvert_exporter": "python",
   "pygments_lexer": "ipython3",
   "version": "3.12.8"
  }
 },
 "nbformat": 4,
 "nbformat_minor": 5
}
