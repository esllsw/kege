{
 "cells": [
  {
   "cell_type": "markdown",
   "id": "111b7f2f",
   "metadata": {},
   "source": [
    "https://education.yandex.ru/ege/variants/7a099d1b-aad7-476b-ba05-8c11059d47e1/task/1?utm_source=tg&utm_medium=post&utm_campaign=erbium&utm_content=variant&utm_term=partner&clckid=0c75ce08"
   ]
  },
  {
   "cell_type": "code",
   "execution_count": null,
   "id": "14affe20",
   "metadata": {},
   "outputs": [],
   "source": [
    "#2\n",
    "print('x y w u F')\n",
    "for x in range(2):\n",
    "    for y in range(2):\n",
    "        for w in range(2):\n",
    "            for u in range(2):\n",
    "                f = (not ((y <= w) == x)) and u\n",
    "                print(x,y,w,u,f)"
   ]
  },
  {
   "cell_type": "code",
   "execution_count": null,
   "id": "902ee0b3",
   "metadata": {},
   "outputs": [],
   "source": [
    "#5\n",
    "def sev(n):\n",
    "    s = ''\n",
    "    while n > 0:\n",
    "        s = str(n % 7) + s\n",
    "        n //= 7\n",
    "    return s\n",
    "res = []\n",
    "for n in range(1,1000):\n",
    "    s = sev(n)\n",
    "    if n % 7 == 0: s += s[-2:]\n",
    "    else:\n",
    "        a = (n % 7) * 2\n",
    "        s += sev(a)\n",
    "    r = int(s,7)\n",
    "    if r < 220:\n",
    "        res.append(n)\n",
    "print(max(res))"
   ]
  },
  {
   "cell_type": "code",
   "execution_count": null,
   "id": "2e4fbaa5",
   "metadata": {},
   "outputs": [],
   "source": [
    "#6\n",
    "import turtle as t\n",
    "t.speed(10)\n",
    "t.tracer(-1)\n",
    "k = 25\n",
    "t.left(90)\n",
    "t.right(135)\n",
    "\n",
    "for _ in range(7):\n",
    "    t.forward(7 * k)\n",
    "    t.right(45)\n",
    "    t.forward(8 * k)\n",
    "    t.right(135)\n",
    "\n",
    "t.up()\n",
    "for x in range(-10,10):\n",
    "    for y in range(-15,10):\n",
    "        t.goto(x * k, y * k)\n",
    "        t.dot()\n",
    "\n",
    "t.done()"
   ]
  },
  {
   "cell_type": "code",
   "execution_count": null,
   "id": "51f554d1",
   "metadata": {},
   "outputs": [],
   "source": [
    "#8\n",
    "from itertools import product\n",
    "s = 'воздух'\n",
    "cnt = 0\n",
    "for i in product(s,repeat=5):\n",
    "    k = ''.join(i) \n",
    "    k = k.replace('о',\"*\" ).replace(\"у\",\"*\") \n",
    "    k = k.replace(\"в\",\"-\").replace(\"х\",\"-\")\n",
    "    if k.count('*') == 1 and not '-*' in k and not '*-' in k:\n",
    "        cnt += 1\n",
    "print(cnt)"
   ]
  },
  {
   "cell_type": "code",
   "execution_count": null,
   "id": "d1494352",
   "metadata": {},
   "outputs": [],
   "source": [
    "#9\n",
    "f = open('9.csv')\n",
    "k = 0\n",
    "for line in f:\n",
    "    a = [int(i) for i in line.split(';')]\n",
    "    pvt = [a[i] for i in range(len(a)) if a.count(a[i]) == 3]\n",
    "    n_pvt = [a[i] for i in range(len(a)) if a.count(a[i]) == 1]\n",
    "    if len(set(pvt)) == 1 and len(set(n_pvt)) == 4:\n",
    "        if sum(a) < 502:\n",
    "            k += 1\n",
    "print(k)"
   ]
  },
  {
   "cell_type": "code",
   "execution_count": null,
   "id": "0aca974f",
   "metadata": {},
   "outputs": [],
   "source": [
    "#12\n",
    "for n in range(4,10000):\n",
    "    s = '8' + '5' * n\n",
    "    while '8858' in s or '555' in s:\n",
    "        if '8858' in s: s = s.replace('8858','4',1)\n",
    "        if '555' in s: s = s.replace('555', '58',1)\n",
    "        if '5858' in s: s = s.replace('5858','85',1)\n",
    "    a = s.count('4') * 4 + s.count('5') * 5 + s.count('8') * 8\n",
    "    if a == 66:\n",
    "        print(n)"
   ]
  },
  {
   "cell_type": "code",
   "execution_count": null,
   "id": "970acc78",
   "metadata": {},
   "outputs": [],
   "source": [
    "#13\n",
    "from ipaddress import ip_network\n",
    "net = ip_network(f'95.112.224.0/255.255.255.128',0)\n",
    "k = 0\n",
    "for x in net:\n",
    "    s = f'{x:b}'\n",
    "    a = s[-8:]\n",
    "    if a == a[::-1]:\n",
    "        k += 1\n",
    "print(k)"
   ]
  },
  {
   "cell_type": "code",
   "execution_count": null,
   "id": "169be8ea",
   "metadata": {},
   "outputs": [],
   "source": [
    "#14\n",
    "def sev(n):\n",
    "    s = ''\n",
    "    while n > 0:\n",
    "        s = str(n % 7) + s\n",
    "        n //= 7\n",
    "    return s\n",
    "\n",
    "s = 7 * 49 ** 120 - 6 * 343 ** 65 - 5 * 7 ** 40\n",
    "\n",
    "a = sev(s)\n",
    "print(a.count('6'))"
   ]
  },
  {
   "cell_type": "code",
   "execution_count": null,
   "id": "04b48f01",
   "metadata": {},
   "outputs": [],
   "source": [
    "#15\n",
    "def f(x,y,a):\n",
    "    return ((x >= a) or (121 >= x ** 2)) and ((y ** 2 < 49) or (a < y))\n",
    "\n",
    "for a in range(1,1000):\n",
    "    if all(f(x,y,a) for x in range(0,1000) for y in range(0,1000)):\n",
    "        print(a)"
   ]
  },
  {
   "cell_type": "code",
   "execution_count": null,
   "id": "81baea57",
   "metadata": {},
   "outputs": [],
   "source": [
    "#16\n",
    "from functools import lru_cache\n",
    "@lru_cache\n",
    "def f(n):\n",
    "    if n <= 1: return 1\n",
    "    if n > 1 and n % 3 == 0: return f(n - 1) + n//3\n",
    "    else: return f(n - 1) + f(n - 2)\n",
    "\n",
    "for i in range(60):\n",
    "    f(i)\n",
    "    \n",
    "print(f(54) - f(52) - f(50))"
   ]
  },
  {
   "cell_type": "code",
   "execution_count": null,
   "id": "94c8d593",
   "metadata": {},
   "outputs": [],
   "source": [
    "#17\n",
    "f = open('17.txt')\n",
    "a = [int(i) for i in f]\n",
    "mx = sorted(a)[-3]\n",
    "\n",
    "cnt = 0\n",
    "sm = 0\n",
    "for i in range(len(a) - 2):\n",
    "    s = a[i:i + 3]\n",
    "    k = 0\n",
    "    if s[0] % 2 == 0: k += 1\n",
    "    if s[1] % 2 == 0: k += 1\n",
    "    if s[2] % 2 == 0: k += 1\n",
    "    if k <= 2 and sum(s) <= mx:\n",
    "        cnt += 1\n",
    "        sm = max(sm,sum(s))\n",
    "    k = 0\n",
    "print(cnt,sm)"
   ]
  },
  {
   "cell_type": "code",
   "execution_count": null,
   "id": "a316c260",
   "metadata": {},
   "outputs": [],
   "source": [
    "#19 - 21\n",
    "def f(s1,s2,m):\n",
    "    if (s1 + s2) >= 150: return m % 2 == 0\n",
    "    if m == 0: return 0\n",
    "    nm = [f(s1 + 2,s2, m - 1),f(s1 * 3, s2, m - 1), f(s1, s2 + 2, m - 1), f(s1, s2 * 3, m - 1)]\n",
    "    return any(nm) if (m - 1) % 2 == 0 else all(nm)\n",
    "\n",
    "#print(19, [s for s in range(1,134) if f(16,s,2) and not f(16,s,1)])\n",
    "print(20, [s for s in range(1,134) if f(16,s,3) and not f(16,s,1)])\n",
    "print(21, [s for s in range(1,134) if f(16,s,4) and not f(16,s,2)])"
   ]
  },
  {
   "cell_type": "code",
   "execution_count": null,
   "id": "48f7e8da",
   "metadata": {},
   "outputs": [],
   "source": [
    "#23\n",
    "def f(st,en):\n",
    "    if st == en: return 1\n",
    "    if st > en or st == 11: return 0\n",
    "    return f(st + 1,en) + f(st + 4,en) + f(st * 3,en)\n",
    "\n",
    "print(f(7,27)*f(27,42))"
   ]
  },
  {
   "cell_type": "code",
   "execution_count": null,
   "id": "d5a88917",
   "metadata": {},
   "outputs": [],
   "source": [
    "f = open('24.txt')  # Открываем файл\n",
    "s = f.readline()  # Записываем строку из файла в переменную\n",
    "mx = 0  # Создаем переменную для максимальной длины подходящей подстроки\n",
    "l = 0  # Создаем переменную для индекса левой границы подстроки\n",
    "\n",
    "for r in range(4, len(s)):  # Проходимся по индексам правой границы подстроки\n",
    "    if s[r - 4:r + 1] == 'АНАНА':  # Проверяем: если последние 5 символов - это 'АНАНА', то...\n",
    "        l = r - 3  # ...сдвигаем левую границу до первой 'Н' в 'АНАНА' - такая подстрока нам не подходит\n",
    "    mx = max(mx, r - l + 1)  # Обновляем максимальную длину подходящей подстроки\n",
    "\n",
    "print(mx)  # Выводим ответ"
   ]
  },
  {
   "cell_type": "code",
   "execution_count": null,
   "id": "4b80b0af",
   "metadata": {},
   "outputs": [],
   "source": [
    "#25\n",
    "def divs(x):\n",
    "    res = set()\n",
    "    for i in range(1,int(x**0.5)+1):\n",
    "        if x % i == 0:\n",
    "            if i % 2 == 0:\n",
    "                res.add(i)\n",
    "            if (x // i) % 2 == 0:\n",
    "                res.add(x//i)\n",
    "    return sorted(res)\n",
    "for x in range(397438,443521):\n",
    "    d = divs(x)[:-1]\n",
    "    if len(d) >= 142:\n",
    "        print(len(d),max(d))"
   ]
  },
  {
   "cell_type": "code",
   "execution_count": null,
   "id": "5eeb65e5",
   "metadata": {},
   "outputs": [],
   "source": [
    "#26\n",
    "file = open(\"26.txt\")  # Открываем файл\n",
    "n = int(file.readline())  # Считываем количество записей в файле\n",
    "order = dict()  # Словарь для хранения номеров деталей и их времен обработки\n",
    "\n",
    "for i in range(1, n + 1):  # Перебираем номера деталей\n",
    "    okr, shl = map(int, file.readline().split())  # Считываем время окрашивания и шлифовки\n",
    "    order[i] = (okr, shl)  # Добавляем данные детали в словарь\n",
    "\n",
    "timeline = 0  # Переменная для отслеживания времени\n",
    "count = 0  # Счетчик отшлифованных деталей до последней\n",
    "\n",
    "while len(order.keys()) > 1:  # Пока в словаре не останется одна деталь\n",
    "    for i in list(order.keys()):  # Перебираем все детали (используем list для безопасного удаления)\n",
    "        if order[i][0] == timeline:  # Если время окрашивания совпадает с текущим временем\n",
    "            count += 1  # Увеличиваем счетчик отшлифованных деталей\n",
    "            order.pop(i)  # Удаляем деталь из словаря\n",
    "            break  # Прерываем цикл после обработки\n",
    "        elif order[i][1] == timeline:  # Если время шлифовки совпадает с текущим временем\n",
    "            order.pop(i)  # Удаляем деталь из словаря\n",
    "            break  # Прерываем цикл после обработки\n",
    "    timeline += 1  # Переходим к следующему моменту времени\n",
    "\n",
    "# После завершения цикла останется последняя деталь\n",
    "last_part = list(order.keys())[0]  # Получаем номер последней детали\n",
    "print(last_part, count)  # Выводим номер последней детали и количество отшлифованных до нее"
   ]
  }
 ],
 "metadata": {
  "kernelspec": {
   "display_name": "Python 3",
   "language": "python",
   "name": "python3"
  },
  "language_info": {
   "codemirror_mode": {
    "name": "ipython",
    "version": 3
   },
   "file_extension": ".py",
   "mimetype": "text/x-python",
   "name": "python",
   "nbconvert_exporter": "python",
   "pygments_lexer": "ipython3",
   "version": "3.12.8"
  }
 },
 "nbformat": 4,
 "nbformat_minor": 5
}
