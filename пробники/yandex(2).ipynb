{
 "cells": [
  {
   "cell_type": "markdown",
   "id": "b5e2ad2b",
   "metadata": {},
   "source": [
    "https://education.yandex.ru/ege/variants/31d08c52-c86e-4487-b7e4-6f7435f63344/task/1\n"
   ]
  },
  {
   "cell_type": "code",
   "execution_count": null,
   "id": "2ae72280",
   "metadata": {},
   "outputs": [],
   "source": [
    "print('x y w z F')\n",
    "for x in range(2):\n",
    "    for y in range(2):\n",
    "        for w in range(2):\n",
    "            for z in range(2):\n",
    "                f = (z <= x) and ((not y) and ((not w) == y))\n",
    "                if f == False:\n",
    "                    print(x,y,w,z,f)"
   ]
  },
  {
   "cell_type": "code",
   "execution_count": null,
   "id": "2b29efa8",
   "metadata": {},
   "outputs": [],
   "source": [
    "for n in range(1000,10000):\n",
    "    s = str(n)\n",
    "    if not '2' in s and not '4' in s and not '5' in s and not '8' in s and not '0' in s:\n",
    "        s = s.replace('3', '4')\n",
    "        s = s.replace('7','8')\n",
    "        r = int(s[0]) * int(s[1]) * int(s[2]) * int(s[3])\n",
    "        if r == 256:\n",
    "            print(n)"
   ]
  },
  {
   "cell_type": "code",
   "execution_count": null,
   "id": "3b837489",
   "metadata": {},
   "outputs": [],
   "source": [
    "import turtle as t\n",
    "t.speed(10)\n",
    "t.tracer(-1)\n",
    "k = 15\n",
    "\n",
    "for _ in range(3):\n",
    "    t.forward(5 * k)\n",
    "    t.right(90)\n",
    "    t.forward(12 * k)\n",
    "    t.right(90)\n",
    "\n",
    "t.up()\n",
    "t.forward(3*k)\n",
    "t.right(90)\n",
    "t.forward(2 * k)\n",
    "t.right(90)\n",
    "\n",
    "t.down()\n",
    "for _ in range(4):\n",
    "    t.forward(5 * k)\n",
    "    t.right(90)\n",
    "    t.forward(12 * k)\n",
    "\n",
    "t.up()\n",
    "for x in range(-10, 10):\n",
    "    for y in range(-15, 10):\n",
    "        t.goto(x * k, y * k)\n",
    "        t.dot()\n",
    "\n",
    "t.done()"
   ]
  },
  {
   "cell_type": "code",
   "execution_count": null,
   "id": "8480739f",
   "metadata": {},
   "outputs": [],
   "source": [
    "from itertools import product\n",
    "s = 'авенс'\n",
    "\n",
    "res = set()\n",
    "for x in product(s,repeat=5):\n",
    "    a = ''.join(x)\n",
    "    if a.count('в') == 2 and a[0] == \"н\":\n",
    "        if a.count('е') <= 1 and a.count('с') <= 1 and a.count('н') == 1 and a.count('а') <= 1:\n",
    "            res.add(a)\n",
    "print(len(res))"
   ]
  },
  {
   "cell_type": "code",
   "execution_count": null,
   "id": "d22ecb2f",
   "metadata": {},
   "outputs": [],
   "source": [
    "f = open('9.csv')\n",
    "k = 0\n",
    "for line in f:\n",
    "    a = [int(i) for i in line.split(',')]\n",
    "    povt = [i for i in a if a.count(i) == 2]\n",
    "    ne_povt = [i for i in a if a.count(i) == 1]\n",
    "    if len(set(povt)) == 2:\n",
    "        if sum(set(povt)) < sum(ne_povt):\n",
    "            k += 1\n",
    "print(k)"
   ]
  },
  {
   "cell_type": "code",
   "execution_count": null,
   "id": "995e9e60",
   "metadata": {},
   "outputs": [],
   "source": [
    "from ipaddress import ip_network\n",
    "\n",
    "net = ip_network(f\"172.17.167.18/255.255.240.0\",0)\n",
    "for ip in net:\n",
    "    s = f'{ip:b}'\n",
    "    print(ip)"
   ]
  }
 ],
 "metadata": {
  "kernelspec": {
   "display_name": "Python 3",
   "language": "python",
   "name": "python3"
  },
  "language_info": {
   "codemirror_mode": {
    "name": "ipython",
    "version": 3
   },
   "file_extension": ".py",
   "mimetype": "text/x-python",
   "name": "python",
   "nbconvert_exporter": "python",
   "pygments_lexer": "ipython3",
   "version": "3.12.8"
  }
 },
 "nbformat": 4,
 "nbformat_minor": 5
}
