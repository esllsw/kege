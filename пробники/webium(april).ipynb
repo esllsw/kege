{
 "cells": [
  {
   "cell_type": "code",
   "execution_count": null,
   "id": "a475e5ed",
   "metadata": {},
   "outputs": [],
   "source": [
    "#2\n",
    "print('x y w z F')\n",
    "for x in range(2):\n",
    "    for y in range(2):\n",
    "        for w in range(2):\n",
    "            for z in range(2):\n",
    "                f = z or (not w <= x) or ((not z) <= (not y))\n",
    "                if f == False:\n",
    "                    print(x,y,w,z,f)"
   ]
  },
  {
   "cell_type": "code",
   "execution_count": null,
   "id": "66db8309",
   "metadata": {},
   "outputs": [],
   "source": [
    "#5\n",
    "def tr(n):\n",
    "    s = ''\n",
    "    while n > 0:\n",
    "        s = str(n % 3) + s\n",
    "        n //= 3\n",
    "    return s\n",
    "res = []\n",
    "for n in range(1,1000):\n",
    "    s = tr(n)\n",
    "    a = sum(map(int, s)) % 4\n",
    "    if a == 0: \n",
    "        s = '1' + s\n",
    "        s = s[:-2]\n",
    "    else:\n",
    "        s += tr(a * 3)\n",
    "    r = int(s,3)\n",
    "    if r > 353:\n",
    "        res.append(r)\n",
    "print(min(res))"
   ]
  },
  {
   "cell_type": "code",
   "execution_count": null,
   "id": "96a6ce17",
   "metadata": {},
   "outputs": [],
   "source": [
    "#6\n",
    "import turtle as t\n",
    "\n",
    "t.speed(10)\n",
    "t.left(90)\n",
    "t.tracer(-1)\n",
    "k = 20\n",
    "\n",
    "t.back(5 * k)\n",
    "for _ in range(2):\n",
    "    t.forward(12 * k)\n",
    "    t.right(90)\n",
    "    t.forward(16 * k)\n",
    "    t.right(90)\n",
    "\n",
    "t.up()\n",
    "t.forward(3 * k)\n",
    "t.right(90)\n",
    "t.forward(5 * k)\n",
    "t.left(90)\n",
    "\n",
    "t.down()\n",
    "for _ in range(2):\n",
    "    t.forward(12 * k)\n",
    "    t.left(270)\n",
    "    t.back(-18 * k)\n",
    "    t.right(90)\n",
    "\n",
    "t.up()\n",
    "for x in range(1,20):\n",
    "    for y in range(1,10):\n",
    "        t.goto(x * k, y * k)\n",
    "        t.dot()\n",
    "t.done()"
   ]
  },
  {
   "cell_type": "markdown",
   "id": "5d7e85ce",
   "metadata": {},
   "source": [
    "Прибор автоматической фиксации нарушений правил дорожного движения делает цветные фотографии размером 1920×1080 пикселей, используя палитру из 4096 цветов. Для передачи снимки группируются в пакеты по 68 штук. Определите размер одного пакета фотографий в Кбайт."
   ]
  },
  {
   "cell_type": "code",
   "execution_count": null,
   "id": "30fa4bfa",
   "metadata": {},
   "outputs": [],
   "source": [
    "#7\n",
    "from math import log2\n",
    "I = 1920 * 1080 * log2(4096)\n",
    "s = I / 8 / 1024 * 68\n",
    "print(s)"
   ]
  },
  {
   "cell_type": "code",
   "execution_count": null,
   "id": "44ccc9ab",
   "metadata": {},
   "outputs": [],
   "source": [
    "#8\n",
    "from itertools import product\n",
    "s = 'ажзопю'\n",
    "k = 0\n",
    "cnt = 0\n",
    "for x in product(s,repeat=6):\n",
    "    a = ''.join(x)\n",
    "    k += 1\n",
    "    if k % 2 == 0:\n",
    "        if a[0] == 'а' and a.count('з') >= 2:\n",
    "            cnt += 1\n",
    "print(cnt)"
   ]
  },
  {
   "cell_type": "markdown",
   "id": "4e71b6c4",
   "metadata": {},
   "source": [
    "- в строке первое и последнее число не являются минимальным и максимальным числом строки;\n",
    "\n",
    "- разность максимального и минимального числа кратна разности оставшейся пары чисел."
   ]
  },
  {
   "cell_type": "code",
   "execution_count": null,
   "id": "bd2ebf56",
   "metadata": {},
   "outputs": [],
   "source": [
    "#9\n",
    "f = open('9.csv')\n",
    "k = 0\n",
    "for a in f:\n",
    "    x = list(map(int,a.split(';')))\n",
    "    if x[0] != max(x) and x[0] != min(x):\n",
    "        if x[-1] != max(x) and x[-1] != min(x):\n",
    "            x.sort()\n",
    "            if x[2] != x[1]:\n",
    "                if (x[-1] - x[0]) % (x[2] - x[1]) == 0:\n",
    "                    k += 1\n",
    "print(k)"
   ]
  },
  {
   "cell_type": "code",
   "execution_count": null,
   "id": "73b0dbca",
   "metadata": {},
   "outputs": [],
   "source": [
    "#12\n",
    "for n in range(4,100):\n",
    "    s = '2' + '5' * n\n",
    "    while '25' in s or '355' in s or '555' in s:\n",
    "        if '25' in s: s = s.replace('25','5',1)\n",
    "        if '355' in s: s = s.replace('355','52',1)\n",
    "        if '555' in s: s = s.replace('555','3',1)\n",
    "    if s.count('3') == 3:\n",
    "        print(n)"
   ]
  },
  {
   "cell_type": "code",
   "execution_count": null,
   "id": "d92a308e",
   "metadata": {},
   "outputs": [],
   "source": [
    "#13\n",
    "from ipaddress import *\n",
    "from fnmatch import *\n",
    "\n",
    "# Задаем ip адрес\n",
    "ip = ip_address('246.51.128.202')\n",
    "# Перебираем его маску\n",
    "for mask in range(33):\n",
    "    # Создаем сеть подходящую под маску\n",
    "    network = ip_network(f'{ip}/{mask}', 0)\n",
    "    # Если сеть подходит под маску '255.255.A.0'\n",
    "    if fnmatch(str(network.netmask), '255.255.*.0'):\n",
    "        # И если ip адрес не является адресом сети и широковещательным\n",
    "        if ip not in [network.network_address, network.broadcast_address]:\n",
    "            # Если для всех адресов сети выполняется условие, что суммарное количество нулей\n",
    "            # в левых двух байтах не более суммарного количества нулей в правых двух байтах\n",
    "            if all(f'{ip:b}'[:16].count('0') <= f'{ip:b}'[16:].count('0')\n",
    "                   for ip in network):\n",
    "                # Выводим эту маску\n",
    "                print(network.netmask)"
   ]
  },
  {
   "cell_type": "code",
   "execution_count": null,
   "id": "c5300305",
   "metadata": {},
   "outputs": [],
   "source": [
    "#14\n",
    "s = '0123456789abcdefghijklmnopq'\n",
    "for x in s:\n",
    "    s1 = f'8{x}38{x}68'\n",
    "    s2 = f'37{x}3163'\n",
    "    if (int(s1,27) + int(s2,27)) % 26 == 0:\n",
    "        print(x,(int(s1,27) + int(s2,27)) / 26)"
   ]
  },
  {
   "cell_type": "code",
   "execution_count": null,
   "id": "12d6e3e9",
   "metadata": {},
   "outputs": [],
   "source": [
    "#15\n",
    "def f(x,a):\n",
    "    return (x % a == 0) or ((x % 133 == 0) <= (x % 95 != 0))\n",
    "for a in range(1,2000):\n",
    "    if all(f(x,a) for x in range(1,2000)):\n",
    "        print(a)"
   ]
  },
  {
   "cell_type": "code",
   "execution_count": null,
   "id": "ccd06570",
   "metadata": {},
   "outputs": [],
   "source": [
    "#16\n",
    "def f(n):\n",
    "    if n >= 2222: return n\n",
    "    else: return f(n + 5) + 7\n",
    "\n",
    "print(f(45) - f(49))"
   ]
  },
  {
   "cell_type": "code",
   "execution_count": null,
   "id": "ab378c6b",
   "metadata": {},
   "outputs": [],
   "source": [
    "#17\n",
    "file = open('17.txt')  # открываем файл\n",
    "c = [int(i) for i in file]  # считываем из файла все числа в список\n",
    "max8 = max([i for i in c if str(i)[0] == '8'])  # находим максимальное число, начинающееся на 8\n",
    "min_sum = 10 ** 10  # переменная для хранения минимальной суммы подходящих троек\n",
    "count = 0  # переменная для хранения количества подходящих троек\n",
    "for i in range(len(c) - 2):  # перебираем числа из списка\n",
    "    tr = c[i:i + 3]  # делаем срез тройки чисел из списка\n",
    "    st6 = [j for j in tr if str(abs(j))[0] == '6']  # составляем список чисел тройки, начинающихся на 6\n",
    "    if len(st6) <= 1 and sum(tr) >= max8:  # если чисел, начинающихся на 6 не более 1 и сумма тройки больше максимального, начинающегося на 8\n",
    "        count += 1  # увеличиваем количество найденных чисел\n",
    "        min_sum = min(min_sum, sum(tr))  # обновляем минимальную сумму если требуется\n",
    "print(count, min_sum)  # выводим ответ"
   ]
  },
  {
   "cell_type": "code",
   "execution_count": null,
   "id": "e89e3d91",
   "metadata": {},
   "outputs": [],
   "source": [
    "#19-21\n",
    "def f(s,m):\n",
    "    if s <= 116: return m % 2 == 0\n",
    "    if m == 0: return 0\n",
    "    nm = [f(s - 7, m - 1), f(s // 3, m - 1)]\n",
    "    return any(nm) if (m - 1) % 2 == 0 else all(nm)\n",
    "\n",
    "print(19, [s for s in range(117,10001) if f(s,3) and not f(s,2)])\n",
    "print(20,[s for s in range(117,10001) if f(s,3) and not f(s,1)])\n",
    "print(20,[s for s in range(117,10001) if f(s,4) and not f(s,2)])"
   ]
  },
  {
   "cell_type": "code",
   "execution_count": null,
   "id": "653cb843",
   "metadata": {},
   "outputs": [],
   "source": [
    "#23\n",
    "def f(st,en):\n",
    "    if st == en: return 1\n",
    "    if st > en: return 0\n",
    "    return f(st + 4,en) + f(st * 2, en)\n",
    "\n",
    "print(f(13,42))"
   ]
  },
  {
   "cell_type": "code",
   "execution_count": null,
   "id": "03f12508",
   "metadata": {},
   "outputs": [],
   "source": [
    "#24, кринжа навалила, мне лень регулярки использовать, увы\n",
    "s = open('24.txt').readline()\n",
    "\n",
    "s = s.replace('66', ' ').replace('67', ' ').replace('68', ' ').replace('69', ' ')\n",
    "s = s.replace('76', ' ').replace('77', ' ').replace('78', ' ').replace('79', ' ')\n",
    "s = s.replace('86', ' ').replace('87', ' ').replace('88', ' ').replace('89', ' ')\n",
    "s = s.replace('96', ' ').replace('97', ' ').replace('98', ' ').replace('99', ' ')\n",
    "\n",
    "s = s.replace('AA', ' ').replace('AB', ' ').replace('AC', ' ')\n",
    "s = s.replace('BA', ' ').replace('BB', ' ').replace('BC', ' ')\n",
    "s = s.replace('CA', ' ').replace('CB', ' ').replace('CC', ' ')\n",
    "\n",
    "a = [c for c in s.split()]\n",
    "a = sorted(a,key=len,reverse=True)\n",
    "print(len(a[0]))"
   ]
  },
  {
   "cell_type": "code",
   "execution_count": null,
   "id": "8ed99d78",
   "metadata": {},
   "outputs": [],
   "source": [
    "s = open('24.txt').readline()  # открываем файл и считываем его в строку\n",
    "count = 1  # переменная, в которой будем хранить текущую длину подходящей подстроки, начинаем с 1, потому что при первом сработавшем условии символов уже будет 2\n",
    "maxi = 0  # переменная, в которой будем хранить максимальную длину подстроки\n",
    "bukv = 'ABC'  # строка со всеми буквами, чтобы сравнивать их в условии\n",
    "for i in range(1, len(s)):  # перебираем символы из строки\n",
    "    if (s[i] in bukv) != (s[i - 1] in bukv):  # если два соседних элемента не являются оба буквами или оба числами\n",
    "        count += 1  # увеличиваем счетчик\n",
    "        maxi = max(maxi, count)  # обновляем максимальное, если требуется\n",
    "    else:  # если нашли рядом букву с буквой или цифру с цифрой\n",
    "        count = 1  # обнуляем счетчик\n",
    "print(maxi)  # выводим ответ"
   ]
  },
  {
   "cell_type": "code",
   "execution_count": null,
   "id": "4c721937",
   "metadata": {},
   "outputs": [],
   "source": [
    "#25\n",
    "from fnmatch import fnmatch\n",
    "s1 = '4*5*6'\n",
    "s2 = '?74*68?'\n",
    "for i in range(1234, 10 ** 10 + 1, 1234):\n",
    "    if fnmatch(str(i),s1):\n",
    "        if fnmatch(str(i),s2):\n",
    "            print(i, i // 1234)"
   ]
  },
  {
   "cell_type": "code",
   "execution_count": null,
   "id": "ce410d4d",
   "metadata": {},
   "outputs": [],
   "source": [
    "#27\n",
    "\n",
    "# f = open('27A.txt')\n",
    "\n",
    "# k1, k2 = [], []\n",
    "# for line in f:\n",
    "#     x, y = list(map(float,line.split()))\n",
    "#     if x >2:\n",
    "#         k1.append([x,y])\n",
    "#     else:\n",
    "#         k2.append([x,y])\n",
    "\n",
    "f = open('27B.txt')\n",
    "\n",
    "k1, k2, k3 = [], [], []\n",
    "for line in f:\n",
    "    x,y = list(map(float,line.split()))\n",
    "    if y < -2.9:\n",
    "        k1.append([x,y])\n",
    "    elif x > 3.5:\n",
    "        k2.append([x,y])\n",
    "    else:\n",
    "        k3.append([x,y])\n",
    "\n",
    "def dist(a,b):\n",
    "    return max(abs(b[0] - a[0]), abs(b[1] - a[1]))\n",
    "\n",
    "def centroid(cluster):\n",
    "    sum_res = 10 ** 20\n",
    "    final = []\n",
    "    for a in cluster:\n",
    "        sum_dist = sum(dist(point,a) for point in cluster)\n",
    "        if sum_dist < sum_res:\n",
    "            sum_res = sum_dist\n",
    "            final = a\n",
    "    return final\n",
    "\n",
    "center = [centroid(cluster) for cluster in (k1,k2,k3)]\n",
    "px = sum(x for x,y in center) / len(center) * 10000\n",
    "py = sum(y for x,y in center) / len(center) * 10000\n",
    "\n",
    "print(px, py)"
   ]
  },
  {
   "cell_type": "code",
   "execution_count": null,
   "id": "2d550a6a",
   "metadata": {},
   "outputs": [],
   "source": [
    "#26\n",
    "f = open('26.txt')\n",
    "n = int(f.readline())\n",
    "a = [[int(y) for y in x.split()] for x in f]\n",
    "a.sort()\n",
    "mx = 0\n",
    "k = 0\n",
    "for i in range(1, n - 1):\n",
    "    if (a[i - 1][0] == a[i][0] and a[i][0] == a[i + 1][0] and\n",
    "        a[i][1] - a[i - 1][1] == 6 and a[i + 1][1] - a[i][1] == 6):\n",
    "        k += 1\n",
    "        mx = a[i][0]\n",
    "print(mx, k)"
   ]
  },
  {
   "cell_type": "code",
   "execution_count": null,
   "id": "0633775c",
   "metadata": {},
   "outputs": [],
   "source": []
  }
 ],
 "metadata": {
  "kernelspec": {
   "display_name": "Python 3",
   "language": "python",
   "name": "python3"
  },
  "language_info": {
   "codemirror_mode": {
    "name": "ipython",
    "version": 3
   },
   "file_extension": ".py",
   "mimetype": "text/x-python",
   "name": "python",
   "nbconvert_exporter": "python",
   "pygments_lexer": "ipython3",
   "version": "3.12.8"
  }
 },
 "nbformat": 4,
 "nbformat_minor": 5
}
