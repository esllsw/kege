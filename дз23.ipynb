{
 "cells": [
  {
   "cell_type": "code",
   "execution_count": null,
   "metadata": {},
   "outputs": [],
   "source": [
    "f = {5: 1}\n",
    "for n in range(6,50):\n",
    "    f[n] = 0\n",
    "    f[n] += f[n-1]\n",
    "    if n % 3 == 0 and n // 3 > 4: f[n] += f[n//3]\n",
    "print(f)\n"
   ]
  },
  {
   "cell_type": "code",
   "execution_count": null,
   "metadata": {},
   "outputs": [],
   "source": [
    "f= {1: 1}\n",
    "for n in range(2,14):\n",
    "    f[n] = 0\n",
    "    f[n] += f[n-1]\n",
    "    if n - 2 in f: f[n] += f[n-2]\n",
    "    if n % 4 == 0: f[n] += f[n//4]\n",
    "print(f)\n"
   ]
  },
  {
   "cell_type": "code",
   "execution_count": null,
   "metadata": {},
   "outputs": [],
   "source": [
    "f = {3: 1}\n",
    "for n in range(4,21):\n",
    "    f[n] = 0\n",
    "    f[n] += f[n-1]\n",
    "    if n - 3 in f: f[n] += f[n-3]\n",
    "    if n == 12: \n",
    "        for x in range(n):\n",
    "            f[x] = 0\n",
    "print(f)"
   ]
  },
  {
   "cell_type": "code",
   "execution_count": null,
   "metadata": {},
   "outputs": [],
   "source": [
    "f = {1: 1}\n",
    "for n in range(2,31):\n",
    "    f[n] = 0\n",
    "    f[n] += f[n-1]\n",
    "    if n % 2 == 0: f[n] += f[n//2]\n",
    "    if n == 10: f[n] = 0\n",
    "print(f)"
   ]
  },
  {
   "cell_type": "code",
   "execution_count": null,
   "metadata": {},
   "outputs": [],
   "source": [
    "f = {1: 0, 2:0, 3: 1}\n",
    "for n in range(4,22):\n",
    "    f[n] = 0\n",
    "    f[n] += f[n-1]\n",
    "    if n - 3 in f: f[n] += f[n-3]\n",
    "    if n % 2 == 0: f[n] += f[n//2]\n",
    "    if n == 8:\n",
    "        for x in range(n):\n",
    "            f[x] = 0\n",
    "    if n == 12: f[n] = 0\n",
    "print(f)"
   ]
  },
  {
   "cell_type": "code",
   "execution_count": null,
   "metadata": {},
   "outputs": [],
   "source": [
    "f = {0: 0, 1: 1}\n",
    "for n in range(2,64):\n",
    "    f[n] = 0\n",
    "    f[n] += f[n-2]\n",
    "    if n % 3 == 0: f[n] += f[n//3]\n",
    "    if n == 6: f[n] = 0\n",
    "    if n == 25:\n",
    "        for x in range(n):\n",
    "            f[x] = 0\n",
    "print(f)"
   ]
  },
  {
   "cell_type": "code",
   "execution_count": null,
   "metadata": {},
   "outputs": [],
   "source": [
    "f= {0: 0, 1: 1}\n",
    "for n in range(2,29):\n",
    "    f[n] = 0\n",
    "    f[n] += f[n-1]\n",
    "    f[n] += f[n-2]\n",
    "    if n % 3 == 0: f[n] += f[n//3]\n",
    "    if n == 8: \n",
    "        for x in range(n):\n",
    "            f[x] = 0\n",
    "    if n in (10,11): f[n] = 0\n",
    "print(f)"
   ]
  },
  {
   "cell_type": "code",
   "execution_count": null,
   "metadata": {},
   "outputs": [],
   "source": [
    "def f(st, en):\n",
    "    if st == en: return 1\n",
    "    if st < en: return 0\n",
    "    return f(st-1,en) + f(st//2,en)\n",
    "\n",
    "print(f(30,9) * f(9,1))"
   ]
  },
  {
   "cell_type": "code",
   "execution_count": null,
   "metadata": {},
   "outputs": [],
   "source": [
    "def f(st, en):\n",
    "    if st == en: return 1\n",
    "    if st < en: return 0\n",
    "    return f(st-3, en) + f(st//7,en)\n",
    "print(f(50,1))"
   ]
  },
  {
   "cell_type": "code",
   "execution_count": null,
   "metadata": {},
   "outputs": [],
   "source": [
    "def f(st,en):\n",
    "    if st == en: return 1\n",
    "    if st > en or st == 22: return 0\n",
    "    return f(st+1,en) + f(st+3,en) + f(st*st,en)\n",
    "print(f(2,17) * f(17,25))"
   ]
  },
  {
   "cell_type": "code",
   "execution_count": null,
   "metadata": {},
   "outputs": [],
   "source": [
    "def f(st,en):\n",
    "    if st == en: return 1\n",
    "    if st > en or st == 30: return 0\n",
    "    return f(st+1,en) + f(st*3,en) + f(st*4,en)\n",
    "print(f(2,15)*f(15,100))"
   ]
  },
  {
   "cell_type": "code",
   "execution_count": null,
   "metadata": {},
   "outputs": [],
   "source": [
    "def f(st,en):\n",
    "    if st == en: return 1\n",
    "    if st > en or st == 9: return 0\n",
    "    return f(st+1,en) + f(st*2,en)\n",
    "print(f(2,12)*f(12,42))"
   ]
  },
  {
   "cell_type": "code",
   "execution_count": null,
   "metadata": {},
   "outputs": [],
   "source": [
    "def f(st,en):\n",
    "    if st == en: return 1\n",
    "    if st > en or st == 20: return 0\n",
    "    return f(st+1,en) + f(st+2,en) + f(st*3,en)\n",
    "print(f(4,10)*f(10,22))"
   ]
  },
  {
   "cell_type": "code",
   "execution_count": null,
   "metadata": {},
   "outputs": [],
   "source": [
    "def f(st,en):\n",
    "    if st == en: return 1\n",
    "    if st > en or st == 13 or st == 15: return 0\n",
    "    return f(st+1,en) + f(st+2,en) + f(st*3,en)\n",
    "print(f(5,11)*f(11,26))"
   ]
  },
  {
   "cell_type": "code",
   "execution_count": null,
   "metadata": {},
   "outputs": [],
   "source": [
    "def f(s,e):\n",
    "    if s == e: return 1\n",
    "    if s > e: return 0\n",
    "    return f(s+2,e) + f(s*2,e)\n",
    "print(f(1,24)*f(24,50))"
   ]
  },
  {
   "cell_type": "code",
   "execution_count": null,
   "metadata": {},
   "outputs": [],
   "source": [
    "\n",
    "def f(st,en):\n",
    "    if st == en: return 1\n",
    "    if st > en or '5' in str(st): return 0\n",
    "    if st < en: return f(st + 1,en) + f(st + 5, en)\n",
    "print(f(1,30))"
   ]
  },
  {
   "cell_type": "code",
   "execution_count": null,
   "metadata": {},
   "outputs": [],
   "source": [
    "def f(st,en):\n",
    "    if st == en: return 1\n",
    "    if st > en or '7' in str(st): return 0\n",
    "    return f(st+1,en) + f(st+7,en)\n",
    "print(f(1,61))"
   ]
  },
  {
   "cell_type": "code",
   "execution_count": null,
   "metadata": {},
   "outputs": [],
   "source": [
    "def f(st,en):\n",
    "    if en > st or st == 18: return 0\n",
    "    if st == en: return 1\n",
    "    s = f(st - 2, en)\n",
    "    if st % 2 == 0:\n",
    "        s += f(st // 2, en)\n",
    "    else:\n",
    "        s += f(st - 3, en)\n",
    "    return s\n",
    "print(f(55,3))"
   ]
  },
  {
   "cell_type": "code",
   "execution_count": null,
   "metadata": {},
   "outputs": [],
   "source": [
    "def f(st,en):\n",
    "    if en > st: return 0\n",
    "    if st == en: return 1\n",
    "    return f(st - 3, en) + f(st//3, en)\n",
    "print(f(35,8) * f(8,1))"
   ]
  },
  {
   "cell_type": "code",
   "execution_count": null,
   "metadata": {},
   "outputs": [],
   "source": [
    "def f(st,en):\n",
    "    if en > st or st == 40: return 0\n",
    "    if st == en: return 1\n",
    "    return f(st - 3, en) + f(st // 2, en) + f(st // 5, en)\n",
    "print(f(120,49)*f(49,6))"
   ]
  },
  {
   "cell_type": "code",
   "execution_count": null,
   "metadata": {},
   "outputs": [],
   "source": [
    "def f(st,en):\n",
    "    if st == en: return 1\n",
    "    if st > en: return 0\n",
    "    return f(st + 2, en) + f(st + 3, en) + f(st * 2, en)\n",
    "print(f(8,35) - f(8,20) * f(20,30) * f(30,35))"
   ]
  },
  {
   "cell_type": "code",
   "execution_count": null,
   "metadata": {},
   "outputs": [],
   "source": [
    "# Вводим функцию от 3 параметров: начало траектории st,\n",
    "# конец траектории en, счетчик ходов -1 подряд count\n",
    "\n",
    "def f(st, en, count):\n",
    "   # Обычное условие для неподходящих траекторий st > en не подойдёт.\n",
    "   # Из st == 35 или 36 можно ходить -1 вплоть до 2 раз подряд, поэтому\n",
    "   # напишем условие на неподходящую траекторию с учетом обоих этих нюансов\n",
    "   # Если начало траектории превысило 36 или сходили -1 более 2 раз подряд \n",
    "   if st > en + 2 or count > 2: return 0\n",
    "   if st == en: return 1 # Возврат подходящих траекторий \n",
    "   return f(st - 1, en, count + 1) + f(st * 2, en, 0) + f(st + 5, en, 0)  # Возврат хода -1 с ростом счетчика ходов -1 подряд и остальных с обнулением счетчика\n",
    "\n",
    "print(f(5, 34, 0))"
   ]
  },
  {
   "cell_type": "code",
   "execution_count": 1,
   "metadata": {},
   "outputs": [
    {
     "name": "stdout",
     "output_type": "stream",
     "text": [
      "174034068\n"
     ]
    }
   ],
   "source": [
    "def f(st,en):\n",
    "    if st == en: return 1\n",
    "    if st > en or st == 35: return 0\n",
    "    return f(st + 1,en) + f(st + 2, en) + f(st  * 2, en)\n",
    "print(f(7,13) * f(13,15) * f(15,51))"
   ]
  },
  {
   "cell_type": "code",
   "execution_count": 2,
   "metadata": {},
   "outputs": [
    {
     "name": "stdout",
     "output_type": "stream",
     "text": [
      "115\n"
     ]
    }
   ],
   "source": [
    "def f(st,en):\n",
    "    if st == en: return 1\n",
    "    if en > st or st == 24: return 0\n",
    "    return f(st - 1, en) + f(st - 6, en) + f(st // 2, en)\n",
    "print(f(34,29) * f(29,19) * f(19,6)) "
   ]
  }
 ],
 "metadata": {
  "kernelspec": {
   "display_name": "Python 3",
   "language": "python",
   "name": "python3"
  },
  "language_info": {
   "codemirror_mode": {
    "name": "ipython",
    "version": 3
   },
   "file_extension": ".py",
   "mimetype": "text/x-python",
   "name": "python",
   "nbconvert_exporter": "python",
   "pygments_lexer": "ipython3",
   "version": "3.12.8"
  }
 },
 "nbformat": 4,
 "nbformat_minor": 2
}
