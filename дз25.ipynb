{
 "cells": [
  {
   "cell_type": "code",
   "execution_count": null,
   "metadata": {},
   "outputs": [],
   "source": [
    "from itertools import product\n",
    "cif = '0123456789'\n",
    "from fnmatch import fnmatch  # импортируем библиотеку для масок чисел"
   ]
  },
  {
   "cell_type": "code",
   "execution_count": null,
   "metadata": {},
   "outputs": [],
   "source": [
    "res = set()\n",
    "for b in cif:\n",
    "    for k in range(2):\n",
    "        for a in product(cif,repeat=k):\n",
    "            a = ''.join(a)\n",
    "            x = '2' + a + '5443' + b + '1'\n",
    "            x = int(x)\n",
    "            if x % 23 == 0 and x <= 10**8:\n",
    "                res.add(x)\n",
    "for x in sorted(res):\n",
    "    print(x,x//23)"
   ]
  },
  {
   "cell_type": "code",
   "execution_count": null,
   "metadata": {},
   "outputs": [],
   "source": [
    "s = '2*5443?1'  # в отдельную строковую переменную поместим маску\n",
    "\n",
    "for i in range(23, 10 ** 8 + 1, 23):  # пройдемся циклом по всем числам из нашего промежутка, начиная с 23 и с шагом 23, то есть все числа в цикле будут кратны 23\n",
    "  if fnmatch(str(i), s):  # если число соответствует маске\n",
    "    print(i, i // 23)  # то печатаем само число и результат его деления на 23"
   ]
  },
  {
   "cell_type": "code",
   "execution_count": null,
   "metadata": {},
   "outputs": [],
   "source": [
    "res = set()\n",
    "for a in cif:\n",
    "    for b in cif:\n",
    "        x = '12345' + a + '7' + b + '8'\n",
    "        x = int(x)\n",
    "        if x <= 10**9 and x % 23 == 0:\n",
    "            res.add(x)\n",
    "for x in sorted(res):\n",
    "    print(x,x//23)"
   ]
  },
  {
   "cell_type": "code",
   "execution_count": null,
   "metadata": {},
   "outputs": [],
   "source": [
    "s = '12345?7?8'\n",
    "for i in range(23,10**9 + 1, 23):\n",
    "    if fnmatch(str(i),s):\n",
    "        print(i,i//23)"
   ]
  },
  {
   "cell_type": "code",
   "execution_count": null,
   "metadata": {},
   "outputs": [],
   "source": [
    "s = '2?34?56?8'\n",
    "\n",
    "for i in range(151,10 ** 9 + 1, 151):\n",
    "    if fnmatch(str(i),s):\n",
    "        print(i,i//151)"
   ]
  },
  {
   "cell_type": "code",
   "execution_count": null,
   "metadata": {},
   "outputs": [],
   "source": [
    "s = '12??36*1'\n",
    "\n",
    "for i in range(273,10**8 + 1,273):\n",
    "    if fnmatch(str(i),s):\n",
    "        print(i,i//273)"
   ]
  },
  {
   "cell_type": "code",
   "execution_count": null,
   "metadata": {},
   "outputs": [],
   "source": [
    "s = '1?2139*4'\n",
    "\n",
    "for i in range(3052,10**10 + 1,3052):\n",
    "    if fnmatch(str(i),s):\n",
    "        print(i,i//3052)"
   ]
  },
  {
   "cell_type": "code",
   "execution_count": null,
   "metadata": {},
   "outputs": [],
   "source": [
    "s = '32?056*6'\n",
    "\n",
    "for i in range(2023,10**10+1,2023):\n",
    "    if fnmatch(str(i),s):\n",
    "        print(i,i//2023)"
   ]
  },
  {
   "cell_type": "code",
   "execution_count": null,
   "metadata": {},
   "outputs": [],
   "source": [
    "s = '*15*7424'\n",
    "\n",
    "for i in range(127,10**8 + 1,127):\n",
    "    if fnmatch(str(i),s):\n",
    "        print(i,i//127)"
   ]
  },
  {
   "cell_type": "code",
   "execution_count": null,
   "metadata": {},
   "outputs": [],
   "source": [
    "s = '?136*'\n",
    "\n",
    "for i in range(53191,10**10+1,53191):\n",
    "    if fnmatch(str(i),s):\n",
    "        print(i,i//53191)"
   ]
  },
  {
   "cell_type": "code",
   "execution_count": null,
   "metadata": {},
   "outputs": [],
   "source": [
    "def divs(x):\n",
    "    res = set()\n",
    "    for i in range(2,int(x**0.5)+1):\n",
    "        if x % i == 0:\n",
    "            res.add(i)\n",
    "            res.add(x//i)\n",
    "    return sorted(res)\n",
    "\n",
    "k = 0\n",
    "x = 150000\n",
    "while k < 7:\n",
    "    x += 1\n",
    "    d = divs(x)\n",
    "    s = sum(d)\n",
    "    if s % 13 == 10:\n",
    "        print(x,s)\n",
    "        k += 1"
   ]
  },
  {
   "cell_type": "code",
   "execution_count": null,
   "metadata": {},
   "outputs": [],
   "source": [
    "def divs(x):\n",
    "    res = {1,x}\n",
    "    for i in range(1,int(x**0.5)+1):\n",
    "        if x % i == 0:\n",
    "            res.add(i)\n",
    "            res.add(x//i)\n",
    "    return sorted(res)\n",
    "\n",
    "k = 0\n",
    "for x in range(6638225, 6638322+1):\n",
    "    d = divs(x)\n",
    "    if len(d) == 2:\n",
    "        k += 1\n",
    "        print(k,x)"
   ]
  },
  {
   "cell_type": "code",
   "execution_count": null,
   "metadata": {},
   "outputs": [],
   "source": [
    "def divs(x):\n",
    "    res = {1,x}\n",
    "    for i in range(1,int(x**0.5)+1):\n",
    "        if x % i == 0:\n",
    "            res.add(i)\n",
    "            res.add(x//i)\n",
    "    return sorted(res)\n",
    "\n",
    "\n",
    "for x in range(190201, 190260+1):\n",
    "    k = 0\n",
    "    d = divs(x)\n",
    "    for s in d:\n",
    "        if s % 2 == 0:\n",
    "            k += 1\n",
    "    if k == 4:\n",
    "        print(d[-1],d[-3])"
   ]
  },
  {
   "cell_type": "code",
   "execution_count": null,
   "metadata": {},
   "outputs": [],
   "source": [
    "def divs(x):\n",
    "    res = set()\n",
    "    for i in range(1,int(x**0.5)+1):\n",
    "        if x % i == 0:\n",
    "            res.add(i)\n",
    "            res.add(x//i)\n",
    "    return sorted(res)\n",
    "\n",
    "def is_prime(x):\n",
    "    if x == 1:\n",
    "        return False\n",
    "    if x in (2, 3):\n",
    "        return True\n",
    "    for i in range(2, int(x**0.5)+1):\n",
    "        if x % i == 0:\n",
    "            return False\n",
    "    return True\n",
    "\n",
    "def prime_divisors(x):\n",
    "    div = divs(x)\n",
    "    if div:\n",
    "        return set(filter(is_prime, div))\n",
    "\n",
    "n = 500000\n",
    "k = 0\n",
    "\n",
    "while k < 7:\n",
    "    if pd := prime_divisors(n):\n",
    "        S = sum(pd)\n",
    "        if S % 10 == 0:\n",
    "            print(n, S)\n",
    "            k += 1\n",
    "    n -= 1"
   ]
  },
  {
   "cell_type": "code",
   "execution_count": null,
   "metadata": {},
   "outputs": [],
   "source": [
    "def pr(x):\n",
    "    for i in range(2,int(x**0.5)+1):\n",
    "        if x % i == 0:\n",
    "            return False\n",
    "    return True\n",
    "\n",
    "k = 0\n",
    "a = []\n",
    "for x in range(10_000_000,9000000,-1):\n",
    "    if pr(x):\n",
    "        k += 1\n",
    "        a.append((10_000_000-x,x))\n",
    "        if k == 5:\n",
    "            break\n",
    "print(*a[::-1])\n",
    "k = 0\n",
    "for x in range(10000000,11000000):\n",
    "    if pr(x):\n",
    "        k +=1\n",
    "        print(x-10000000,x)\n",
    "        if k == 5:\n",
    "            break"
   ]
  },
  {
   "cell_type": "code",
   "execution_count": null,
   "metadata": {},
   "outputs": [],
   "source": [
    "def prosto(x):\n",
    "    for i in range(2, int(x**0.5)+1):\n",
    "        if x % i == 0:\n",
    "            return False\n",
    "    return True\n",
    "\n",
    "k=0\n",
    "a = []\n",
    "for x in range(10_000_000, 9_000_000, -1):\n",
    "    if prosto(x):\n",
    "        k += 1\n",
    "        a.append((10_000_000 - x, x))\n",
    "        if k==5:\n",
    "            break\n",
    "print(*a[::-1])\n",
    "k=0\n",
    "for x in range(10_000_000, 11_000_000):\n",
    "    if prosto(x):\n",
    "        k += 1\n",
    "        print(x-10_000_000, x)\n",
    "        if k==5:\n",
    "            break"
   ]
  },
  {
   "cell_type": "code",
   "execution_count": null,
   "metadata": {},
   "outputs": [],
   "source": [
    "def divs(x):\n",
    "    res = set()\n",
    "    for i in range(2,int(x**0.5)+1):\n",
    "        if x % i == 0:\n",
    "            if i % 10 == 7:\n",
    "                res.add(i)\n",
    "            if (x//i) % 10 == 7:\n",
    "                res.add(x//i)\n",
    "    return sorted(res)\n",
    "\n",
    "k = 0\n",
    "x = 550000\n",
    "while k < 5:\n",
    "    x += 1\n",
    "    d = divs(x)\n",
    "    if len(d) == 3:\n",
    "        print(x,d[-1])\n",
    "        k += 1"
   ]
  },
  {
   "cell_type": "code",
   "execution_count": null,
   "metadata": {},
   "outputs": [],
   "source": [
    "def divs(x):\n",
    "    res = set()\n",
    "    for i in range(2,int(x**0.5)+1):\n",
    "        if x % i == 0:\n",
    "            if i % 5 == 0 and i % 7 == 0 and i % 13 == 0 and i % 25 != 0 and i % 49 != 0 and i % 13**2 != 0 and i <=100000 and i % 100 == 19:\n",
    "                res.add(i)\n",
    "            if (x//i) % 5 == 0 and (x//i) % 7 == 0 and (x//i) % 13 == 0 and (x//i) % 25 != 0 and (x//i) % 49 != 0 and (x//i) % 169 != 0 and (x//i) <= 100000 and (x//i)%100 == 19:\n",
    "                res.add(x//i)\n",
    "    return sorted(res)\n",
    "\n",
    "\n",
    "for x in range(224466, 664422+1):\n",
    "    d = divs(x)\n",
    "    if len(d) > 0:\n",
    "        print(x,d[-1])"
   ]
  },
  {
   "cell_type": "code",
   "execution_count": null,
   "metadata": {},
   "outputs": [],
   "source": [
    "from fnmatch import fnmatch\n",
    "for i in range(27,10**8+1,27):\n",
    "    if fnmatch(str(i),'123*890'):\n",
    "        print(i,i//27)"
   ]
  },
  {
   "cell_type": "code",
   "execution_count": null,
   "metadata": {},
   "outputs": [],
   "source": [
    "def prosto(x):\n",
    "    for i in range(2, int(x**0.5)+1):\n",
    "        if x % i == 0:\n",
    "            return False\n",
    "    return True\n",
    "\n"
   ]
  },
  {
   "cell_type": "code",
   "execution_count": null,
   "metadata": {},
   "outputs": [],
   "source": [
    "from itertools import product\n",
    "cif = '0123456789'\n",
    "def divs(x):\n",
    "    res = set()\n",
    "    for i in range(2,int(x**0.5)+1):\n",
    "        if x % i == 0:\n",
    "            res.add(i)\n",
    "            res.add(x//i)\n",
    "    return sorted(res)\n",
    "\n",
    "for a in cif:\n",
    "    for k in range(3):\n",
    "        for b in product(cif,repeat=k):\n",
    "            b = ''.join(b)\n",
    "            s = '12' + a + b + '45'\n",
    "            x = int(s)\n",
    "            d = divs(x)\n",
    "            if len(d) == 18:\n",
    "                print(x,d[-1])\n"
   ]
  },
  {
   "cell_type": "code",
   "execution_count": null,
   "metadata": {},
   "outputs": [],
   "source": [
    "def prosto(x):\n",
    "    for i in range(2,int(x**0.5)+1):\n",
    "        if x // i == 0:\n",
    "            return False\n",
    "    return True\n",
    "\n",
    "def divs(x):\n",
    "    res = set()\n",
    "    for i in range(1,int(x**0.5)+1):\n",
    "        if x % i == 0:\n",
    "            res.add(i)\n",
    "            res.add(x//i)\n",
    "    return sorted(res)\n",
    "\n",
    "def prime_divisors(x):\n",
    "    div = divs(x)\n",
    "    if div:\n",
    "        return set(filter(prosto, div))\n",
    "\n",
    "k = 0 \n",
    "s =0\n",
    "x = 250000\n",
    "while k < 5:\n",
    "    x += 1\n",
    "    if pd := prime_divisors(x):\n",
    "        S = sum(pd)\n",
    "        if S % 17 == 0 and S != 0:\n",
    "            print(x, S)\n",
    "            k += 1\n",
    "        "
   ]
  },
  {
   "cell_type": "code",
   "execution_count": null,
   "metadata": {},
   "outputs": [],
   "source": [
    "def prime(n):  # создаем функцию для проверки на то, что число простое\n",
    "    if n < 2:  # если число меньше двух, число не простое\n",
    "        return False\n",
    "    for i in range(2, int(n ** 0.5) + 1):  # проходимся по потенциальным делителям\n",
    "        if n % i == 0:  # если поделилось на что-то возвращаем False\n",
    "            return False\n",
    "    return True  # если цикл полностью завершился, значит число ни на что не поделилось, возвращаем True\n",
    "\n",
    "\n",
    "count = 0  # счетчик для подсчета подходящих\n",
    "for x in range(250001, 10 ** 10):  # перебираем число большие 250000\n",
    "    S = 0  # переменная для суммы простых делителей\n",
    "    for i in range(1, x):  # перебираем возможные делители числа\n",
    "        if x % i == 0 and prime(i):  # проверяем делится ли число и является ли делитель простым\n",
    "            S += i  # если да, то добавляем в сумму\n",
    "    if S % 17 == 0 and S != 0:  # если получившаяся сумма делится на 17 и не равна нулю\n",
    "        print(x, S)  # выводим ответ\n",
    "        count += 1  # прибавляем в счетчик ответов 1\n",
    "    if count == 5:  # если нашлось 5 завершаем цикл перебора\n",
    "        break"
   ]
  },
  {
   "cell_type": "code",
   "execution_count": null,
   "metadata": {},
   "outputs": [],
   "source": [
    "from fnmatch import fnmatch\n",
    "\n",
    "s1 = '*0??3*'\n",
    "s2 = '*4??2'\n",
    "s3 ='*1*'\n",
    "for i in range(700001,1000000):\n",
    "    if i % 13 == 0 and (not fnmatch(str(i),s1)) and (not fnmatch(str(i),s2)) and (not fnmatch(str(i),s3)):\n",
    "        print(i)"
   ]
  },
  {
   "cell_type": "code",
   "execution_count": null,
   "metadata": {},
   "outputs": [],
   "source": [
    "def is_composite(n):  # функция для проверки, является ли число составным\n",
    "    # составное имеет хотя бы один делитель кроме 1 и самого числа\n",
    "    for i in range(2, int(n ** 0.5) + 1):\n",
    "        if n % i == 0:  # если число поделилось нацело на что-то\n",
    "            return True  # возвращаем True\n",
    "    return False  # иначе возвращаем False\n",
    "\n",
    "def min_prime_divisor(n):  # функция для нахождения минимального простого делителя числа n\n",
    "    for i in range(2, int(n ** 0.5) + 1):  # действуем также как в предыдущей функции\n",
    "        if n % i == 0:\n",
    "            return i  # но возвращаем первый делитель\n",
    "    return n  # или, если делителей не нашлось, само число\n",
    "\n",
    "k = 0  # счетчик подходящих чисел\n",
    "for i in range(20222023, 2022, -1):  # перебираем числа на отрезке [2022, 20222022], начиная с максимального\n",
    "    if is_composite(i):  # проверяем, является ли число составным\n",
    "        if min_prime_divisor(i) > 100:  # проверяем условие на минимальный простой делитель\n",
    "            print(i, min_prime_divisor(i))  # выводим, если условия выполнились\n",
    "            k += 1  # добавляем к счетчику +1\n",
    "    if k == 5:  # если накопилось 5\n",
    "        break  # завершаем цикл"
   ]
  },
  {
   "cell_type": "code",
   "execution_count": null,
   "metadata": {},
   "outputs": [],
   "source": [
    "from itertools import product  # импортируем product для перебор комбинаций на месте *\n",
    "\n",
    "# сначала проанализируем маску 32*54?123, так как число должно быть меньше чем 10^13, то число состоит максимум из тринадцати цифр,\n",
    "# с уже имеющимися цифрами и знаком вопроса получается 8 цифр, значит на месте звездочки могут стоять комбинации из 0, 2ух или 4ех цифр,\n",
    "# так как общее кол-во цифр в числе должно быть четным\n",
    "for i in (0, 2, 4):  # перебираем кол-во цифр на месте звездочки\n",
    "    for j in product('123456789', repeat=i):  # перебираем все возможные комбинации на место звездочки, 0 не учитываем, так как его не должно быть в числе\n",
    "        j = ''.join(j)  # соединяем комбинацию, на место *\n",
    "        for k in '123456789':  # перебираем цифру на место ?, 0 не перебираем, так как его не должно быть в числе\n",
    "            x = f'32{j}54{k}123'  # собираем всё число\n",
    "            if sum(map(int, x[len(x) // 2:])) == sum(map(int, x[:len(x) // 2])) and int(x) % 519 == 0: # суммы половин числа берем через срезы и проверяем число на кратность\n",
    "                print(x, int(x) // 519)  # выводим число и его частное от деления на 519"
   ]
  },
  {
   "cell_type": "code",
   "execution_count": null,
   "metadata": {},
   "outputs": [],
   "source": [
    "s = '2?1*67'\n",
    "for i in range(159,10**7 + 1, 159):\n",
    "    if fnmatch(str(i),s):\n",
    "        print(i,i//159)"
   ]
  },
  {
   "cell_type": "code",
   "execution_count": null,
   "metadata": {},
   "outputs": [],
   "source": [
    "s = '2*1234?6'\n",
    "for i in range(37, 10 ** 8 + 1, 37):\n",
    "    if fnmatch(str(i),s):\n",
    "        print(i,i//37)"
   ]
  },
  {
   "cell_type": "code",
   "execution_count": null,
   "metadata": {},
   "outputs": [],
   "source": [
    "def prime(n):\n",
    "    if n < 2: return False\n",
    "    for i in range(2,int(n**0.5) + 1):\n",
    "        if n % i == 0: \n",
    "            return False\n",
    "    return True\n",
    "\n",
    "k = 0\n",
    "for i in range(1547341,1547409 + 1):\n",
    "    if prime(i):\n",
    "        k += 1\n",
    "        print(k,i)"
   ]
  },
  {
   "cell_type": "code",
   "execution_count": null,
   "metadata": {},
   "outputs": [],
   "source": [
    "s = '21???68?79'\n",
    "for i in range(1777,10**10 + 1,1777):\n",
    "    if fnmatch(str(i),s):\n",
    "        print(i,i//1777)"
   ]
  },
  {
   "cell_type": "code",
   "execution_count": null,
   "metadata": {},
   "outputs": [],
   "source": [
    "s = '12*6789'\n",
    "for i in range(39, 10** 8 + 1,39):\n",
    "    if fnmatch(str(i),s):\n",
    "        print(i,i//39)"
   ]
  },
  {
   "cell_type": "code",
   "execution_count": null,
   "metadata": {},
   "outputs": [],
   "source": [
    "s = '12345*76'\n",
    "for i in range(73,10**10+1,73):\n",
    "    if fnmatch(str(i),s) and len(str(i)) <= 10:\n",
    "        print(i,i//73)"
   ]
  },
  {
   "cell_type": "code",
   "execution_count": null,
   "metadata": {},
   "outputs": [],
   "source": [
    "s = '1*1*1?'\n",
    "for i in range(1,10** 9 + 1):\n",
    "    if fnmatch(str(i),s) and i % 19 == 0 and i % 6 == 0 and i % 2023 ==0:\n",
    "        print(i)"
   ]
  },
  {
   "cell_type": "code",
   "execution_count": null,
   "metadata": {},
   "outputs": [],
   "source": [
    "def divs(x):\n",
    "    res = set()\n",
    "    for i in range(2,int(x**0.5)+1):\n",
    "        if x % i == 0:\n",
    "            res.add(i)\n",
    "            res.add(x//i)\n",
    "    return sorted(res)\n",
    "\n",
    "s = '12*348'\n",
    "for i in range(12,10**7 + 1, 12):\n",
    "    if fnmatch(str(i),s) and len(divs(i)) == 10:\n",
    "        print(i,max(divs(i)))"
   ]
  },
  {
   "cell_type": "code",
   "execution_count": null,
   "metadata": {},
   "outputs": [],
   "source": [
    "def divs(x):\n",
    "    res = set()\n",
    "    for i in range(2,int(x**0.5)+1):\n",
    "        if x % i == 0:\n",
    "            res.add(i)\n",
    "            res.add(x//i)\n",
    "    return sorted(res)\n",
    "\n",
    "s = '3*52?'\n",
    "for i in range(1,10**7 + 1):\n",
    "    if fnmatch(str(i),s) and len(divs(i)) % 2 == 1:\n",
    "        print(i,max(divs(i)))"
   ]
  },
  {
   "cell_type": "code",
   "execution_count": null,
   "metadata": {},
   "outputs": [],
   "source": [
    "s = '32*54?123'\n",
    "for i in range(519,10**13 + 1,519):\n",
    "    if fnmatch(str(i),s):\n",
    "        if len(str(i)) % 2 == 0 and str(i).count('0') == 0:\n",
    "            a = sum([int(x) for x in str(i)[:(len(str(i))//2)]])\n",
    "            b = sum([int(x) for x in str(i)[(len(str(i))//2):]])\n",
    "            if a == b:\n",
    "                print(i,i//519)"
   ]
  },
  {
   "cell_type": "code",
   "execution_count": null,
   "metadata": {},
   "outputs": [],
   "source": [
    "i = 123456\n",
    "print(sum([int(x) for x in str(i)[:(len(str(i))//2)]]))\n",
    "print(sum([int(x) for x in str(i)[(len(str(i))//2):]]))"
   ]
  },
  {
   "cell_type": "code",
   "execution_count": null,
   "metadata": {},
   "outputs": [],
   "source": [
    "def divs(x):\n",
    "    res = set()\n",
    "    for i in range(2,int(x**0.5)+1):\n",
    "        if x % i == 0:\n",
    "            if i % 2 == 1: res.add(i)\n",
    "            if (x//i)% 2 == 1: res.add(x//i)\n",
    "    return sorted(res)\n",
    "\n",
    "s = '14?4*'\n",
    "for i in range(10**7 + 1, 217,-217):\n",
    "    if fnmatch(str(i), s):\n",
    "        print(i,sum(divs(i)))"
   ]
  },
  {
   "cell_type": "code",
   "execution_count": null,
   "metadata": {},
   "outputs": [],
   "source": [
    "from fnmatch import fnmatch\n",
    "\n",
    "s1 = '33?2*42*?'\n",
    "s2 = '*32??2?'\n",
    "for i in range(2025, 10**10 + 1, 2025):\n",
    "    if fnmatch(str(i), s1) and fnmatch(str(i), s2):\n",
    "        print(i,i//2025)"
   ]
  },
  {
   "cell_type": "code",
   "execution_count": null,
   "metadata": {},
   "outputs": [],
   "source": []
  }
 ],
 "metadata": {
  "kernelspec": {
   "display_name": "Python 3",
   "language": "python",
   "name": "python3"
  },
  "language_info": {
   "codemirror_mode": {
    "name": "ipython",
    "version": 3
   },
   "file_extension": ".py",
   "mimetype": "text/x-python",
   "name": "python",
   "nbconvert_exporter": "python",
   "pygments_lexer": "ipython3",
   "version": "3.12.8"
  }
 },
 "nbformat": 4,
 "nbformat_minor": 2
}
