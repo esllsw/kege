{
 "cells": [
  {
   "cell_type": "code",
   "execution_count": null,
   "metadata": {},
   "outputs": [],
   "source": [
    "s = '5' * 193\n",
    "while '333' in s or '555' in s:\n",
    "    if '555' in s:\n",
    "        s = s.replace('555','3',1)\n",
    "    else:\n",
    "        s = s.replace('333','5',1)\n",
    "print(s)"
   ]
  },
  {
   "cell_type": "code",
   "execution_count": null,
   "metadata": {},
   "outputs": [],
   "source": [
    "s = '222' + \"5\" * 18\n",
    "while '222' in s or '888' in s:\n",
    "    while '555' in s:\n",
    "        s = s.replace('555','8',1)\n",
    "    if '222' in s:\n",
    "        s = s.replace('222','8',1)\n",
    "    else:\n",
    "        s = s.replace('888','2',1)\n",
    "print(s)"
   ]
  },
  {
   "cell_type": "code",
   "execution_count": null,
   "metadata": {},
   "outputs": [],
   "source": [
    "s = '3' + '5' * 57\n",
    "while '25' in s or '355' in s or '4555' in s:\n",
    "    if '25' in s:\n",
    "        s = s.replace('25','3',1)\n",
    "    if '355' in s:\n",
    "        s = s.replace('355','4',1)\n",
    "    if '4555' in s:\n",
    "        s = s.replace('4555','2',1)\n",
    "\n",
    "print(s)"
   ]
  },
  {
   "cell_type": "code",
   "execution_count": null,
   "metadata": {},
   "outputs": [],
   "source": [
    "s = '7' * 120\n",
    "while '8887' in s or '77' in s:\n",
    "    if '8887' in s:\n",
    "        s = s.replace('8887','8',1)\n",
    "    else:\n",
    "        s = s.replace('77','8', 1)\n",
    "print(s)"
   ]
  },
  {
   "cell_type": "code",
   "execution_count": null,
   "metadata": {},
   "outputs": [],
   "source": [
    "s = 'AB' * 52\n",
    "while 'AA' in s or 'BB' in s or 'AB' in s:\n",
    "    s = s.replace('AA','B',1)\n",
    "    s = s.replace('BB','A',1)\n",
    "    s = s.replace('AB','BA',1)\n",
    "print(s)"
   ]
  }
 ],
 "metadata": {
  "kernelspec": {
   "display_name": "Python 3",
   "language": "python",
   "name": "python3"
  },
  "language_info": {
   "codemirror_mode": {
    "name": "ipython",
    "version": 3
   },
   "file_extension": ".py",
   "mimetype": "text/x-python",
   "name": "python",
   "nbconvert_exporter": "python",
   "pygments_lexer": "ipython3",
   "version": "3.13.0"
  }
 },
 "nbformat": 4,
 "nbformat_minor": 2
}
