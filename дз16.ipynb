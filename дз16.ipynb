{
 "cells": [
  {
   "cell_type": "code",
   "execution_count": null,
   "metadata": {},
   "outputs": [],
   "source": [
    "s = '6' * 79\n",
    "while '2222' in s or '666' in s:\n",
    "    if '2222' in s:\n",
    "        s = s.replace('2222','6',1)\n",
    "    else:\n",
    "        s= s.replace('666','2', 1)\n",
    "print(s)"
   ]
  },
  {
   "cell_type": "code",
   "execution_count": null,
   "metadata": {},
   "outputs": [],
   "source": [
    "for n in range(1,10000):\n",
    "    s = '0' * n + '1'\n",
    "    while '01' in s:\n",
    "        if '1' in s:\n",
    "            s = s.replace('1','10')\n",
    "        if '01' in s:\n",
    "            s = s.replace('01','1000')\n",
    "    if s.count('0') >= 100: print(n)"
   ]
  },
  {
   "cell_type": "code",
   "execution_count": null,
   "metadata": {},
   "outputs": [],
   "source": [
    "s = '1' * 203 + '2'\n",
    "while '111' in s or '222' in s:\n",
    "    if '111' in s:\n",
    "        s = s.replace('111','22',1)\n",
    "    else:\n",
    "        s= s.replace('222','11',1)\n",
    "print(s)"
   ]
  },
  {
   "cell_type": "code",
   "execution_count": null,
   "metadata": {},
   "outputs": [],
   "source": [
    "k = 0\n",
    "for n in range(1,5000):\n",
    "    s = n * '1'\n",
    "    while '1111' in s or '222' in s or '33' in s:\n",
    "        if '1111' in s:\n",
    "            s = s.replace('1111','333',1)\n",
    "        elif '222' in s:\n",
    "            s = s.replace('222','11',1)\n",
    "        elif '33' in s:\n",
    "            s = s.replace('33','2',1)\n",
    "        k +=1\n",
    "print(k)"
   ]
  },
  {
   "cell_type": "code",
   "execution_count": null,
   "metadata": {},
   "outputs": [],
   "source": [
    "def e(s):\n",
    "    while '1111' in s or '222' in s or '33' in s:\n",
    "        if '1111' in s:\n",
    "            s = s.replace('1111', '333', 1)\n",
    "        elif '222' in s:\n",
    "            s = s.replace('222', '11', 1)\n",
    "        elif '33' in s:\n",
    "            s = s.replace('33', '2', 1)\n",
    "    return s\n",
    "\n",
    "m = 20\n",
    "\n",
    "res = set()\n",
    "for length in range(1, m + 1):\n",
    "    st = '1' * length\n",
    "    result = e(st)\n",
    "    res.add(result)\n",
    "\n",
    "print(len(res))\n"
   ]
  },
  {
   "cell_type": "code",
   "execution_count": null,
   "metadata": {},
   "outputs": [],
   "source": [
    "s = '1' * 38 + '2' * 34 + '3' * 30\n",
    "res = set()\n",
    "while '33' in s or '11' in s or '22' in s:\n",
    "    if '33' in s:\n",
    "        s = s.replace('33','12',1)\n",
    "    if '11' in s:\n",
    "        s = s.replace('11','32',1)\n",
    "    if '22' in s:\n",
    "        s = s.replace('22','31',1)\n",
    "    res.add(int(s))\n",
    "m = int(max(res))\n",
    "print(sum(map(m,s)))\n"
   ]
  },
  {
   "cell_type": "code",
   "execution_count": null,
   "metadata": {},
   "outputs": [],
   "source": [
    "def f(n):\n",
    "    if n < 3:\n",
    "        return 2\n",
    "    if n > 2 and n % 2 == 0:\n",
    "        return f(n-1) + f(n-2) - n\n",
    "    if n > 2 and n % 2 == 1:\n",
    "        return f(n-2) - f(n-1) + 2 * n\n",
    "print(f(30))"
   ]
  },
  {
   "cell_type": "code",
   "execution_count": null,
   "metadata": {},
   "outputs": [],
   "source": [
    "def f(n):\n",
    "    if n <= 1:\n",
    "        return 1\n",
    "    elif n > 1 and n % 2 == 0:\n",
    "        return n * f(n-1)\n",
    "    elif n > 1 and n % 2 == 1:\n",
    "        return n + f(n-2)\n",
    "print(f(84))"
   ]
  },
  {
   "cell_type": "code",
   "execution_count": null,
   "metadata": {},
   "outputs": [],
   "source": [
    "def f(n):\n",
    "    if n == 1:\n",
    "        return 1\n",
    "    elif n > 1 and n % 2 != 0:\n",
    "        return 3 * n + f(n-2)\n",
    "    elif n > 1 and n % 2 == 0:\n",
    "        return 4 * f(n/2)\n",
    "print(f(42))"
   ]
  },
  {
   "cell_type": "code",
   "execution_count": null,
   "metadata": {},
   "outputs": [],
   "source": [
    "def f(n):\n",
    "    if n <= 1:\n",
    "        return 1\n",
    "    elif n > 1 and n % 2 ==0:\n",
    "        return 3* n + f(n-1)\n",
    "    elif n > 1 and n % 2 == 1:\n",
    "        return 2 * f(n-3)\n",
    "print(f(30))"
   ]
  },
  {
   "cell_type": "code",
   "execution_count": null,
   "metadata": {},
   "outputs": [],
   "source": [
    "def f(n):\n",
    "    if n < 3:\n",
    "        return n + 3\n",
    "    elif n >= 3 and n % 3 == 0:\n",
    "        return (n+2) * f(n-4)\n",
    "    elif n >= 3 and n % 3 != 0:\n",
    "        return n + f(n-1) + 2 *f(n-2)\n",
    "print(f(20))"
   ]
  },
  {
   "cell_type": "code",
   "execution_count": null,
   "metadata": {},
   "outputs": [],
   "source": [
    "k = 0\n",
    "def f(n):\n",
    "    if n == 0:\n",
    "        return 0\n",
    "    if n > 0 and n % 2 == 0:\n",
    "        return f(n//2)\n",
    "    if n % 2 != 0:\n",
    "        return 1 + f(n-1)\n",
    "for n in range(1,501):\n",
    "    if f(n) == 8:\n",
    "        k +=1\n",
    "print(k)"
   ]
  },
  {
   "cell_type": "code",
   "execution_count": null,
   "metadata": {},
   "outputs": [],
   "source": [
    "def f(n):\n",
    "    if n < 3:\n",
    "        return 2\n",
    "    if n > 2 and n % 2 == 0:\n",
    "        return f(n-2) - f(n-1) + 2\n",
    "    if n > 2 and n % 2 != 0:\n",
    "        return f(n-1) - f(n-2) - 2\n",
    "print(f(29))"
   ]
  },
  {
   "cell_type": "code",
   "execution_count": null,
   "metadata": {},
   "outputs": [],
   "source": [
    "def f(n):\n",
    "    if n < 3:\n",
    "        return 1\n",
    "    if n > 2 and n % 2 == 0:\n",
    "        return f(n-1) + n\n",
    "    if n > 2 and n % 2 == 1:\n",
    "        return f(n-2) + 2 * n\n",
    "print((f(23)-f(21)))"
   ]
  },
  {
   "cell_type": "code",
   "execution_count": null,
   "metadata": {},
   "outputs": [],
   "source": [
    "from functools import lru_cache\n",
    "@lru_cache(None)\n",
    "def f(n):\n",
    "    if n == 1:\n",
    "        return 1\n",
    "    return n * f(n-1) +1\n",
    "for n in range(1,3304):\n",
    "    f(n)\n",
    "print((f(3303)/f(3300)))"
   ]
  },
  {
   "cell_type": "code",
   "execution_count": null,
   "metadata": {},
   "outputs": [],
   "source": [
    "from functools import lru_cache\n",
    "@lru_cache(None)\n",
    "def f(n):\n",
    "    if n < 3:\n",
    "        return 1\n",
    "    if n > 2:\n",
    "        return f(n-1) + f(n-2)\n",
    "for n in range(1,1007):\n",
    "    f(n)\n",
    "print((f(1006)-f(1004))/f(1005))"
   ]
  },
  {
   "cell_type": "code",
   "execution_count": null,
   "metadata": {},
   "outputs": [],
   "source": [
    "from functools import lru_cache\n",
    "@lru_cache(None)\n",
    "def f(n):\n",
    "    if n == 0:\n",
    "        return 1\n",
    "    if n == 1:\n",
    "        return 0\n",
    "    if n > 1 and n % 2 == 0:\n",
    "        return f(n//2) + 1\n",
    "    if  n > 1 and n % 2 != 0:\n",
    "        return f(n//2)\n",
    "a = []\n",
    "for i in range(1,10000):\n",
    "    f(i)\n",
    "    if f(i) == 10:\n",
    "        a.append(i)\n",
    "print(min(a))"
   ]
  },
  {
   "cell_type": "code",
   "execution_count": null,
   "metadata": {},
   "outputs": [],
   "source": [
    "from functools import lru_cache\n",
    "@lru_cache(None)\n",
    "def f(n):\n",
    "    if n == 1:\n",
    "        return 2\n",
    "    return ((f(n-1) * (3**(n%5))) / (3 ** (n%7)))\n",
    "for n in range(1,1100):\n",
    "    f(n)\n",
    "print(f(1025))"
   ]
  },
  {
   "cell_type": "code",
   "execution_count": null,
   "metadata": {},
   "outputs": [],
   "source": [
    "def f(n):\n",
    "    if n < 3:\n",
    "        return 1\n",
    "    if n > 2 and n % 2 == 0:\n",
    "        return 2 * f(n-1) - f(n-2)\n",
    "    if n > 2 and n % 2 == 1:\n",
    "        return f(n-1) - 2 * f(n-2) - 3\n",
    "print(f(15))"
   ]
  },
  {
   "cell_type": "code",
   "execution_count": null,
   "metadata": {},
   "outputs": [],
   "source": [
    "from functools import lru_cache\n",
    "@lru_cache(None)\n",
    "def f(n):\n",
    "    if n == 1:\n",
    "        return 1\n",
    "    if n > 1:\n",
    "        return f(n-1) + n * f(n-1)\n",
    "for n in range(1,6000):\n",
    "    f(n)\n",
    "print(f(5997)/f(5995))"
   ]
  },
  {
   "cell_type": "code",
   "execution_count": null,
   "metadata": {},
   "outputs": [],
   "source": [
    "from functools import lru_cache\n",
    "@lru_cache(None)\n",
    "def f(n):\n",
    "    if n >= 10000:\n",
    "        return n\n",
    "    if n < 10000 and n % 2 == 0:\n",
    "        return f(n+2) - 3\n",
    "    if n < 10000 and n % 2 != 0:\n",
    "        return f(n+2) + 1\n",
    "\n",
    "print(f(9994)-f(9980))"
   ]
  },
  {
   "cell_type": "code",
   "execution_count": null,
   "metadata": {},
   "outputs": [],
   "source": [
    "def f(n):\n",
    "    if n <= 2:\n",
    "        return 2\n",
    "    if n > 2:\n",
    "        return f(n-1) - 2 * f(n-2)\n",
    "print(f(37))"
   ]
  },
  {
   "cell_type": "code",
   "execution_count": null,
   "metadata": {},
   "outputs": [],
   "source": [
    "from functools import lru_cache\n",
    "@lru_cache(None)\n",
    "def f(n):\n",
    "    if n == 1:\n",
    "        return 2\n",
    "    if n > 1:\n",
    "        return 2 * f(n-1)\n",
    "for n in range(1,2000):\n",
    "    f(n)\n",
    "print(f(1900)/2**1890)"
   ]
  },
  {
   "cell_type": "code",
   "execution_count": null,
   "metadata": {},
   "outputs": [],
   "source": [
    "from functools import lru_cache\n",
    "@lru_cache(None)\n",
    "def f(n):\n",
    "    if n > 100:\n",
    "        return n\n",
    "    if n <= 100:\n",
    "        return f(n+1) + 5 * n + 2\n",
    "\n",
    "print(f(7))"
   ]
  },
  {
   "cell_type": "code",
   "execution_count": null,
   "metadata": {},
   "outputs": [],
   "source": [
    "from functools import lru_cache\n",
    "@lru_cache(None)\n",
    "def f(n):\n",
    "    if n <= 3:\n",
    "        return n\n",
    "    if n > 3 and n % 2 != 0:\n",
    "        return 2 * n + f(n-2)\n",
    "    if n > 3 and n % 2 == 0 :\n",
    "        return n * n + f(n-1)\n",
    "for n in range(1,10001):\n",
    "    f(n)\n",
    "print(f(10000)-f(9995))"
   ]
  },
  {
   "cell_type": "code",
   "execution_count": null,
   "metadata": {},
   "outputs": [],
   "source": [
    "from functools import lru_cache\n",
    "@lru_cache\n",
    "def f(n):\n",
    "    if n <= 2:\n",
    "        return 1\n",
    "    if n > 2 and n % 2 != 0:\n",
    "        return f(n-1) - n\n",
    "    if n > 2 and n % 2 == 0:\n",
    "        return f(n-2) + g(n-1) + 2\n",
    "def g(n):\n",
    "    if n <= 0:\n",
    "        return 2\n",
    "    if n > 0 and n % 2 != 0:\n",
    "        return f(n-1) - 2 * g(n-2)\n",
    "    if n > 0 and n % 2 == 0:\n",
    "        return 2 * f(n-2) - 2 * g(n-1)\n",
    "for n in range(1,100):\n",
    "    f(n)\n",
    "    g(n)\n",
    "print(f(96))"
   ]
  },
  {
   "cell_type": "code",
   "execution_count": null,
   "metadata": {},
   "outputs": [],
   "source": [
    "from functools import lru_cache\n",
    "import sys\n",
    "\n",
    "# Increase the recursion limit\n",
    "sys.setrecursionlimit(30000)\n",
    "@lru_cache()\n",
    "def fact(n):\n",
    "    if n == 0:\n",
    "        return 1\n",
    "    n1 = 1\n",
    "    for i in range(1, n + 1):\n",
    "        n1 *= i\n",
    "    return n1\n",
    "def f(n):\n",
    "    while n < 5000:\n",
    "        n = 2 * f(n + 1) // (n + 1)\n",
    "    return fact(n)\n",
    "\n",
    "for i in range(1, 5051):\n",
    "    f(i)\n",
    "\n",
    "# Calculate the ratio of f(7) to f(4) scaled by 1000\n",
    "print(1000 * f(7) // f(4))"
   ]
  },
  {
   "cell_type": "code",
   "execution_count": null,
   "metadata": {},
   "outputs": [],
   "source": [
    "import math\n",
    "import sys\n",
    "from functools import lru_cache\n",
    "\n",
    "# Increase the recursion limit\n",
    "sys.setrecursionlimit(30000)\n",
    "\n",
    "@lru_cache()\n",
    "def F(n):\n",
    "    if n >= 5000:\n",
    "        return math.factorial(n)\n",
    "    else:\n",
    "        return (2 * F(n + 1)) / (n + 1)\n",
    "    \n",
    "# Use the existing F function\n",
    "for n in range(5051):\n",
    "    F(n)\n",
    "\n",
    "# Вычислим F(7) и F(4)\n",
    "F7 = F(7)\n",
    "F4 = F(4)\n",
    "\n",
    "# Рассчитаем выражение\n",
    "result = (1000 * F7) / F4\n",
    "print(result)\n"
   ]
  },
  {
   "cell_type": "code",
   "execution_count": null,
   "metadata": {},
   "outputs": [
    {
     "name": "stdout",
     "output_type": "stream",
     "text": [
      "4250\n"
     ]
    }
   ],
   "source": [
    "from functools import lru_cache #4250\n",
    "\n",
    "@lru_cache(None)\n",
    "def f(n):\n",
    "    if n <= 5: return 1\n",
    "    else: return n + f(n - 2)\n",
    "\n",
    "for i in range(2200):\n",
    "    f(i)\n",
    "\n",
    "print(f(2126) - f(2122))"
   ]
  },
  {
   "cell_type": "code",
   "execution_count": null,
   "metadata": {},
   "outputs": [
    {
     "name": "stdout",
     "output_type": "stream",
     "text": [
      "270\n"
     ]
    }
   ],
   "source": [
    "from functools import lru_cache #270\n",
    "\n",
    "@lru_cache(None)\n",
    "def f(n):\n",
    "    if n > 400: return n ** n\n",
    "    else: return n + 6 + f(n + 12)\n",
    "\n",
    "for i in range(12000):\n",
    "    f(i)\n",
    "\n",
    "print(f(72) - f(108))"
   ]
  },
  {
   "cell_type": "code",
   "execution_count": null,
   "metadata": {},
   "outputs": [
    {
     "name": "stdout",
     "output_type": "stream",
     "text": [
      "94\n",
      "96\n"
     ]
    }
   ],
   "source": [
    "from functools import lru_cache #96\n",
    "\n",
    "@lru_cache(None)\n",
    "def f(n):\n",
    "    if n < 15: return 4\n",
    "    elif n >= 15 and n % 3 == 0: return f(2 * n / 3) + n - 1\n",
    "    else: return f(n - 1) + 3\n",
    "\n",
    "for i in range(10000):\n",
    "    if f(i) == 251: print(i)"
   ]
  }
 ],
 "metadata": {
  "kernelspec": {
   "display_name": "Python 3",
   "language": "python",
   "name": "python3"
  },
  "language_info": {
   "codemirror_mode": {
    "name": "ipython",
    "version": 3
   },
   "file_extension": ".py",
   "mimetype": "text/x-python",
   "name": "python",
   "nbconvert_exporter": "python",
   "pygments_lexer": "ipython3",
   "version": "3.12.8"
  }
 },
 "nbformat": 4,
 "nbformat_minor": 2
}
