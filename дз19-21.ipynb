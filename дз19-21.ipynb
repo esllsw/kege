{
 "cells": [
  {
   "cell_type": "code",
   "execution_count": null,
   "id": "7d3e74a1",
   "metadata": {},
   "outputs": [],
   "source": [
    "# шаблон для одной кучи\n",
    "\n",
    "def f(s, m):\n",
    "    if s >= 63: return m % 2 == 0\n",
    "    if m == 0: return 0\n",
    "    nm = [f(s + 1, m - 1), f(s + 4, m - 1), f(s * 5, m - 1)]\n",
    "    return any(nm) if (m - 1) % 2 == 0 else all(nm)\n",
    "print(19, [s for s in range(1, 62) if f(s, 2)])\n",
    "print(20, [s for s in range(1, 62) if f(s, 3) and not f(s, 1)])\n",
    "print(21, [s for s in range(1, 62) if f(s, 2) or f(s, 4)])\n"
   ]
  },
  {
   "cell_type": "code",
   "execution_count": null,
   "id": "9bc172be",
   "metadata": {},
   "outputs": [],
   "source": [
    "def f(s,m):\n",
    "    if s >= 29: return m % 2 == 0\n",
    "    if m == 0: return 0\n",
    "    nm = [f(s + 1, m - 1), f(s * 2, m - 1)]\n",
    "    return any(nm) if (m-1) % 2 == 0 else all(nm)\n",
    "print(19, [s for s in range(1, 29) if f(s, 2)])\n",
    "print(20, [s for s in range(1, 29) if f(s, 3) and not f(s, 1)])\n",
    "print(21, [s for s in range(1, 29) if (not f(s, 2)) and f(s, 4)])"
   ]
  },
  {
   "cell_type": "code",
   "execution_count": null,
   "id": "31f9503a",
   "metadata": {},
   "outputs": [],
   "source": [
    "def f(s,m):\n",
    "    if s >= 25: return m % 2 == 0\n",
    "    if m == 0: return 0\n",
    "    nm = [f(s + 2, m - 1), f(s * 2, m - 1)]\n",
    "    return any(nm) if (m - 1) % 2 == 0 else all(nm)\n",
    "print(19, [s for s in range(1,24) if f(s,2)])\n",
    "print(20, [s for s in range(1,25) if f(s,3) and not f(s,1)])\n",
    "print(21, [s for s in range(1,25) if (not f(s,2)) and f(s,4)])"
   ]
  },
  {
   "cell_type": "code",
   "execution_count": null,
   "id": "b30a1cb7",
   "metadata": {},
   "outputs": [],
   "source": [
    "def f(s,m):\n",
    "    if s >= 59: return m % 2 == 0\n",
    "    if m == 0: return 0\n",
    "    nm = [f(s + 1, m - 1), f(s + 3, m - 1), f(s * 4, m - 1)]\n",
    "    return any(nm) if (m - 1) % 2 == 0 else all(nm)\n",
    "print(19,[s for s in range(1,59) if f(s,2)])\n",
    "print(20,[s for s in range(1,59) if f(s,3) and not f(s,1)])\n",
    "print(21, [s for s in range(1,59) if (not f(s,2)) and f(s,4)])"
   ]
  },
  {
   "cell_type": "code",
   "execution_count": null,
   "id": "ecd3929f",
   "metadata": {},
   "outputs": [],
   "source": [
    "def f(s, m):\n",
    "    if s >= 38: return m % 2 == 0\n",
    "    if m == 0: return 0\n",
    "    nm = [f(s + 1, m - 1), f(s + 2, m - 1), f(s + 3, m - 1), f(s * 2, m - 1)]\n",
    "    return any(nm) if (m - 1) % 2 == 0 else all(nm)\n",
    "print(19,[s for s in range(1,38) if f(s,2)])\n",
    "print(20,[s for s in range(1,38) if f(s,3) and not f(s,1)])\n",
    "print(21, [s for s in range(1,38) if (not f(s,2)) and f(s,4)])"
   ]
  },
  {
   "cell_type": "code",
   "execution_count": null,
   "id": "7cf6d8a5",
   "metadata": {},
   "outputs": [],
   "source": [
    "def f(s,m):\n",
    "    if s >= 73: return m % 2 == 0\n",
    "    if m == 0: return 0\n",
    "    nm = [f(s+1,m-1), f(s + 3, m - 1), f(s * 2, m - 1)]\n",
    "    return any(nm) if (m - 1) % 2 == 0 else all(nm)\n",
    "\n",
    "print(19, [s for s in range(1,73) if f(s,2)])\n",
    "print(20,[s for s in range(1,73) if f(s,3) and not f(s,1)])\n",
    "print(21,[s for s in range(1,73) if f(s,4) and not f(s,2)])"
   ]
  },
  {
   "cell_type": "code",
   "execution_count": null,
   "id": "c77e050f",
   "metadata": {},
   "outputs": [],
   "source": [
    "def f(s,m):\n",
    "    if s >= 268: return m % 2 == 0\n",
    "    if m == 0: return 0\n",
    "    nm = [f(s + 1, m - 1), f(s + 3, m - 1), f(s * 4, m - 1)]\n",
    "    return any(nm) if (m - 1) % 2 == 0 else all(nm)\n",
    "print(19,[s for s in range(1,268) if f(s,2) and not f(s,1)])\n",
    "print(20, [s for s in range(1,268) if f(s,3) and not f(s,1)])\n",
    "print(21, [s for s in range(1,268) if f(s,4) and not f(s,2)])"
   ]
  },
  {
   "cell_type": "code",
   "execution_count": null,
   "id": "b648b6e3",
   "metadata": {},
   "outputs": [],
   "source": [
    "#шаблон для двух куч\n",
    "\n",
    "def f(s1, s2, m):\n",
    "    if (s1 + s2) >= 131: return m % 2 == 0\n",
    "    if m == 0: return 0\n",
    "\n",
    "    nm = [f(s1 + 2, s2, m - 1), f(s1 * 2, s2, m - 1), f(s1, s2 + 2, m - 1), f(s1, s2 * 2, m - 1)]\n",
    "    #return any(nm) if (m - 1) % 2 == 0 else all(nm)\n",
    "    #return any(nm) if (m - 1) % 2 == 0 else any(nm) # для №19, тк при неудачном ходе\n",
    "print(19, min([s for s in range(1, 122) if f(11, s, 2)]))\n",
    "print(20, [s for s in range(1, 122) if not f(11, s, 1) and f(11, s, 3)])\n",
    "print(21, [s for s in range(1, 122) if not f(11, s, 2) and f(11, s, 4)])\n"
   ]
  },
  {
   "cell_type": "code",
   "execution_count": null,
   "id": "901f728e",
   "metadata": {},
   "outputs": [],
   "source": [
    "def f(s1,s2,m):\n",
    "    if (s1+s2) >= 175: return m % 2 == 0\n",
    "    if m == 0: return 0\n",
    "\n",
    "    nm = [f(s1 + 1, s2, m - 1),f(s1 * 3, s2, m - 1), f(s1, s2 + 1,m - 1), f(s1,s2 * 3, m - 1)]\n",
    "    return any(nm) if (m - 1) % 2 == 0 else all(nm)\n",
    "\n",
    "# print(19,min([s for s in range(1,155) if f(19,s,2)]))\n",
    "print(20,[s for s in range(1,155) if f(19,s,3) and not f(19,s,1)])\n",
    "print(21,[s for s in range(1,155) if f(19,s,4) and not f(19,s,2)])"
   ]
  },
  {
   "cell_type": "code",
   "execution_count": null,
   "id": "848dc85e",
   "metadata": {},
   "outputs": [],
   "source": [
    "#19\n",
    "\n",
    "from functools import lru_cache  # импортируем lru_cache для ускорения работы функции\n",
    "\n",
    "\n",
    "def step(p):  # создаем функцию шагов\n",
    "    if p < 5:  # если в куче менее пяти камней, то ход -5 мы совершить не можем, поэтому оставляем только деление на 3\n",
    "        return p // 3, p // 3  # так как остается только один возможный ход, продублируем его, чтобы при использовании конструкции \n",
    "        # for p1 in step(p) не возникала ошибка\n",
    "    else:  # в ином случае можем совершать оба хода\n",
    "        return p - 5, p // 3 \n",
    "\n",
    "\n",
    "@lru_cache(None)  # объявляем lru_cache\n",
    "def game(p):  # создаём функцию игры\n",
    "    if p == 0: return 0  # если игра в позиции закончилась, возвращаем функцией ноль\n",
    "    if any(game(p1) == 0 for p1 in step(p)): return 1  # если каким-либо ходом можно попасть в позицию 0, то есть выиграть первым ходом, то возвращаем функцией единицу\n",
    "    if all(game(p2) == 1 for p2 in step(p)): return 2  # если все ходы ведут в позицию 1, значит игра закончится за два хода, возвращаем функцией 2\n",
    "\n",
    "for p in range(100, 1, -1):  # так как нужно найти максимальное значение, начинаем перебор в порядке убывания\n",
    "    if game(p) == 2:  # если из этой позиции игра закончилась вторым ходом, то выводим такую позицию\n",
    "        print(p)\n",
    "        break"
   ]
  },
  {
   "cell_type": "code",
   "execution_count": null,
   "id": "3f17406b",
   "metadata": {},
   "outputs": [],
   "source": [
    "#20 \n",
    "from functools import lru_cache  # импортируем lru_cache для ускорения работы функции\n",
    "\n",
    "\n",
    "def step(p):  # создаем функцию шагов\n",
    "    if p < 5:  # если в куче менее пяти камней, то ход -5 мы совершить не можем, поэтому оставляем только деление на 3\n",
    "        return p // 3, p // 3  # так как остается только один возможный ход, продублируем его, чтобы при использовании конструкции\n",
    "        # for p1 in step(p) не возникала ошибка\n",
    "    else:  # в ином случае можем совершать оба хода\n",
    "        return p - 5, p // 3\n",
    "\n",
    "\n",
    "@lru_cache(None)  # объявляем lru_cache\n",
    "def game(p):  # создаём функцию игры\n",
    "    if p == 0: return 0  # если игра в позиции закончилась, возвращаем функцией ноль\n",
    "    if any(game(p1) == 0 for p1 in step(p)): return 1  # если каким-либо ходом можно попасть в позицию 0, то есть выиграть первым ходом, то возвращаем функцией единицу\n",
    "    if all(game(p2) == 1 for p2 in step(p)): return 2  # если все ходы ведут в позицию 1, значит игра закончится за два хода, возвращаем функцией 2\n",
    "    if any(game(p3) == 2 for p3 in step(p)): return 3  # если каким-либо ходом можно попасть в 2, значит игра закончится за 3 хода\n",
    "\n",
    "\n",
    "for p in range(1, 100):  # перебираем кол-во камней в куче\n",
    "    if game(p) == 3:  # если из данной позиции игра завершилась за три хода, то выводим её\n",
    "        print(p)\n",
    "# так как в ответ нужно записать минимальное и максимальное значения, то записываем:8 23"
   ]
  },
  {
   "cell_type": "code",
   "execution_count": null,
   "id": "4def8c1b",
   "metadata": {},
   "outputs": [],
   "source": [
    "#21\n",
    "from functools import lru_cache  # импортируем lru_cache для ускорения работы функции\n",
    "\n",
    "\n",
    "def step(p):  # создаем функцию шагов\n",
    "    if p < 5:  # если в куче менее пяти камней, то ход -5 мы совершить не можем, поэтому оставляем только деление на 3\n",
    "        return p // 3, p // 3  # так как остается только один возможный ход, продублируем его, чтобы при использовании конструкции\n",
    "        # for p1 in step(p) не возникала ошибка\n",
    "    else:  # в ином случае можем совершать оба хода\n",
    "        return p - 5, p // 3\n",
    "\n",
    "\n",
    "@lru_cache(None)  # объявляем lru_cache\n",
    "def game(p):  # создаём функцию игры\n",
    "    if p == 0: return 0  # если игра в позиции закончилась, возвращаем функцией ноль\n",
    "    if any(game(p1) == 0 for p1 in step(p)): return 1  # если каким-либо ходом можно попасть в позицию 0, то есть выиграть первым ходом, то возвращаем функцией единицу\n",
    "    if all(game(p2) == 1 for p2 in step(p)): return 2  # если все ходы ведут в позицию 1, значит игра закончится за два хода, возвращаем функцией 2\n",
    "    if any(game(p3) == 2 for p3 in step(p)): return 3  # если каким-либо ходом можно попасть в 2, значит игра закончится за 3 хода\n",
    "    if all(game(p4) in (1,3) for p4 in step(p)): return 4  # если все ходы ведут в позиции 1 и 3, значит игра в любом случае закончится или за 2 хода или за 4, возвращаем функцией 4\n",
    "\n",
    "for p in range(100, 1, -1):  # так как нужно найти максимальное значение, начинаем перебор в порядке убывания\n",
    "    if game(p) == 4:  # если из позиции игра завершилась за 2 хода или за 4, то выводим это значение\n",
    "        print(p)\n",
    "        break  # прерываем перебор, так как нужно только максимальное значение"
   ]
  },
  {
   "cell_type": "code",
   "execution_count": null,
   "id": "31dbc09a",
   "metadata": {},
   "outputs": [],
   "source": [
    "def f(s1,s2,m):\n",
    "    if (s1 + s2) >= 117: return m % 2 == 0\n",
    "    if m == 0: return 0\n",
    "\n",
    "    nm = [f(s1 + 1,s2, m - 1), f(s1 * 2, s2, m - 1), f(s1, s2 + 1, m - 1), f(s1, s2 * 2, m - 1)]\n",
    "    #return any(nm) if (m - 1) % 2 == 0 else any(nm)\n",
    "    return any(nm) if (m - 1) % 2 == 0 else all(nm)\n",
    "\n",
    "#print(19, min([s for s in range(1,104) if f(13,s,2) and not f(13,s,1)]))\n",
    "print(20,[s for s in range(1,104) if f(13,s,3) and not f(13,s,1)])\n",
    "print(21, [s for s in range(1,104) if f(13,s,4) and not f(13,s,2)])"
   ]
  },
  {
   "cell_type": "code",
   "execution_count": null,
   "id": "4476f617",
   "metadata": {},
   "outputs": [],
   "source": [
    "def f(s1,s2,m):\n",
    "    if (s1 + s2) >= 159: return m % 2 == 0\n",
    "    if m == 0: return 0\n",
    "\n",
    "    nm = [f(s1 + 1, s2, m - 1), f(s1 + 3, s2, m - 1), f(s1 * 2, s2, m - 1), f(s1, s2 + 1, m - 1), f(s1, s2 + 3, m - 1), f(s1, s2 * 2, m - 1)]\n",
    "    # return any(nm) if (m - 1) % 2 == 0 else any(nm)\n",
    "    return any(nm) if (m - 1) % 2 == 0 else all(nm)\n",
    "\n",
    "#print(19, min([s for s in range(1, 131) if f(7,s,2) and not f(7,s,1)]))\n",
    "print(20, [s for s in range(1, 131) if f(7,s,3) and not f(7,s,1)])\n",
    "print(21, [s for s in range(1, 131) if f(7,s,4) and not f(7,s,2)])"
   ]
  },
  {
   "cell_type": "code",
   "execution_count": null,
   "id": "f2641a69",
   "metadata": {},
   "outputs": [],
   "source": [
    "def f(s1,s2,m):\n",
    "    if s1 < 10 or s2 < 10: return m % 2 == 0\n",
    "    if m == 0: return 0\n",
    "\n",
    "    nm = [f(s1 - 1,s2, m - 1), f(s1 - 3, s2, m - 1), f(s1, s2 - 1, m - 1), f(s1, s2 - 3, m - 1)]\n",
    "    return any(nm) if (m - 1) % 2 == 0 else all(nm)\n",
    "\n",
    "print(19, [s for s in range(1,100) if f(s,s,2) and not f(s,s,1)])\n",
    "print(20, [s for s in range(1,100) if f(13,s,3) and not f(13,s,1)])\n",
    "print(21, [s for s in range(1,100) if f(13,s,4) and not f(13,s,2)])"
   ]
  },
  {
   "cell_type": "code",
   "execution_count": null,
   "id": "08b91f1d",
   "metadata": {},
   "outputs": [],
   "source": []
  }
 ],
 "metadata": {
  "kernelspec": {
   "display_name": "Python 3",
   "language": "python",
   "name": "python3"
  },
  "language_info": {
   "codemirror_mode": {
    "name": "ipython",
    "version": 3
   },
   "file_extension": ".py",
   "mimetype": "text/x-python",
   "name": "python",
   "nbconvert_exporter": "python",
   "pygments_lexer": "ipython3",
   "version": "3.12.8"
  }
 },
 "nbformat": 4,
 "nbformat_minor": 5
}
