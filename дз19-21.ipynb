{
 "cells": [
  {
   "cell_type": "code",
   "execution_count": null,
   "id": "7d3e74a1",
   "metadata": {},
   "outputs": [],
   "source": [
    "# шаблон для одной кучи\n",
    "\n",
    "def f(s, m):\n",
    "    if s >= 63: return m % 2 == 0\n",
    "    if m == 0: return 0\n",
    "    nm = [f(s + 1, m - 1), f(s + 4, m - 1), f(s * 5, m - 1)]\n",
    "    return any(nm) if (m - 1) % 2 == 0 else all(nm)\n",
    "print(19, [s for s in range(1, 62) if f(s, 2)])\n",
    "print(20, [s for s in range(1, 62) if f(s, 3) and not f(s, 1)])\n",
    "print(21, [s for s in range(1, 62) if f(s, 2) or f(s, 4)])\n"
   ]
  },
  {
   "cell_type": "code",
   "execution_count": null,
   "id": "9bc172be",
   "metadata": {},
   "outputs": [],
   "source": [
    "def f(s,m):\n",
    "    if s >= 29: return m % 2 == 0\n",
    "    if m == 0: return 0\n",
    "    nm = [f(s + 1, m - 1), f(s * 2, m - 1)]\n",
    "    return any(nm) if (m-1) % 2 == 0 else all(nm)\n",
    "print(19, [s for s in range(1, 29) if f(s, 2)])\n",
    "print(20, [s for s in range(1, 29) if f(s, 3) and not f(s, 1)])\n",
    "print(21, [s for s in range(1, 29) if (not f(s, 2)) and f(s, 4)])"
   ]
  },
  {
   "cell_type": "code",
   "execution_count": null,
   "id": "31f9503a",
   "metadata": {},
   "outputs": [],
   "source": [
    "def f(s,m):\n",
    "    if s >= 25: return m % 2 == 0\n",
    "    if m == 0: return 0\n",
    "    nm = [f(s + 2, m - 1), f(s * 2, m - 1)]\n",
    "    return any(nm) if (m - 1) % 2 == 0 else all(nm)\n",
    "print(19, [s for s in range(1,24) if f(s,2)])\n",
    "print(20, [s for s in range(1,25) if f(s,3) and not f(s,1)])\n",
    "print(21, [s for s in range(1,25) if (not f(s,2)) and f(s,4)])"
   ]
  },
  {
   "cell_type": "code",
   "execution_count": null,
   "id": "b30a1cb7",
   "metadata": {},
   "outputs": [],
   "source": [
    "def f(s,m):\n",
    "    if s >= 59: return m % 2 == 0\n",
    "    if m == 0: return 0\n",
    "    nm = [f(s + 1, m - 1), f(s + 3, m - 1), f(s * 4, m - 1)]\n",
    "    return any(nm) if (m - 1) % 2 == 0 else all(nm)\n",
    "print(19,[s for s in range(1,59) if f(s,2)])\n",
    "print(20,[s for s in range(1,59) if f(s,3) and not f(s,1)])\n",
    "print(21, [s for s in range(1,59) if (not f(s,2)) and f(s,4)])"
   ]
  },
  {
   "cell_type": "code",
   "execution_count": null,
   "id": "ecd3929f",
   "metadata": {},
   "outputs": [],
   "source": [
    "def f(s, m):\n",
    "    if s >= 38: return m % 2 == 0\n",
    "    if m == 0: return 0\n",
    "    nm = [f(s + 1, m - 1), f(s + 2, m - 1), f(s + 3, m - 1), f(s * 2, m - 1)]\n",
    "    return any(nm) if (m - 1) % 2 == 0 else all(nm)\n",
    "print(19,[s for s in range(1,38) if f(s,2)])\n",
    "print(20,[s for s in range(1,38) if f(s,3) and not f(s,1)])\n",
    "print(21, [s for s in range(1,38) if (not f(s,2)) and f(s,4)])"
   ]
  },
  {
   "cell_type": "code",
   "execution_count": null,
   "id": "7cf6d8a5",
   "metadata": {},
   "outputs": [],
   "source": [
    "def f(s,m):\n",
    "    if s >= 73: return m % 2 == 0\n",
    "    if m == 0: return 0\n",
    "    nm = [f(s+1,m-1), f(s + 3, m - 1), f(s * 2, m - 1)]\n",
    "    return any(nm) if (m - 1) % 2 == 0 else all(nm)\n",
    "\n",
    "print(19, [s for s in range(1,73) if f(s,2)])\n",
    "print(20,[s for s in range(1,73) if f(s,3) and not f(s,1)])\n",
    "print(21,[s for s in range(1,73) if f(s,4) and not f(s,2)])"
   ]
  },
  {
   "cell_type": "code",
   "execution_count": null,
   "id": "c77e050f",
   "metadata": {},
   "outputs": [],
   "source": [
    "def f(s,m):\n",
    "    if s >= 268: return m % 2 == 0\n",
    "    if m == 0: return 0\n",
    "    nm = [f(s + 1, m - 1), f(s + 3, m - 1), f(s * 4, m - 1)]\n",
    "    return any(nm) if (m - 1) % 2 == 0 else all(nm)\n",
    "print(19,[s for s in range(1,268) if f(s,2) and not f(s,1)])\n",
    "print(20, [s for s in range(1,268) if f(s,3) and not f(s,1)])\n",
    "print(21, [s for s in range(1,268) if f(s,4) and not f(s,2)])"
   ]
  },
  {
   "cell_type": "code",
   "execution_count": null,
   "id": "246ae31d",
   "metadata": {},
   "outputs": [],
   "source": [
    "def f(s,m):\n",
    "    if s >= 64: return m % 2 == 0\n",
    "    if m == 0: return 0\n",
    "    nm = [f(s + 1, m - 1), f(s * 3, m - 1)]\n",
    "    return any(nm) if (m - 1)% 2 == 0 else all(nm)\n",
    "\n",
    "print(19,[s for s in range(1,64) if f(s,2) and not f(s,1)])\n",
    "print(20,[s for s in range(1,64) if f(s,3) and not f(s,1)])\n",
    "print(21,[s for s in range(1,64) if f(s,4) and not f(s,2)])"
   ]
  },
  {
   "cell_type": "code",
   "execution_count": null,
   "id": "ee28f7e8",
   "metadata": {},
   "outputs": [],
   "source": [
    "def f(s,m):\n",
    "    if s >= 74: return m % 2 == 0\n",
    "    if m == 0: return 0\n",
    "    nm = [f(s + 1, m - 1), f(s + 2, m - 1), f(s * 3, m - 1)]\n",
    "    return any(nm) if (m - 1) % 2 == 0 else all(nm)\n",
    "\n",
    "print(19, [s for s in range(1,74) if f(s, 2) and not f(s,1)])\n",
    "print(20, [s for s in range(1,74) if f(s, 3) and not f(s,1)])\n",
    "print(21, [s for s in range(1,74) if f(s, 4) and not f(s,2)])"
   ]
  },
  {
   "cell_type": "code",
   "execution_count": null,
   "id": "66badb3f",
   "metadata": {},
   "outputs": [],
   "source": [
    "def f(s,m):\n",
    "    if s < 10: return m % 2 == 0\n",
    "    if m == 0: return 0\n",
    "    if s % 2 == 0:\n",
    "        nm = [f(s - 1, m - 1), f(s - 2, m - 1), f(s - 3, m - 1), f(s - 4, m - 1), f(s - 5, m - 1), f(s // 2, m - 1)]\n",
    "    else:\n",
    "        nm = [f(s - 1, m - 1), f(s - 2, m - 1), f(s - 3, m - 1), f(s - 4, m - 1), f(s - 5, m - 1)]\n",
    "    return any(nm) if (m - 1) % 2 == 0 else all(nm)\n",
    "print(19,[s for s in range(10,100) if f(s,2) and not f(s,1)])\n",
    "print(20,[s for s in range(10,100) if f(s,3) and not f(s,1)])\n",
    "print(21,[s for s in range(10,100) if f(s,4) and not f(s,2)])"
   ]
  },
  {
   "cell_type": "code",
   "execution_count": null,
   "id": "b648b6e3",
   "metadata": {},
   "outputs": [],
   "source": [
    "#шаблон для двух куч\n",
    "\n",
    "def f(s1, s2, m):\n",
    "    if (s1 + s2) >= 131: return m % 2 == 0\n",
    "    if m == 0: return 0\n",
    "\n",
    "    nm = [f(s1 + 2, s2, m - 1), f(s1 * 2, s2, m - 1), f(s1, s2 + 2, m - 1), f(s1, s2 * 2, m - 1)]\n",
    "    #return any(nm) if (m - 1) % 2 == 0 else all(nm)\n",
    "    #return any(nm) if (m - 1) % 2 == 0 else any(nm) # для №19, тк при неудачном ходе\n",
    "print(19, min([s for s in range(1, 122) if f(11, s, 2)]))\n",
    "print(20, [s for s in range(1, 122) if not f(11, s, 1) and f(11, s, 3)])\n",
    "print(21, [s for s in range(1, 122) if not f(11, s, 2) and f(11, s, 4)])\n"
   ]
  },
  {
   "cell_type": "code",
   "execution_count": null,
   "id": "901f728e",
   "metadata": {},
   "outputs": [],
   "source": [
    "def f(s1,s2,m):\n",
    "    if (s1+s2) >= 175: return m % 2 == 0\n",
    "    if m == 0: return 0\n",
    "\n",
    "    nm = [f(s1 + 1, s2, m - 1),f(s1 * 3, s2, m - 1), f(s1, s2 + 1,m - 1), f(s1,s2 * 3, m - 1)]\n",
    "    return any(nm) if (m - 1) % 2 == 0 else all(nm)\n",
    "\n",
    "# print(19,min([s for s in range(1,155) if f(19,s,2)]))\n",
    "print(20,[s for s in range(1,155) if f(19,s,3) and not f(19,s,1)])\n",
    "print(21,[s for s in range(1,155) if f(19,s,4) and not f(19,s,2)])"
   ]
  },
  {
   "cell_type": "code",
   "execution_count": null,
   "id": "31dbc09a",
   "metadata": {},
   "outputs": [],
   "source": [
    "def f(s1,s2,m):\n",
    "    if (s1 + s2) >= 117: return m % 2 == 0\n",
    "    if m == 0: return 0\n",
    "\n",
    "    nm = [f(s1 + 1,s2, m - 1), f(s1 * 2, s2, m - 1), f(s1, s2 + 1, m - 1), f(s1, s2 * 2, m - 1)]\n",
    "    #return any(nm) if (m - 1) % 2 == 0 else any(nm)\n",
    "    return any(nm) if (m - 1) % 2 == 0 else all(nm)\n",
    "\n",
    "#print(19, min([s for s in range(1,104) if f(13,s,2) and not f(13,s,1)]))\n",
    "print(20,[s for s in range(1,104) if f(13,s,3) and not f(13,s,1)])\n",
    "print(21, [s for s in range(1,104) if f(13,s,4) and not f(13,s,2)])"
   ]
  },
  {
   "cell_type": "code",
   "execution_count": null,
   "id": "4476f617",
   "metadata": {},
   "outputs": [],
   "source": [
    "def f(s1,s2,m):\n",
    "    if (s1 + s2) >= 159: return m % 2 == 0\n",
    "    if m == 0: return 0\n",
    "\n",
    "    nm = [f(s1 + 1, s2, m - 1), f(s1 + 3, s2, m - 1), f(s1 * 2, s2, m - 1), f(s1, s2 + 1, m - 1), f(s1, s2 + 3, m - 1), f(s1, s2 * 2, m - 1)]\n",
    "    # return any(nm) if (m - 1) % 2 == 0 else any(nm)\n",
    "    return any(nm) if (m - 1) % 2 == 0 else all(nm)\n",
    "\n",
    "#print(19, min([s for s in range(1, 131) if f(7,s,2) and not f(7,s,1)]))\n",
    "print(20, [s for s in range(1, 131) if f(7,s,3) and not f(7,s,1)])\n",
    "print(21, [s for s in range(1, 131) if f(7,s,4) and not f(7,s,2)])"
   ]
  },
  {
   "cell_type": "code",
   "execution_count": null,
   "id": "f2641a69",
   "metadata": {},
   "outputs": [],
   "source": [
    "def f(s1,s2,m):\n",
    "    if s1 < 10 or s2 < 10: return m % 2 == 0\n",
    "    if m == 0: return 0\n",
    "\n",
    "    nm = [f(s1 - 1,s2, m - 1), f(s1 - 3, s2, m - 1), f(s1, s2 - 1, m - 1), f(s1, s2 - 3, m - 1)]\n",
    "    return any(nm) if (m - 1) % 2 == 0 else all(nm)\n",
    "\n",
    "print(19, [s for s in range(1,100) if f(s,s,2) and not f(s,s,1)])\n",
    "print(20, [s for s in range(1,100) if f(13,s,3) and not f(13,s,1)])\n",
    "print(21, [s for s in range(1,100) if f(13,s,4) and not f(13,s,2)])"
   ]
  },
  {
   "cell_type": "code",
   "execution_count": null,
   "id": "60e6739a",
   "metadata": {},
   "outputs": [],
   "source": [
    "from math import ceil #тк по условию \"если количество камней в куче нечётно, остаётся на 1 камень больше, чем убирается\"\n",
    "\n",
    "def f(s1,s2,m):\n",
    "    if (s1 + s2) <= 32: return m % 2 == 0\n",
    "    if m == 0: return 0\n",
    "    nm = [f(s1 - 1,s2, m - 1), f(ceil(s1 / 2),s2,m -1), f(s1, s2 - 1, m - 1), f(s1, ceil(s2 / 2), m - 1)]\n",
    "    # return any(nm) if (m - 1) % 2 == 0 else any(nm)\n",
    "    return any(nm) if (m - 1) % 2 == 0 else all(nm)\n",
    "\n",
    "print(19, min([s for s in range(23,100) if f(10,s,2) and not f(10,s,1)]))\n",
    "print(20, ([s for s in range(23,100) if f(10,s,3) and not f(10,s,1)]))\n",
    "print(21, ([s for s in range(23,100) if f(10,s,4) and not f(10,s,2)]))"
   ]
  },
  {
   "cell_type": "code",
   "execution_count": null,
   "id": "53f99975",
   "metadata": {},
   "outputs": [],
   "source": []
  }
 ],
 "metadata": {
  "kernelspec": {
   "display_name": "Python 3",
   "language": "python",
   "name": "python3"
  },
  "language_info": {
   "codemirror_mode": {
    "name": "ipython",
    "version": 3
   },
   "file_extension": ".py",
   "mimetype": "text/x-python",
   "name": "python",
   "nbconvert_exporter": "python",
   "pygments_lexer": "ipython3",
   "version": "3.12.8"
  }
 },
 "nbformat": 4,
 "nbformat_minor": 5
}
