{
 "cells": [
  {
   "cell_type": "code",
   "execution_count": 4,
   "metadata": {},
   "outputs": [
    {
     "name": "stdout",
     "output_type": "stream",
     "text": [
      "2\n"
     ]
    }
   ],
   "source": [
    "k = 0\n",
    "for i in open('9_2.csv'):\n",
    "    x = list(map(int, i.split(',')))\n",
    "    x.sort()\n",
    "    p1 = x[-1] ** 2 > x[-2] * x[-3] * x[-4] * x[-5]\n",
    "    if p1:\n",
    "        k += 1\n",
    "print(k)"
   ]
  },
  {
   "cell_type": "code",
   "execution_count": 9,
   "metadata": {},
   "outputs": [
    {
     "name": "stdout",
     "output_type": "stream",
     "text": [
      "2585\n"
     ]
    }
   ],
   "source": [
    "k = 0\n",
    "for i in open('9_3.csv'):\n",
    "    x = list(map(int,i.split(\",\")))\n",
    "    x.sort()\n",
    "    p1 = (x[0] + x[-1]) ** 2 > x[1] ** 2 + x[2] ** 2 + x[3] ** 2\n",
    "    if p1:\n",
    "        k += 1\n",
    "print(k)"
   ]
  },
  {
   "cell_type": "code",
   "execution_count": 11,
   "metadata": {},
   "outputs": [
    {
     "name": "stdout",
     "output_type": "stream",
     "text": [
      "2511\n"
     ]
    }
   ],
   "source": [
    "k = 0\n",
    "for i in open('9_4.csv'):\n",
    "    x = list(map(int,i.split(\",\")))\n",
    "    x.sort()\n",
    "    p1 = (x[0]*x[-1])**2 > 3 * (x[1]*x[2]*x[3])\n",
    "    if p1:\n",
    "        k += 1\n",
    "print(k)"
   ]
  },
  {
   "cell_type": "code",
   "execution_count": 12,
   "metadata": {},
   "outputs": [
    {
     "name": "stdout",
     "output_type": "stream",
     "text": [
      "2559\n"
     ]
    }
   ],
   "source": [
    "k = 0\n",
    "for i in open('9_5.csv'):\n",
    "    x = list(map(int,i.split(',')))\n",
    "    x.sort()\n",
    "    p1 = (x[0]+x[2])/2 <= x[1]\n",
    "    if p1:\n",
    "        k += 1\n",
    "print(k)"
   ]
  },
  {
   "cell_type": "code",
   "execution_count": 13,
   "metadata": {},
   "outputs": [
    {
     "name": "stdout",
     "output_type": "stream",
     "text": [
      "76\n"
     ]
    }
   ],
   "source": [
    "k = 0\n",
    "for i in open('9_6.csv'):\n",
    "    x = list(map(int,i.split(',')))\n",
    "    x.sort()\n",
    "    p = (x[0]+x[-1])/2\n",
    "    if p in x:\n",
    "        k += 1\n",
    "print(k)"
   ]
  },
  {
   "cell_type": "code",
   "execution_count": 14,
   "metadata": {},
   "outputs": [
    {
     "name": "stdout",
     "output_type": "stream",
     "text": [
      "3048\n"
     ]
    }
   ],
   "source": [
    "k = 0\n",
    "for i in open('9_7.csv'):\n",
    "    x = list(map(int,i.split(',')))\n",
    "    x.sort()\n",
    "    p1 = (x[0]+x[-1]) ** 3 > x[1] ** 3 + x[2] ** 3 + x[3] ** 3\n",
    "    if p1:\n",
    "        k += 1\n",
    "print(k)"
   ]
  },
  {
   "cell_type": "code",
   "execution_count": 15,
   "metadata": {},
   "outputs": [
    {
     "name": "stdout",
     "output_type": "stream",
     "text": [
      "1114\n"
     ]
    }
   ],
   "source": [
    "k = 0\n",
    "for i in open('9_8.csv'):\n",
    "    x = list(map(int, i.split(',')))\n",
    "    p = x[1] ** 2 - 4 * x[0] * x[2]\n",
    "    if p > 0:\n",
    "        k += 1\n",
    "print(k)"
   ]
  },
  {
   "cell_type": "code",
   "execution_count": null,
   "metadata": {},
   "outputs": [],
   "source": [
    "count = 0\n",
    "for s in open('9_9.csv'):\n",
    "    a = [int(i) for i in s.split(';')]  # пройдёмся по элементам строки и запишем все числа в массив, учитывая, что они разделены ;\n",
    "  # создаем массив с повторяющимися числами\n",
    "    povt = [a[i] for i in range(len(a)) if a.count(a[i]) == 3]  # наполняем его числами, которые встречаются в строке трижды\n",
    "  # создаем массив с неповторяющимися числами  \n",
    "    ne_povt = [a[i] for i in range(len(a)) if a.count(a[i]) == 1]  # наполняем его числами, которые встречаются в строке один раз\n",
    "  # учтем, что если число в строке повторяется трижды, то и в массив оно внесется три раза\n",
    "    if len(set(povt)) == 1 and len(ne_povt) == 3:  # поэтому проверяем, что длина множества от него равна 1 и длина массив с неповторяющимися числами равна 3\n",
    "        if sum(ne_povt) / len(ne_povt) <= sum(povt):  # проверяем, что среднее арифметическое уникальных чисел не больше суммы повторов\n",
    "            count += 1  # если все условия соблюдены, то увеличиваем счетчик\n",
    "print(count)  # печатаем ответ\n"
   ]
  },
  {
   "cell_type": "code",
   "execution_count": 4,
   "metadata": {},
   "outputs": [
    {
     "name": "stdout",
     "output_type": "stream",
     "text": [
      "248\n"
     ]
    }
   ],
   "source": [
    "f = open('9_10.csv')  # открываем файл с данными \n",
    "count = 0  # создаём переменную-счётчик для количества подходящих строк\n",
    "for s in f:  # перебираем строки в файле\n",
    "  a = [int(i) for i in s.split(',')]  # пройдёмся по элементам строки и запишем все числа в массив\n",
    "  flag = False  # инициализируем переменную, котора будет показывать, что условие выполнилось хотя бы раз\n",
    "  for i in range(3):  # рассматриваем все подпоследовательности длины 3\n",
    "    if a[i] % 2 == 1 and a[i + 1] % 2 == 1 and a[i + 2] % 2 == 1 and a[i] <= a[i + 1] <= a[i + 2]:  # если выполнено условие задачи\n",
    "      flag = True  # то присваиваем переменной флаг значение истина\n",
    "  if flag:  # если переменная флаг истинна\n",
    "    count += 1  # то увеличиваем счетчик\n",
    "print(count)  # выводим ответ"
   ]
  },
  {
   "cell_type": "code",
   "execution_count": 6,
   "metadata": {},
   "outputs": [
    {
     "name": "stdout",
     "output_type": "stream",
     "text": [
      "691\n"
     ]
    }
   ],
   "source": [
    "f = open('9_11.csv')\n",
    "cnt = 0\n",
    "for a in f:\n",
    "    s = [int(i) for i in a.split(';')]\n",
    "    s.sort()\n",
    "    povt = [s[i] for i in range(len(s)) if s.count(s[i]) == 2]\n",
    "    ne_povt = [s[i] for i in range(len(s)) if s.count(s[i]) == 1]\n",
    "    if len(povt) == 2 and len(ne_povt) == 3:\n",
    "        if (s[0] + s[-1]) ** 2 < (s[1]**2 + s[2]**2 + s[3]**2):\n",
    "            cnt += 1\n",
    "print(cnt)"
   ]
  },
  {
   "cell_type": "code",
   "execution_count": 8,
   "metadata": {},
   "outputs": [
    {
     "name": "stdout",
     "output_type": "stream",
     "text": [
      "1964\n"
     ]
    }
   ],
   "source": [
    "f = open('9_12.csv')\n",
    "cnt = 0\n",
    "for s in f:\n",
    "    a = [int(i) for i in s.split(',')]\n",
    "    a.sort()\n",
    "    povt = [a[i] for i in range(len(a)) if a.count(a[i]) != 1]\n",
    "    ne_povt = [a[i] for i in range(len(a)) if a.count(a[i]) == 1]\n",
    "    mx = max(a)\n",
    "    if len(povt) > 1 and not mx in povt:\n",
    "        if sum(povt) < sum(ne_povt):\n",
    "            cnt += 1\n",
    "print(cnt)"
   ]
  },
  {
   "cell_type": "code",
   "execution_count": 10,
   "metadata": {},
   "outputs": [
    {
     "name": "stdout",
     "output_type": "stream",
     "text": [
      "113\n"
     ]
    }
   ],
   "source": [
    "f = open('9_13.csv')\n",
    "cnt = 0\n",
    "for s in f:\n",
    "    a = [int(i) for i in s.split(',')]\n",
    "    a.sort()\n",
    "    povt = [a[i] for i in range(len(a)) if a.count(a[i]) == 2]\n",
    "    ne_povt = [a[i] for i in range(len(a)) if a.count(a[i]) == 1]\n",
    "    if len(povt) == 4 and len(ne_povt) == 3:\n",
    "        if a[0] * a[1] > a[2] + a[3] + a[4] + a[5] + a[6]:\n",
    "            cnt += 1\n",
    "print(cnt)"
   ]
  },
  {
   "cell_type": "code",
   "execution_count": 13,
   "metadata": {},
   "outputs": [
    {
     "name": "stdout",
     "output_type": "stream",
     "text": [
      "43\n"
     ]
    }
   ],
   "source": [
    "f = open('9_14.csv')\n",
    "cnt = 0\n",
    "for s in f:\n",
    "    a = [int(i) for i in s.split(',')]\n",
    "    a.sort()\n",
    "    povt = [a[i] for i in range(len(a)) if a.count(a[i]) != 1]\n",
    "    mx = max(a)\n",
    "    if 2*(a[0]**2) > a[1] * a[2] and a[1] != mx and a[2] != mx:\n",
    "        if len(povt) > 1:\n",
    "            cnt += 1\n",
    "print(cnt)"
   ]
  },
  {
   "cell_type": "code",
   "execution_count": null,
   "metadata": {},
   "outputs": [],
   "source": []
  }
 ],
 "metadata": {
  "kernelspec": {
   "display_name": "Python 3",
   "language": "python",
   "name": "python3"
  },
  "language_info": {
   "codemirror_mode": {
    "name": "ipython",
    "version": 3
   },
   "file_extension": ".py",
   "mimetype": "text/x-python",
   "name": "python",
   "nbconvert_exporter": "python",
   "pygments_lexer": "ipython3",
   "version": "3.12.8"
  }
 },
 "nbformat": 4,
 "nbformat_minor": 2
}
