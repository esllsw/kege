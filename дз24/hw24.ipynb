{
 "cells": [
  {
   "cell_type": "markdown",
   "metadata": {},
   "source": [
    "1. Определите максимальное количество идущих подряд пар символов вида “согласная + гласная” в прилагаемом файле"
   ]
  },
  {
   "cell_type": "code",
   "execution_count": null,
   "metadata": {},
   "outputs": [],
   "source": [
    "s = open('24_1.txt').readline()\n",
    "cur = s[0]\n",
    "res = 1\n",
    "for c in s:\n",
    "    cur += c\n",
    "    if not((cur[-2] in 'CDF' and cur[-1] in 'CDF') or (cur[-2] in 'AU' and cur[-1] in 'AU')):\n",
    "        res = max(res,len(cur))\n",
    "    else:\n",
    "        cur = cur[-1:]\n",
    "print(res//2)"
   ]
  },
  {
   "cell_type": "code",
   "execution_count": null,
   "metadata": {},
   "outputs": [],
   "source": [
    "s = open('24_1.txt').readline()\n",
    "cur = s[0]\n",
    "res = 1\n",
    "comb = set()\n",
    "for x in \"AU\":\n",
    "    for y in \"CDF\":\n",
    "        comb.add(x+y)\n",
    "        comb.add(y+x)\n",
    "for c in s:\n",
    "    cur += c\n",
    "    if cur[-2] + cur[-1] in comb:\n",
    "        res = max(res,len(cur))\n",
    "    else:\n",
    "        cur = cur[-1:]\n",
    "print(res//2)"
   ]
  },
  {
   "cell_type": "markdown",
   "metadata": {},
   "source": [
    "2. Определите максимальное количество идущих подряд пар символов BA или DA в прилагаемом файле. Искомая подпоследовательность должна состоять только из пар BA, или только из пар DA, или только из пар BA и DA."
   ]
  },
  {
   "cell_type": "code",
   "execution_count": null,
   "metadata": {},
   "outputs": [],
   "source": [
    "s = open('24_2.txt').readline()  # открываем файл\n",
    "\n",
    "# заменяем все пары BA и DA на *\n",
    "s = s.replace('BA', '*')  \n",
    "s = s.replace('DA', '*')   \n",
    "\n",
    "k, res = 0, 0  # инициализируем переменные для текущего количества подряд идущих пар и максимального кол-ва\n",
    "for c in s:  # перебираем символы в строке\n",
    "    if c == '*':  # если текущий символ - *\n",
    "        k += 1  # увеличиваем текущее количество пар\n",
    "        res = max(k, res)  # проверяем, что оно максимальное\n",
    "    else:\n",
    "        k = 0  # иначе обнуляем текущее количество пар\n",
    "print(res)  # выводим максимум"
   ]
  },
  {
   "cell_type": "markdown",
   "metadata": {},
   "source": [
    "3. Определите в прилагаемом файле максимальное количество идущих подряд символов, среди которых ни одна буква не стоит рядом с буквой, а цифра — с цифрой."
   ]
  },
  {
   "cell_type": "code",
   "execution_count": null,
   "metadata": {},
   "outputs": [],
   "source": [
    "s = open('24_3.txt').read()\n",
    "cur = s[0]\n",
    "res = 1\n",
    "for c in s:\n",
    "    cur += c\n",
    "    if not((cur[-2] in 'ABC' and cur[-1] in 'ABC') or (cur[-2] in '89' and cur[-1] in '89')):\n",
    "        res = max(res, len(cur))\n",
    "    else:\n",
    "        cur = cur[-1:]\n",
    "print(res)"
   ]
  },
  {
   "cell_type": "markdown",
   "metadata": {},
   "source": [
    "4. Определите максимальное количество подряд пар символов вида гласная + согласная в прилагаемом файле."
   ]
  },
  {
   "cell_type": "code",
   "execution_count": null,
   "metadata": {},
   "outputs": [],
   "source": [
    "s = open('24_4.txt').read()\n",
    "\n",
    "k,res = 0,0\n",
    "\n",
    "comb = set()\n",
    "for x in 'AE':\n",
    "    for y in 'BCD':\n",
    "        comb.add(x+y)\n",
    "\n",
    "for x in comb:\n",
    "    s = s.replace(x,\"*\")\n",
    "\n",
    "for c in s:\n",
    "    if c == '*':\n",
    "        k += 1\n",
    "        res = max(res,k)\n",
    "    else:\n",
    "        k = 0\n",
    "print(res)"
   ]
  },
  {
   "cell_type": "markdown",
   "metadata": {},
   "source": [
    "5. Текстовый файл состоит из букв латинского алфавита и десятичных цифр. Определите максимальную длину подстроки, которая ограничена с одной стороны буквой A, а с другой - D и не содержит других букв A и D внутри."
   ]
  },
  {
   "cell_type": "code",
   "execution_count": null,
   "metadata": {},
   "outputs": [],
   "source": [
    "s = open('24_5.txt').readline()\n",
    "s = s.replace('A', 'A A').replace('D', 'D D')\n",
    "M = [len(i) for i in s.split() if 'A' in i and 'D' in i]\n",
    "print(max(M))"
   ]
  },
  {
   "cell_type": "markdown",
   "metadata": {},
   "source": [
    "6. Определите максимальное количество идущих подряд троек символов вида согласная + гласная + согласная в прилагаемом файле."
   ]
  },
  {
   "cell_type": "code",
   "execution_count": null,
   "metadata": {},
   "outputs": [],
   "source": [
    "s = open('24_6.txt').read()\n",
    "\n",
    "comb = set()\n",
    "for x in 'BCDF':\n",
    "    for y in \"AEU\":\n",
    "        for z in 'BCDF':\n",
    "            comb.add(x+y+z)\n",
    "\n",
    "for x in comb:\n",
    "    s = s.replace(x,'*')\n",
    "\n",
    "k = 0\n",
    "res = 0\n",
    "for c in s:\n",
    "    if c == '*':\n",
    "        k += 1\n",
    "        res = max(res,k)\n",
    "    else:\n",
    "        k = 0\n",
    "\n",
    "print(res)"
   ]
  },
  {
   "cell_type": "markdown",
   "metadata": {},
   "source": [
    "7. Определите максимальную длину подпоследовательности, состоящей из сочетаний AB и CAC. Искомая подпоследовательность должна состоять только из пар AB, или только из троек CAC, или только из пар AB и троек CAC в произвольном порядке следования этих сочетаний."
   ]
  },
  {
   "cell_type": "code",
   "execution_count": null,
   "metadata": {},
   "outputs": [],
   "source": [
    "s = open('24_7.txt').read()\n",
    "s = s.replace('AB','**')\n",
    "s = s.replace('CACAC','CAC CAC')\n",
    "s = s.replace('CAC','***')\n",
    "\n",
    "k,res =0,0\n",
    "\n",
    "for c in s:\n",
    "    if c == '*':\n",
    "        k += 1\n",
    "        res = max(res,k)\n",
    "    else:\n",
    "        k = 0\n",
    "print(res)"
   ]
  },
  {
   "cell_type": "markdown",
   "metadata": {},
   "source": [
    "8. Определите в прилагаемом файле максимальное количество идущих подряд символов, среди которых комбинация символов AB встречается ровно 50 раз."
   ]
  },
  {
   "cell_type": "code",
   "execution_count": null,
   "metadata": {},
   "outputs": [],
   "source": [
    "s = open('24_8.txt').read()\n",
    "res = 0  # в переменной будем хранить наибольшую длину строки\n",
    "cur = ''  # наша строка, будем наращивать ее символами из файла\n",
    "for c in s:  # проходимся по символам из файла\n",
    "    cur += c  # приращиваем к строке новый символ\n",
    "    if cur.count('AB') == 51:  # если в строке стало 51 AB, на 1 больше чем должно быть\n",
    "        cur = cur[cur.find('AB') + 1:]  # отрезаем самую первую AB из текущей строки\n",
    "    if cur.count('AB') == 50:  # если в строке 50 AB\n",
    "        res = max(len(cur), res)  # сравниваем и, если нужно, заменяем максимальную длину\n",
    "print(res)  # выводим ответ"
   ]
  },
  {
   "cell_type": "markdown",
   "metadata": {},
   "source": [
    "9. Определите максимальное количество идущих подряд символов, среди которых ровно по одному разу встречаются буквы X и Y."
   ]
  },
  {
   "cell_type": "code",
   "execution_count": null,
   "metadata": {},
   "outputs": [],
   "source": [
    "s = open('24_9.txt').read()\n",
    "\n",
    "res = l = r = 0\n",
    "cx = cy = 0\n",
    "\n",
    "while r < len(s):\n",
    "    if s[r] == 'X': cx += 1\n",
    "    if s[r] == 'Y': cy += 1\n",
    "\n",
    "    while cx > 1 or cy > 1:\n",
    "        if s[l] == 'X': cx -= 1\n",
    "        if s[l] == 'Y': cy -= 1\n",
    "        l += 1\n",
    "    \n",
    "    if cx == 1 and cy == 1:\n",
    "        res = max(res,r - l + 1)\n",
    "    \n",
    "    r += 1\n",
    "\n",
    "print(res)"
   ]
  },
  {
   "cell_type": "markdown",
   "metadata": {},
   "source": [
    "10. Текстовый файл содержит строку из заглавных латинских букв и точек, всего не более 10^6 символов. Определите минимальное количество идущих подряд символов, среди которых ровно семь точек."
   ]
  },
  {
   "cell_type": "code",
   "execution_count": null,
   "metadata": {},
   "outputs": [],
   "source": [
    "s = open(r\"24_10.txt\").readline()  # считываем строку из файла\n",
    "res = 10 ** 10  # в переменной будем хранить наименьшую длину строки\n",
    "cur = ''  # наша строка, будем наращивать ее символами из файла\n",
    "for c in s:  # проходимся по символам из файла\n",
    "    cur += c  # приращиваем к строке новый символ\n",
    "    if cur.count('.') == 8:  # если в строке стало 8 точек, на 1 больше чем должно быть\n",
    "        cur = cur[cur.find('.') + 1:]  # отрезаем самую первую точку из текущей строки\n",
    "        cur = cur[cur.find('.'):]  # и отрезаем символы после первой точки, начиная строку с бывшей второй точки\n",
    "    if cur.count('.') == 7:  # если в строке 7 точек\n",
    "        res = min(len(cur), res)  # сравниваем и, если нужно, заменяем минимальную длину\n",
    "print(res)  # выводим ответ"
   ]
  },
  {
   "cell_type": "markdown",
   "metadata": {},
   "source": [
    "11. Текстовый файл содержит строку из заглавных латинских букв и точек, всего не более 10**6 символов. Определите максимальное количество идущих подряд символов, среди которых нет букв Y, а количество точек не превышает 5."
   ]
  },
  {
   "cell_type": "code",
   "execution_count": null,
   "metadata": {},
   "outputs": [],
   "source": [
    "s = open('24_11.txt').read()\n",
    "res = l = r = 0\n",
    "cy = ct = 0\n",
    "\n",
    "while r < len(s):\n",
    "    if s[r] == '.': ct += 1\n",
    "    if s[r] == 'Y': cy += 1\n",
    "\n",
    "    while cy > 0 or ct > 5:\n",
    "        if s[l] == '.': ct -= 1\n",
    "        if s[l] == 'Y': cy -= 1\n",
    "        l += 1\n",
    "    \n",
    "    if cy == 0 and ct <= 5:\n",
    "        res = max(res,r - l + 1)\n",
    "\n",
    "    r += 1\n",
    "print(res)"
   ]
  },
  {
   "cell_type": "code",
   "execution_count": null,
   "metadata": {},
   "outputs": [],
   "source": [
    "res = 0\n",
    "temp = '' # В эту переменную будем записывать текущую подходящую строку\n",
    "\n",
    "# Проходим по символам строки\n",
    "for i in s:\n",
    "  # Если количество точек превысило требуемое, то есть их стало 6\n",
    "  if temp.count('.') == 6:\n",
    "    res = max(res, len(temp) - 1) # То фиксируем длину подстроки, но вычитаем 1, так как там включена 6-ая точка\n",
    "    temp = temp[temp.find('.') + 1:] # И в temp оставляем всё после первой встретившейся там точки\n",
    "  \n",
    "  # Затем мы должны добавить текущий символ в нашу подстроку\n",
    "  if i != 'Y': # Если это не Y,\n",
    "    temp += i # Добавляем символ\n",
    "  else:\n",
    "    temp = '' # Иначе полностью обнуляем подстроку\n",
    "\n",
    "print(res)"
   ]
  },
  {
   "cell_type": "markdown",
   "metadata": {},
   "source": [
    "12. Определите максимальную длину цепочки вида ABABAB... (составленной из фрагментов AB, последний фрагмент может быть неполным)"
   ]
  },
  {
   "cell_type": "code",
   "execution_count": null,
   "metadata": {},
   "outputs": [],
   "source": [
    "s = open('24_12.txt').read()\n",
    "cur = 'AB'\n",
    "\n",
    "while cur + cur[-2] in s:\n",
    "    cur += cur[-2]\n",
    "\n",
    "print(len(cur))"
   ]
  },
  {
   "cell_type": "code",
   "execution_count": null,
   "metadata": {},
   "outputs": [],
   "source": [
    "print(len('ABABABABABABABABABABABAB'))"
   ]
  },
  {
   "cell_type": "markdown",
   "metadata": {},
   "source": [
    "13. Текстовый файл состоит не более чем из 10**6 символов и содержит только заглавные буквы латинского алфавита. Определите максимальное количество идущих подряд символов, среди которых буквы X и Y встречаются ровно по одному разу, а буква A не встречается совсем."
   ]
  },
  {
   "cell_type": "code",
   "execution_count": null,
   "metadata": {},
   "outputs": [],
   "source": [
    "s = open('24_13.txt').read()\n",
    "\n",
    "res = r = l = 0\n",
    "cx = cy = ca = 0\n",
    "\n",
    "while r < len(s):\n",
    "    if s[r] == 'X': cx += 1\n",
    "    if s[r] == 'Y': cy += 1\n",
    "    if s[r] == 'A': ca += 1\n",
    "\n",
    "    while cx > 1 or cy > 1 or ca > 0:\n",
    "        if s[l] == 'X': cx -= 1\n",
    "        if s[l] == 'Y': cy -= 1\n",
    "        if s[l] == 'A': ca -= 1\n",
    "        l += 1\n",
    "    \n",
    "    if cx == 1 and cy == 1 and ca == 0:\n",
    "        res = max(res, r - l + 1)\n",
    "    \n",
    "    r += 1\n",
    "print(res)"
   ]
  },
  {
   "cell_type": "markdown",
   "metadata": {},
   "source": [
    "14. Определите максимальное количество подряд идущих символов, среди которых символ R встречается не менее 2 раз, а количество символов А не превышает 3."
   ]
  },
  {
   "cell_type": "code",
   "execution_count": null,
   "metadata": {},
   "outputs": [],
   "source": [
    "s = open('24_14.txt').read()\n",
    "res = r = l = 0\n",
    "cr = ca = 0\n",
    "\n",
    "while r < len(s):\n",
    "    if s[r] == \"A\": ca += 1\n",
    "    if s[r] == 'R': cr += 1\n",
    "\n",
    "    while ca > 3:\n",
    "        if s[l] == 'A': ca -= 1\n",
    "        l += 1\n",
    "    \n",
    "    if cr >= 2 and ca <= 3:\n",
    "        res = max(res, r - l + 1)\n",
    "    \n",
    "    r += 1\n",
    "print(res)"
   ]
  },
  {
   "cell_type": "markdown",
   "metadata": {},
   "source": [
    "15. Текстовый файл состоит не более, чем из 1 200 000 прописных символов латинского алфавита. Определите максимальное количество идущих подряд символов, среди которых любые два символа из набора Q, R, S в различных комбинациях (с учётом повторений) не стоят рядом."
   ]
  },
  {
   "cell_type": "code",
   "execution_count": null,
   "metadata": {},
   "outputs": [],
   "source": [
    "s = open('24_15.txt').read()\n",
    "comb = set()\n",
    "for x in 'QRS':\n",
    "    for y in 'QRS':\n",
    "        comb.add(x+y)\n",
    "for x in comb:\n",
    "    s = s.replace(x,'*')\n",
    "\n",
    "res = r = l = cz = 0\n",
    "while r < len(s):\n",
    "    if s[r] == '*': cz += 1\n",
    "    while cz > 0:\n",
    "        if s[l] == '*': cz -= 1\n",
    "        l += 1\n",
    "    if cz == 0:\n",
    "        res = max(res,r-l+1)\n",
    "    r += 1\n",
    "print(res + 2)"
   ]
  },
  {
   "cell_type": "code",
   "execution_count": null,
   "metadata": {},
   "outputs": [],
   "source": [
    "f = open('24_15.txt').readline()  # считываем строку из файла\n",
    "k = ms = 0  # заводим 2 переменные, k - будет считать количество символов в рассматриваемой подпоследовательности, а ms - хранить\n",
    "# максимальную длину подходящей под условие подпоследовательности\n",
    "f = f.replace('Q', '1').replace('R', '1').replace('S', '1')  # заменяем все буквы Q,R,S на единицу во всей строке\n",
    "for i in range(len(f)):  # проходимся по всем символам строки\n",
    "    k += 1  # каждый символ считаем в переменную k\n",
    "    if f[i] == '1' and f[i + 1] == '1':  # если рассматриваемый символ это единица и при этом следующий символ тоже единица, то\n",
    "    # сравниваем k и ms и максимальное из них записываем в ms, при этом обнуляем k и начинаем рассматривать новую подпоследовательность\n",
    "        ms = max(ms, k)\n",
    "        k = 0\n",
    "print(ms)"
   ]
  },
  {
   "cell_type": "markdown",
   "metadata": {},
   "source": [
    "16. Разработчики создают систему автоматического распознавания математических выражений для образовательной платформы. Точность распознавания зависит от способности системы правильно идентифицировать и обрабатывать различные комбинации символов и чисел.\n",
    "\n",
    "Для тестирования вам выдали текстовый файл, состоящий из символов, обозначающих знаки « * », « – » и цифры 0, 1, 2, 3, 4, 9.\n",
    "\n",
    "Вам нужно в прилагаемом файле определить максимальное количество идущих подряд символов, которые образуют математически правильную последовательность, в которую входят знаки «*» или «–» и целые неотрицательные числа без незначащих нулей, чтобы улучшить точность распознавания выражений."
   ]
  },
  {
   "cell_type": "code",
   "execution_count": null,
   "metadata": {},
   "outputs": [],
   "source": [
    "s = open('24_16.txt').read()\n",
    "\n",
    "for c in '12349':\n",
    "    s = s.replace(c,'1')\n",
    "s = s.replace('-','*').replace('**',' ')\n",
    "\n",
    "s = s.replace(' 01',' 1')\n",
    "s = s.replace('*01',' 1')\n",
    "s = s.replace('*00',' 0')\n",
    "s = s.replace(' 00', ' 0')\n",
    "\n",
    "s = s.replace(' *',' ')\n",
    "s = s.replace('* ', \" \")\n",
    "\n",
    "a = [c for c in s.split()]\n",
    "for c in sorted(a,key=len,reverse=1)[:10]:\n",
    "    print(len(c),c)"
   ]
  },
  {
   "cell_type": "markdown",
   "metadata": {},
   "source": [
    "17. Текстовый файл состоит из десятичных цифр, знаков «+» и «*» (сложения и умножения). Рассматриваются непрерывные последовательности символов, которые являются корректными арифметическими выражениями с целыми положительными числами. В этих выражениях никакие два знака арифметических операций не стоят рядом, порядок действий определяется по правилам математики. В записи чисел отсутствуют незначащие (ведущие) нули. Определите максимальное количество чисел, входящих в одну из таких последовательностей."
   ]
  },
  {
   "cell_type": "code",
   "execution_count": null,
   "metadata": {},
   "outputs": [],
   "source": [
    "s = open('24_17.txt').readline().rstrip().replace(\"*\", \"+\")  # Заменяем '*' на '+' для упрощения обработки\n",
    "\n",
    "# Преобразуем строку, заменяя некорректные случаи:\n",
    "# 1. '++' на '+ +' (два знака '+' подряд)\n",
    "# 2. '+0' на ' +' (число, начинающееся с '0' после знака '+', нужно исправить)\n",
    "while '++' in s or '+0' in s:\n",
    "    s = s.replace('++', '+ +').replace('+0', ' +')  # Заменяем все такие случаи\n",
    "\n",
    "# Инициализируем переменную для хранения максимального количества чисел\n",
    "m = 0\n",
    "\n",
    "# Разделяем строку на части по пробелам (каждая часть — это число или группа чисел, разделённых '+')\n",
    "for sub in s.split():  # Проходим по каждой части строки\n",
    "    sub = sub.strip('+')  # Убираем лишние знаки '+' в начале и в конце числа\n",
    "    if '+' in sub:  # Если в строке есть знак сложения, значит, это группа чисел\n",
    "        m = max(m, len(sub.split('+')))  # Разделяем строку по знаку '+' и подсчитываем количество чисел\n",
    "\n",
    "# Выводим максимальное количество чисел, которое нашли в строке\n",
    "print(m)"
   ]
  },
  {
   "cell_type": "markdown",
   "metadata": {},
   "source": [
    "Текстовый файл состоит из цифр от 1 до 9, знаков операций «+», «–» и «*» (сложение, вычитание и умножение) и заглавных латинских букв A, B, C, D. Назовём правильной суммой строку, содержащую последовательность из одного или более десятичных чисел, в которой между соседними числами стоит ровно один знак «+» и нет других знаков.\n",
    "\n",
    "Примеры правильных сумм: «23», «115+6», «1980+12+12351».\n",
    "\n",
    "Назовём результатом правильной суммы число, которое получится при выполнении записанных в соответствующей строке сложений. Например, результат правильной суммы «2+3» – число 5\n",
    "\n",
    "Найдите в данной строке правильную сумму, расположенную непосредственно после буквы A и имеющую наибольший результат.\n",
    "\n",
    "В ответе запишите результат найденной суммы. Гарантируется, что ответ не превышает 2 ** 9"
   ]
  },
  {
   "cell_type": "code",
   "execution_count": null,
   "metadata": {},
   "outputs": [],
   "source": [
    "# неправильно почему-то((\n",
    "s = open('24_18.txt').read()\n",
    "res = []\n",
    "s = s.replace('*',' ').replace('-',' ')\n",
    "\n",
    "s = s.replace('++', ' ')\n",
    "\n",
    "for c in 'BCD':\n",
    "    s = s.replace(c, ' ')\n",
    "while ' +' in s or 'A ' in s or 'AA' in s:\n",
    "    s = s.replace(' +', ' ')\n",
    "    s = s.replace('A ', ' ')\n",
    "    s = s.replace('AA', 'A')\n",
    "\n",
    "for c in set(s):\n",
    "    s = s.replace(c + 'A', c + ' A')\n",
    "s = s.replace('A+', ' ')\n",
    "s = s.replace('+ ', ' ')\n",
    "a = [c for c in s.split() if c[0] == 'A' and '+' in c]\n",
    "for c in a:\n",
    "    res.append(eval(c[1:]))\n",
    "print(max(res))"
   ]
  },
  {
   "cell_type": "code",
   "execution_count": null,
   "metadata": {},
   "outputs": [],
   "source": [
    "s = s.split(\"A\")  # разделяем строку из файла на кусочки, которые начинаются после А\n",
    "s1 = []  # список в котором будем хранить все правильные суммы\n",
    "for i in s:  # перебираем строки, начинающиеся после А\n",
    "    # заменяем все символы кроме чисел и + на пробелы\n",
    "    i = i.replace(\"B\", \" \").replace(\"C\", \" \").replace(\"D\", \" \").replace(\"-\", \" \").replace(\"*\", \" \")\n",
    "    i = i.split(\" \")[0] # делим строку на отрезки между пробелами, берем только первый из них, только он шел после А\n",
    "    i = i.split(\"+\") # делим получившуюся строку на отрезки между +\n",
    "    if '' not in i: # если не получилось пустых строк, т.е. в начале и в конце суммы было число\n",
    "        s1.append(sum(map(int, i))) # то добавляем результат правильной суммы в список\n",
    "print(max(s1)) # выводим максимальное из списка результатов сумм."
   ]
  },
  {
   "cell_type": "code",
   "execution_count": null,
   "metadata": {},
   "outputs": [],
   "source": [
    "s = open('24_19.txt').read()\n",
    "res1 = []\n",
    "res2 = []\n",
    "s = s.replace('++', ' ').replace('()',' ').replace('((',' (').replace('))',') ')\n",
    "for c in '1234':\n",
    "    s = s.replace(c + '(', c + ' (')\n",
    "    s = s.replace(')' + c, ') '+ c)\n",
    "\n",
    "s = s.replace(')(', ') (')\n",
    "s = s.replace('(+', ' ').replace(')+', \" \")\n",
    "s = s.replace('+)', \" \").replace('+(', \" \")\n",
    "\n",
    "a = [c for c in s.split() if c[0] == '(' and c[-1] == ')' and '+' in c and c.count('(') == 1 and c.count(')') == 1]\n",
    "for c in sorted(a,key=len,reverse=1):\n",
    "    if eval(c[1:-1]) % 2 == 0:\n",
    "        res1.append(c)\n",
    "print(len(res1[0]))"
   ]
  },
  {
   "cell_type": "code",
   "execution_count": null,
   "metadata": {},
   "outputs": [],
   "source": [
    "text = open('24_20.txt').read()\n",
    "import re\n",
    "\n",
    "# Регулярное выражение для поиска email-подобных строк\n",
    "pattern = r\"[a-z]+@[a-z]+\\.[a-z]+\"\n",
    "\n",
    "# Поиск всех вхождений\n",
    "matches = re.findall(pattern, text)\n",
    "\n",
    "# Определяем максимальную длину\n",
    "max_length = max(map(len, matches), default=0)\n",
    "max_length\n"
   ]
  },
  {
   "cell_type": "code",
   "execution_count": null,
   "metadata": {},
   "outputs": [],
   "source": [
    "s = open('24_21.txt').read()\n",
    "import re\n",
    "\n",
    "x = r'(?:0|[1-9][0-9]*)'\n",
    "pat = rf'{x}(?:[+*]{x})*'\n",
    "a = re.findall(pat, s)\n",
    "res = sorted(a,key=len,reverse=1)\n",
    "for c in res[:1]:\n",
    "    print(eval(c))"
   ]
  },
  {
   "cell_type": "code",
   "execution_count": null,
   "metadata": {},
   "outputs": [],
   "source": [
    "import re\n",
    "s = open('24_22.txt').read()\n",
    "\n",
    "x = r'(?:0|[2345][02345]*)'\n",
    "pat = rf'{x}(?:[+*]{x})*'\n",
    "\n",
    "a = re.findall(pat,s)\n",
    "res = sorted(a,key=len,reverse=1)\n",
    "for c in res[:10]:\n",
    "    print(len(c),c)"
   ]
  },
  {
   "cell_type": "code",
   "execution_count": 86,
   "metadata": {},
   "outputs": [
    {
     "name": "stdout",
     "output_type": "stream",
     "text": [
      "142844\n"
     ]
    }
   ],
   "source": [
    "from re import *  # импортируем регулярные выражения\n",
    "\n",
    "s = open(\"24_23.txt\").readline()  # открываем файл и считываем строку\n",
    "# записываем регулярное выражение для подходящего числа: 0 или цифра от 1 до 7 и сколько угодно цифр от 0 до 7\n",
    "x = \"(?:0|[1-7][0-7]*)\"  # от 0 до 7 ставим потому, что ищем числа в восьмеричной сс\n",
    "# записываем выражение для подходящей строки: начинается с F, дальше идет число,\n",
    "# а за ним 1 или больше подстрока вида +число или *число\n",
    "pat = f\"F{x}(?:[+*]{x})+\"\n",
    "a = findall(pat, s)  # ищем все строки, подходящие под паттерн\n",
    "a.sort(key=len, reverse=True)  # сортируем строки по длине от самых длинных к самым коротким\n",
    "maxi = 0  # переменная для хранения наибольшего результата выражения из строки\n",
    "for s in a:  # перебираем все найденные строки\n",
    "    if len(s) == len(a[0]):  # если строка по длине совпадает с наибольшей строкой\n",
    "        s = s[1:]  # отрезаем букву F из начала строки\n",
    "        s = s.split('+')  # делим строку через +\n",
    "        res = 0  # переменная для хранения результата выражения в строке\n",
    "        for i in s:  # перебираем кусочки выражения, поделенные через +\n",
    "            if \"*\" not in i:  # если в кусочке нет умножения, то это просто число\n",
    "                res += int(i, 8)  # переводим число из восьмеричной сс и прибавляем к результату\n",
    "            else:  # если в строке нашлось *, то надо сначала решить этот кусочек\n",
    "                temp = 1  # переменная для хранения результата кусочка выражения со знаком *\n",
    "                for j in i.split(\"*\"):  # делим кусочек на числа через * и перебираем их\n",
    "                    temp *= int(j, 8)  # переводим из 8сс и умножаем\n",
    "                res += temp  # увеличиваем результат выражения на результат кусочка\n",
    "        maxi = max(res, maxi)  # обновляем наибольший результат если требуется\n",
    "print(maxi)"
   ]
  },
  {
   "cell_type": "code",
   "execution_count": 88,
   "metadata": {},
   "outputs": [
    {
     "name": "stdout",
     "output_type": "stream",
     "text": [
      "68 B3*13-154623*3-444*632-6144*4-25*4*265635354135514*2113*444133*61464\n",
      "64 B6*3445-112*665214*46*5*432-1-634*644515*53*2*1*44536-53*3455342\n",
      "64 B4-2*5-4*1*4*2*345161431141*365-41-4-45-4*264-53434113532*2*1-65\n",
      "63 B2513126*356144*545-36224-5*1-251*45*3462164*1*6342*1666*226*24\n",
      "62 B514-5*6*266-456464*62*31-46235-5-5355135126*43*634*235-445*24\n",
      "62 B2-52224521*212362-46-6*6*5455*3*6532352*64*222*512-4*2334-6*3\n",
      "61 B4-342-61652*1644-1-5*246*63-3-356*64-614-1323-6532-11*424511\n",
      "61 B664*26*11-31-2*16465665521*2*35*43122536-13*63*4*16-13464654\n",
      "61 B631436134*4*66-4-3*321-1364462-16411-1*3*21*1-5-5*4663435564\n",
      "60 B62*24361263-3432*13*4-412-6564*2-44335*62-4*6514-1355363546\n"
     ]
    }
   ],
   "source": [
    "import re\n",
    "s = open('24_24.txt').read()\n",
    "\n",
    "x = '(?:0|[1-6][0-6]*)'\n",
    "pat = f'B{x}(?:[-*]{x})+'\n",
    "\n",
    "a = re.findall(pat,s)\n",
    "res = sorted(a,key=len,reverse=1)\n",
    "for c in res[:10]:\n",
    "    print(len(c), c)"
   ]
  },
  {
   "cell_type": "code",
   "execution_count": 4,
   "metadata": {},
   "outputs": [
    {
     "name": "stdout",
     "output_type": "stream",
     "text": [
      "72 AFD448*675+16*698+715*448*132191*1540851*484*502*805+38311+873*103*879*0\n",
      "28 AFD581*675*1320262*635+463+0\n",
      "20 AFD637*669*928*679+0\n",
      "8 AFD214*0\n"
     ]
    }
   ],
   "source": [
    "import re\n",
    "s = open('24_25.txt').read()\n",
    "\n",
    "x = '(?:0|[1-9][0-9]*)'\n",
    "pat = f'AFD{x}(?:[+*]{x})+'\n",
    "\n",
    "a = re.findall(pat,s)\n",
    "res = sorted(a,key=len,reverse=1)\n",
    "for c in res:\n",
    "    print(len(c), c)"
   ]
  },
  {
   "cell_type": "code",
   "execution_count": null,
   "metadata": {},
   "outputs": [
    {
     "name": "stdout",
     "output_type": "stream",
     "text": [
      " 555 777 3 5 3 1 3311 3 9 577331 99 5 3 11 5 7 579 1 3 7 9 7 \n",
      "\n"
     ]
    }
   ],
   "source": [
    "s = open('24_27.txt').read()\n",
    "\n",
    "for c in 'QWERTYUIOPASDFGHJKLZXCVBNM2468':\n",
    "    s = s.replace(c, ' ')\n",
    "while '  ' in s:\n",
    "    s = s.replace('  ', ' ')\n",
    "print(s)"
   ]
  },
  {
   "cell_type": "code",
   "execution_count": 18,
   "metadata": {},
   "outputs": [
    {
     "name": "stdout",
     "output_type": "stream",
     "text": [
      "362\n"
     ]
    }
   ],
   "source": [
    "task = open(\"24_28.txt\").readline()\n",
    "res = 0\n",
    "# цикл идет до len(task) - 2, поскольку мы будем рассматривать текущий элемент и два последующих\n",
    "for i in range(0, len(task) - 2):\n",
    "    if task[i] == task[i+2]: # проверяем, что первый символ совпадает с третьим\n",
    "        if task[i+1] == 'B' or task[i+1] == 'D' or task[i+1] == 'E': # Второй символ B, D или E\n",
    "            if (task[i+2] == 'A' or task[i+2] == 'C' or task[i+2] == 'D') and (task[i+2] != task[i+1]): # 3 символ из A, C, D не равен второму\n",
    "                res += 1 # Если все условия выполнились, считаем эту цепочку\n",
    "\n",
    "print(res)"
   ]
  },
  {
   "cell_type": "code",
   "execution_count": 21,
   "metadata": {},
   "outputs": [
    {
     "name": "stdout",
     "output_type": "stream",
     "text": [
      "U 1618\n"
     ]
    }
   ],
   "source": [
    "s = open('24_26.txt').readline()  # открываем файл\n",
    "\n",
    "res = {}  # создаём словарь, где ключ - буква после Х, а значение - сколько раз она встретилась\n",
    "\n",
    "for i in range(len(s) - 1):  # перебираем символы в строке\n",
    "    if s[i] == 'X':  # если текущий символ Х\n",
    "        if s[i + 1] in res:  # проверяем, что данная буква есть в словаре\n",
    "            res[s[i + 1]] += 1  # обновляем счетчик\n",
    "        else:  # если её ещё нет в словаре\n",
    "            res[s[i + 1]] = 1  # то создаем новую ячейку и записываем значение 1\n",
    "\n",
    "# инициализируем переменные под букву и число её повторений после Х\n",
    "maxl = ''\n",
    "maxc = 0\n",
    "for a in res:  # проходимся по ключам в словаре\n",
    "    if res[a] > maxc:  # проверяем, что текущее кол-во повторений больше максимума\n",
    "        maxc = res[a]  # обновляем максимальное количество\n",
    "        maxl = a  # обновляем букву\n",
    "\n",
    "print(maxl, maxc)  # выводим ответ"
   ]
  },
  {
   "cell_type": "code",
   "execution_count": 22,
   "metadata": {},
   "outputs": [
    {
     "name": "stdout",
     "output_type": "stream",
     "text": [
      "467\n"
     ]
    }
   ],
   "source": [
    "count = 0\n",
    "\n",
    "# Замените 'filename.txt' на имя вашего файла\n",
    "with open('24_29.txt', 'r') as file:\n",
    "    for line in file:\n",
    "        line = line.strip()\n",
    "        if line.count('E') > line.count('A'):\n",
    "            count += 1\n",
    "\n",
    "print(count)\n"
   ]
  },
  {
   "cell_type": "code",
   "execution_count": 23,
   "metadata": {},
   "outputs": [
    {
     "name": "stdout",
     "output_type": "stream",
     "text": [
      "467\n"
     ]
    }
   ],
   "source": [
    "count = 0  # инициализируем переменную счетчик\n",
    "\n",
    "with open('24_29.txt') as file:  # открываем файл\n",
    "    for line in file.readlines():  # проходимся по строкам в файле\n",
    "        a, e = 0, 0  # инициализируем переменные для подсчета количества букв а и е\n",
    "        for letter in line:  # проходимся по буквам в строке\n",
    "            if letter == 'A':  # если текущая буква равна а\n",
    "                a += 1  # то увеличиваем переменную с количеством а\n",
    "            if letter == 'E':  # если буква е\n",
    "                e += 1  # то увеличиваем соответствующую переменную\n",
    "        if e > a:  # если е в строке больше, чем а\n",
    "            count += 1  # то тогда увеличиваем счетчик\n",
    "\n",
    "print(count)  # выводим ответ"
   ]
  },
  {
   "cell_type": "code",
   "execution_count": 27,
   "metadata": {},
   "outputs": [
    {
     "name": "stdout",
     "output_type": "stream",
     "text": [
      "1521\n"
     ]
    }
   ],
   "source": [
    "s = open('24_30.txt').read()\n",
    "res = 0\n",
    "for i in range(len(s) - 5):\n",
    "    if s[i:i+5] == s[i+4] + s[i+3] + s[i+2] + s[i+1] + s[i]:\n",
    "        res += 1\n",
    "print(res)"
   ]
  },
  {
   "cell_type": "code",
   "execution_count": 33,
   "metadata": {},
   "outputs": [
    {
     "name": "stdout",
     "output_type": "stream",
     "text": [
      "150\n"
     ]
    }
   ],
   "source": [
    "s = open('24_33.txt').read()\n",
    "substr = 'EBCF'  # создаём подстроку, которую будем увеличивать с каждой итерацией \n",
    "                 # и проверять её наличие в строке\n",
    "\n",
    "while (substr + substr[-4]) in s:  # если нашли подстроку, которая на 1 символ больше текущей,\n",
    "                                   # то увеличиваем нашу подстроку до тех пор, пока не достигнем максимума\n",
    "  substr += substr[-4] \n",
    "\n",
    "print(len(substr))"
   ]
  },
  {
   "cell_type": "code",
   "execution_count": 36,
   "metadata": {},
   "outputs": [
    {
     "name": "stdout",
     "output_type": "stream",
     "text": [
      " 555 777 4322 54321 3311 4444 3222 988 577331 2499 888 5444 2222 438811 54476 4579 123 7642289 6788 \n",
      "\n"
     ]
    }
   ],
   "source": [
    "s = open('24_34.txt').read()\n",
    "for c in 'QWERTYUIOPASDFGHJKLZXCVBNM':\n",
    "    while c in s:\n",
    "        s = s.replace(c,' ')\n",
    "while '  ' in s:\n",
    "    s = s.replace('  ', ' ')\n",
    "print(s)"
   ]
  },
  {
   "cell_type": "code",
   "execution_count": null,
   "metadata": {},
   "outputs": [],
   "source": []
  }
 ],
 "metadata": {
  "kernelspec": {
   "display_name": "Python 3",
   "language": "python",
   "name": "python3"
  },
  "language_info": {
   "codemirror_mode": {
    "name": "ipython",
    "version": 3
   },
   "file_extension": ".py",
   "mimetype": "text/x-python",
   "name": "python",
   "nbconvert_exporter": "python",
   "pygments_lexer": "ipython3",
   "version": "3.12.8"
  }
 },
 "nbformat": 4,
 "nbformat_minor": 2
}
