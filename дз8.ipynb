{
 "cells": [
  {
   "cell_type": "code",
   "execution_count": null,
   "metadata": {},
   "outputs": [],
   "source": [
    "from itertools import permutations, product"
   ]
  },
  {
   "cell_type": "code",
   "execution_count": null,
   "metadata": {},
   "outputs": [],
   "source": [
    "s = 'одеколон'\n",
    "k = 0\n",
    "res = set()\n",
    "for x in permutations(s):\n",
    "    a = ''.join(x)\n",
    "    if not 'оо' in a and not 'ooo' in a:\n",
    "        res.add(a)\n",
    "print(len(res))"
   ]
  },
  {
   "cell_type": "code",
   "execution_count": null,
   "metadata": {},
   "outputs": [],
   "source": [
    "# from itertools import permutations, product\n",
    "s = 'КУПЧИХА'\n",
    "k = 0\n",
    "for x in permutations(s):\n",
    "    a = ''.join(x)\n",
    "    if a.count('К') == 1 and a.count('У') == 1 and a.count('П') == 1 and a.count('Ч') == 1 and a.count('И') == 1 and a.count('Х') == 1 and a.count('А') == 1 and a[0] != 'Ч' and not 'ИАУ' in a:\n",
    "        k += 1\n",
    "        print(a)\n",
    "print(k)"
   ]
  },
  {
   "cell_type": "code",
   "execution_count": null,
   "metadata": {},
   "outputs": [],
   "source": [
    "s = 'акру'\n",
    "k = 0\n",
    "for x in product(s,repeat=5):\n",
    "    a = ''.join(x)\n",
    "    k += 1\n",
    "    if a == 'укара':\n",
    "        print(k,a)"
   ]
  },
  {
   "cell_type": "code",
   "execution_count": null,
   "metadata": {},
   "outputs": [],
   "source": [
    "s = 'СПОРТЛОТО'\n",
    "k = 0\n",
    "res = set()\n",
    "for x in permutations(s):\n",
    "    a = ''.join(x)\n",
    "    if a[0] == 'О' and a[-1] == 'О':\n",
    "        res.add(a)\n",
    "print(len(res))"
   ]
  },
  {
   "cell_type": "code",
   "execution_count": null,
   "metadata": {},
   "outputs": [],
   "source": [
    "s = 'крант'\n",
    "k = 0\n",
    "for x1 in s:\n",
    "    for x2 in s:\n",
    "        for x3 in s:\n",
    "            for x4 in s:\n",
    "                for x5 in s:\n",
    "                    x = x1 + x2 + x3 + x4 + x5\n",
    "                    if x.count('к') == 2:\n",
    "                        k +=1 \n",
    "                        print(x)\n",
    "print(k)"
   ]
  },
  {
   "cell_type": "code",
   "execution_count": null,
   "metadata": {},
   "outputs": [],
   "source": [
    "s = 'тимашевск'\n",
    "k = 0\n",
    "for x in product(s, repeat=4):\n",
    "    a = ''.join(x)\n",
    "    if a[0] != 'и' and a[0] != 'е' and a[0]!= 'а' and a[0] != 'ш':\n",
    "        k += 1\n",
    "        print(a)\n",
    "print(k)"
   ]
  },
  {
   "cell_type": "code",
   "execution_count": null,
   "metadata": {},
   "outputs": [],
   "source": [
    "s = 'аворт'\n",
    "k = 0\n",
    "for x in product(s, repeat=4):\n",
    "    a = ''.join(x)\n",
    "    k += 1\n",
    "    if a == 'вата':\n",
    "        print(k,a)\n",
    "        break"
   ]
  },
  {
   "cell_type": "code",
   "execution_count": null,
   "metadata": {},
   "outputs": [],
   "source": [
    "s = 'векно'\n",
    "k = 0\n",
    "r = []\n",
    "for x in product(s, repeat=5):\n",
    "    a = ''.join(x)\n",
    "    k += 1\n",
    "    if a.count('к') == 2 and a.count('н') == 2:\n",
    "        r.append(k)\n",
    "        print(k,a)\n",
    "print(max(r))"
   ]
  },
  {
   "cell_type": "code",
   "execution_count": null,
   "metadata": {},
   "outputs": [],
   "source": [
    "s = 'гафний'\n",
    "k = 0\n",
    "gl = 'аи'\n",
    "for x in product(s, repeat=4):\n",
    "    a = ''.join(x)\n",
    "    if a[0] != 'й' and ('и' in a or 'а' in a):\n",
    "        k += 1\n",
    "        print(a)\n",
    "print(k)"
   ]
  },
  {
   "cell_type": "code",
   "execution_count": null,
   "metadata": {},
   "outputs": [],
   "source": [
    "s = 'дейнптья'\n",
    "k = 0\n",
    "for x in product(s, repeat=4):\n",
    "    a = ''.join(x)\n",
    "    k += 1\n",
    "    if a.count('е') == 0 and a.count('я') == 0 and a[0] != a[1] and a[1] != a[2] and a[3] != a[2] and a[0] != a[-1] and a[0] != a[2] and a[1] != a[3]:\n",
    "        print(k,a)"
   ]
  },
  {
   "cell_type": "code",
   "execution_count": null,
   "metadata": {},
   "outputs": [],
   "source": [
    "s = 'компьютер'\n",
    "k = 0\n",
    "for x in permutations(s):\n",
    "    a = ''.join(x)\n",
    "    if a[0]<=a[1]<=a[2]<=a[3] and a[-2] == 'е':\n",
    "        k += 1\n",
    "        print(a)\n",
    "print(k)"
   ]
  },
  {
   "cell_type": "code",
   "execution_count": null,
   "metadata": {},
   "outputs": [],
   "source": [
    "import math\n",
    "print(math.factorial(8) // math.factorial(4))"
   ]
  },
  {
   "cell_type": "code",
   "execution_count": null,
   "metadata": {},
   "outputs": [],
   "source": [
    "s = 'спортлото'\n",
    "res = set()\n",
    "for x in permutations(s):\n",
    "    a = ''.join(x)\n",
    "    if 'ооо' in a:\n",
    "        k += 1\n",
    "        res.add(a)\n",
    "print(len(res))"
   ]
  },
  {
   "cell_type": "code",
   "execution_count": null,
   "metadata": {},
   "outputs": [],
   "source": [
    "s = 'qwertyno'\n",
    "res = set()\n",
    "k = 0\n",
    "for x in product(s, repeat=7):\n",
    "    a = ''.join(x)\n",
    "    if 'qwerty'not in a and (a.count(c) <= 2 for c in a):\n",
    "        k += 1\n",
    "        print(a)\n",
    "print(k)"
   ]
  },
  {
   "cell_type": "code",
   "execution_count": null,
   "metadata": {},
   "outputs": [],
   "source": [
    "s = \"бикнопр\"\n",
    "k = 0\n",
    "w = []\n",
    "for x in product(s,repeat=6):\n",
    "    a=''.join(x)\n",
    "    k+=1\n",
    "    if a.count('о') == 3 and a.count('б')<=1 and a.count('и')<=1 and a.count('к')<=1 and a.count('п')<=1 and a.count('р')<=1 and a.count('н')<=1:\n",
    "        print(k,a)"
   ]
  },
  {
   "cell_type": "code",
   "execution_count": null,
   "metadata": {},
   "outputs": [],
   "source": [
    "s = \"ассемблер\"\n",
    "ans = 0\n",
    "for x in set(permutations(s,r=9)):\n",
    "    a = ''.join(x)\n",
    "    k = 0\n",
    "    for i in range(len(a)):\n",
    "        if a[i] in 'ае':\n",
    "            k += (i + 1)\n",
    "    if k == 9:\n",
    "        ans +=1    \n",
    "print(ans)\n"
   ]
  },
  {
   "cell_type": "code",
   "execution_count": null,
   "metadata": {},
   "outputs": [],
   "source": [
    "s = 'агдилнря'\n",
    "k = 0\n",
    "for x in product(s,repeat=6):\n",
    "    a = ''.join(x)\n",
    "    k += 1\n",
    "    if a[0] != 'я' and a.count('д') == 3:\n",
    "        print(k,a)"
   ]
  },
  {
   "cell_type": "code",
   "execution_count": null,
   "metadata": {},
   "outputs": [],
   "source": [
    "s = 'авлор'\n",
    "k = 0\n",
    "for x in product(s,repeat=4):\n",
    "    a = ''.join(x)\n",
    "    k += 1\n",
    "    if a[0] == 'л':\n",
    "        print(a,k)"
   ]
  },
  {
   "cell_type": "code",
   "execution_count": null,
   "metadata": {},
   "outputs": [],
   "source": [
    "s = 'спортлото'\n",
    "res = set()\n",
    "for x in permutations(s):\n",
    "    a = ''.join(x)\n",
    "    if 'ооо' in a:\n",
    "        print(a)\n",
    "        res.add(a)\n",
    "print(len(res))"
   ]
  },
  {
   "cell_type": "code",
   "execution_count": null,
   "metadata": {},
   "outputs": [],
   "source": [
    "s = \"диана\"\n",
    "res = set()\n",
    "for x in permutations(s):\n",
    "    a = ''.join(x)\n",
    "    if (not 'дн' in a) and (not 'нд' in a):\n",
    "        res.add(a)\n",
    "\n",
    "print(res,len(res))"
   ]
  },
  {
   "cell_type": "code",
   "execution_count": null,
   "metadata": {},
   "outputs": [],
   "source": [
    "from itertools import product\n",
    "s = 'джзоуфчюя'\n",
    "k = 0\n",
    "for x in product(s,repeat=6):\n",
    "    a = ''.join(x)\n",
    "    k +=1 \n",
    "    if k % 2 != 0 and a[0] != 'у' and a[-1] != 'у' and 'юю' in a:\n",
    "        print(k, a)"
   ]
  },
  {
   "cell_type": "code",
   "execution_count": null,
   "metadata": {},
   "outputs": [],
   "source": [
    "k = 0\n",
    "for x in range(10000,100000):\n",
    "    x = str(x)\n",
    "    if x.count('2') == 1:\n",
    "        if (x.index('2') == 0 or int(x[x.index('2')-1])% 2 == 1) and (x.index('2')==4 or int(x[x.index('2')+1])%2 == 1):\n",
    "            k += 1\n",
    "print(k)"
   ]
  },
  {
   "cell_type": "code",
   "execution_count": null,
   "metadata": {},
   "outputs": [],
   "source": [
    "from itertools import product\n",
    "s = 'люстра'\n",
    "k = 0\n",
    "for x in product(s,repeat=5):\n",
    "    a = ''.join(x)\n",
    "    if a.count('ю') <= 2 and a[-1] != 'л' and a[-1] != 'с' and a[-1] != 'т' and a[-1] != 'р':\n",
    "        k+= 1\n",
    "        print(a)\n",
    "print(k)"
   ]
  },
  {
   "cell_type": "code",
   "execution_count": null,
   "metadata": {},
   "outputs": [],
   "source": [
    "from itertools import product\n",
    "s = 'авнрья'\n",
    "k = 0\n",
    "for x in product(s,repeat=5):\n",
    "    a = ''.join(x)\n",
    "    k += 1\n",
    "    if a[0] != 'я' and a.count('ь') <= 1 and (not 'яя' in a) and (not 'яяя' in a) and (not 'яяя' in a):\n",
    "        print(k,a)"
   ]
  },
  {
   "cell_type": "code",
   "execution_count": null,
   "metadata": {},
   "outputs": [],
   "source": [
    "from itertools import product\n",
    "s = 'абвгэюя'\n",
    "k = 0\n",
    "for x in product(s,repeat=5):\n",
    "    a = ''.join(x)\n",
    "    if a[0] in 'эюя' and a[-1] in 'эюя' and not a[1] in 'эюя' and not a[2] in 'эюя' and not a[3] in 'эюя':\n",
    "        k += 1\n",
    "        print(a)\n",
    "print(k)"
   ]
  },
  {
   "cell_type": "code",
   "execution_count": null,
   "metadata": {},
   "outputs": [],
   "source": [
    "from itertools import product\n",
    "s = 'елопрст'\n",
    "res = set()\n",
    "k = 0\n",
    "for x in product(s,repeat=5):\n",
    "    a = ''.join(x)\n",
    "    k += 1\n",
    "    if k % 2 == 1 and a[-1] in 'ео' and (a.count('е')+a.count('о') >=2):\n",
    "        res.add(a)\n",
    "print(res)\n",
    "print(len(res))"
   ]
  },
  {
   "cell_type": "code",
   "execution_count": null,
   "metadata": {},
   "outputs": [],
   "source": [
    "from itertools import product\n",
    "s = '012345678'\n",
    "res = set()\n",
    "for x in product(s,repeat=7):\n",
    "    a = ''.join(x)\n",
    "    if not a[0] in '0246' and (not a[-1] == a[-2] == a[-3]):\n",
    "        res.add(a)\n",
    "print(len(res))"
   ]
  },
  {
   "cell_type": "code",
   "execution_count": null,
   "metadata": {},
   "outputs": [],
   "source": [
    "print('1243')"
   ]
  },
  {
   "cell_type": "code",
   "execution_count": null,
   "metadata": {},
   "outputs": [],
   "source": [
    "from itertools import product\n",
    "s = \"компьютер\"\n",
    "res = set()\n",
    "for x in product(s,repeat=6):\n",
    "    a = ''.join(x)\n",
    "    if 'кот' in a:\n",
    "        res.add(a)\n",
    "print(len(res))\n"
   ]
  },
  {
   "cell_type": "code",
   "execution_count": null,
   "metadata": {},
   "outputs": [],
   "source": [
    "import itertools  # импортируем библиотеку itertools\n",
    "\n",
    "s = 'КОМПЬЮТЕР'  # записываем наше исходное слово, буквы из которого мы будем использовать\n",
    "c = 0  # инициализируем переменную-счётчик\n",
    "\n",
    "for i in itertools.product(s, repeat = 6):  # поскольку мы можем использовать буквы несколько раз или не использовать вообще\n",
    "                                            # берем product от нашей строки с буквами\n",
    "                                            # нас интересуют 6-ти буквенные слова, поэтому repeat = 6\n",
    "   b = ''.join(i)  # соединяем отдельные буквы в одно слово\n",
    "\n",
    "   if 'К' in b:  # проверяем наличие буквы К в строке\n",
    "      ind = b.find('К')  # если она есть, то определяем индекс первого вхождения с помощью find\n",
    "      b = b[ind:]  # обрезаем все в строке, что было до буквы К, включая её саму\n",
    "      if 'О' in b:  # проверяем наличие в слове буквы О\n",
    "         ind = b.find('О')  # если она есть, то находим индекс её первого вхождения\n",
    "         b = b[ind:]  # и снова обрезаем все, что было до нее, вместе с ней включительно\n",
    "         if 'Т' in b:  # поскольку К и О у нас в слове уже точно есть, то проверяем в оставшейся строке наличие буквы Т\n",
    "            c += 1  # если она есть, то увеличиваем счётчик\n",
    "\n",
    "print(c)  # и выводим результат"
   ]
  }
 ],
 "metadata": {
  "kernelspec": {
   "display_name": "Python 3",
   "language": "python",
   "name": "python3"
  },
  "language_info": {
   "codemirror_mode": {
    "name": "ipython",
    "version": 3
   },
   "file_extension": ".py",
   "mimetype": "text/x-python",
   "name": "python",
   "nbconvert_exporter": "python",
   "pygments_lexer": "ipython3",
   "version": "3.13.0"
  }
 },
 "nbformat": 4,
 "nbformat_minor": 2
}
