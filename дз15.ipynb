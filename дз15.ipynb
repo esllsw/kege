{
 "cells": [
  {
   "cell_type": "markdown",
   "metadata": {},
   "source": [
    "Обозначим через ДЕЛ(n,m) утверждение «натуральное число n делится без остатка на натуральное число m»; и пусть на числовой прямой дан отрезок B=[70;80].\n",
    "\n",
    "Для какого количества различных натуральных значений числа А формула\n",
    "ДЕЛ(x,12)∧(x∈B)∧¬ДЕЛ(x,a)\n",
    "\n",
    "тождественно ложна (т.е. принимает значение 0) при любом натуральном значении переменной x?"
   ]
  },
  {
   "cell_type": "code",
   "execution_count": null,
   "metadata": {},
   "outputs": [],
   "source": [
    "def f(x,a):\n",
    "    b = 70 <= x <= 80\n",
    "    return not ((x % 12 == 0) and (x in b) and (x % a != 0))\n",
    "\n",
    "for a in range(1,100):\n",
    "    if all(f(x,a) for x in range(1,100)) :\n",
    "        print(a)"
   ]
  },
  {
   "cell_type": "markdown",
   "metadata": {},
   "source": [
    "На числовой прямой даны два отрезка: P=[15;40] и Q=[21;63]. Укажите наименьшую возможную длину такого отрезка A, для которого логическое выражение \n",
    " (x∈P)→(((x∈Q)∧¬(x∈A))→¬(x∈P)) истинно (т.е. принимает значение 1) при любом значении переменной х.\n",
    "\n"
   ]
  },
  {
   "cell_type": "code",
   "execution_count": null,
   "metadata": {},
   "outputs": [],
   "source": [
    "#1й способ\n",
    "def f(x,A):\n",
    "    p = 15 <= x <= 40\n",
    "    q = 21 <= x <= 63\n",
    "    a = A[0] <= x <= A[1]\n",
    "    return (p <= ((q and not a) <= (not p)))\n",
    "\n",
    "A = [0, 100]\n",
    "while all(f(x, A) for x in range(0, 100)):\n",
    "    A[0] += 1\n",
    "A[0] -= 1\n",
    "while all(f(x, A) for x in range(0, 100)):\n",
    "    A[1] -= 1\n",
    "A[1] += 1\n",
    "print(A[1] - A[0])"
   ]
  },
  {
   "cell_type": "code",
   "execution_count": null,
   "metadata": {},
   "outputs": [],
   "source": [
    "#2й способ\n",
    "def f(x):\n",
    "    # Определяем отрезки P и Q\n",
    "    P = 15 <= x <= 40\n",
    "    Q = 21 <= x <= 63\n",
    "    A = start <= x <= end\n",
    "    # Логическое выражение из задачи\n",
    "    return (not P) or ((Q and (not A)) <= (not P))\n",
    "\n",
    "# Переменная для хранения минимальной длины отрезка A\n",
    "min_len = 10**10\n",
    "\n",
    "# Перебираем начало и конец отрезка A\n",
    "for start in range(1, 100):  # Ограничиваем область перебора\n",
    "    for end in range(start, 100):\n",
    "        # Проверяем, что формула истинна для всех x\n",
    "        if all(f(x) for x in range(1, 100)):  # Проверяем для всех x\n",
    "            # Обновляем минимальную длину отрезка\n",
    "            min_len = min(min_len, end - start)  # Учитываем длину отрезка\n",
    "\n",
    "print(min_len)  # Выводим минимальную длину отрезка A"
   ]
  },
  {
   "cell_type": "code",
   "execution_count": null,
   "metadata": {},
   "outputs": [],
   "source": [
    "def f(x):\n",
    "    p = 25 <= x <= 51\n",
    "    q = 12 <= x <= 37\n",
    "    a = st <= x <= en\n",
    "\n",
    "    return (p == q) <= (not a)\n",
    "\n",
    "mx = 0\n",
    "for st in range(1,100):\n",
    "    for en in range(st + 1,100):\n",
    "        if all(f(x) for x in range(-1,100)):\n",
    "            mx = max(mx,en - st)\n",
    "print(mx + 1)"
   ]
  },
  {
   "cell_type": "code",
   "execution_count": null,
   "metadata": {},
   "outputs": [],
   "source": [
    "p = range(25, 51)  # обозначаем отрезок p\n",
    "q = range(12, 37)  # обозначаем отрезок q\n",
    "\n",
    "def f(x , p, q, a):  # обозначаем фукнцию от четырех переменных - x, p, q, a\n",
    "  return ((x in p) == (x in q)) <= (x not in a)  # переписываем формулу из условия задания\n",
    "\n",
    "res = 0  # заводим переменную для подсчета длины отрезка\n",
    "for start in range(100):  # цикл для начала отрезка\n",
    "  for end in range(start + 1, 100):  # цикл для кнца отрезка\n",
    "    a = range(start, end)  # сам отрезок а, которое начинается в точке start и заканчивается в точке end\n",
    "    if all(f(x, p, q, a) for x in range(100)):  # проверяем, что в каждой точке отрезка выполняется условие функции\n",
    "      res = max(res, len(a))  # в переменной результата выбираем максимум из предыдущего результата и нынешней длины отрезка\n",
    "\n",
    "print(res)  # печатаем результат"
   ]
  },
  {
   "cell_type": "markdown",
   "metadata": {},
   "source": [
    "Обозначим через m & n поразрядную конъюнкцию неотрицательных целых чисел m и n. Определите наибольшее натуральное число A, такое что выражение\n",
    "(x & A\n",
    "!\n",
    "=0)→((x & 168=0)→(x & 69\n",
    "!\n",
    "=0))\n",
    "\n",
    "тождественно истинна (то есть принимает значение 1 при любом натуральном значении переменной x)?"
   ]
  },
  {
   "cell_type": "code",
   "execution_count": null,
   "metadata": {},
   "outputs": [],
   "source": [
    "def f(x,a):\n",
    "    return (x & a != 0) <= ((x & 168 == 0) <= (x & 69 != 0))\n",
    "for a in range(1,1000):\n",
    "    if all(f(x,a) for x in range(1,1000)):\n",
    "        print(a)"
   ]
  },
  {
   "cell_type": "code",
   "execution_count": null,
   "metadata": {},
   "outputs": [],
   "source": [
    "def f(x,a):\n",
    "    return (((x % a == 0) and (x % 21 == 0)) <= (x % 18 == 0))\n",
    "\n",
    "for a in range(1,1001):\n",
    "    if all(f(x,a) for x in range(1,1001)):\n",
    "        print(a)"
   ]
  },
  {
   "cell_type": "code",
   "execution_count": null,
   "metadata": {},
   "outputs": [],
   "source": [
    "def f(a):\n",
    "    for x in range(1001):\n",
    "        for y in range(1001):\n",
    "            if not(((2*x + 3*y) != 150) or ((x<a) and (y<a))):\n",
    "                return False\n",
    "    return True\n",
    "\n",
    "cnt = 0\n",
    "for a in range(1001):\n",
    "    if f(a):\n",
    "        print(a)\n",
    "        break"
   ]
  },
  {
   "cell_type": "code",
   "execution_count": null,
   "metadata": {},
   "outputs": [],
   "source": [
    "def f(x,a):\n",
    "    return (((x % a == 0) and (x % 24 == 0) and (x % 16 != 0)) <= (x % a != 0))\n",
    "\n",
    "for a in range(1,1001):\n",
    "    if all(f(x,a) for x in range(1,1001)):\n",
    "        print(a)"
   ]
  },
  {
   "cell_type": "code",
   "execution_count": null,
   "metadata": {},
   "outputs": [],
   "source": [
    "def f(x,y,a):\n",
    "    return ((x > 39) or (y > 26) or ((2*x + 4*y) < a))\n",
    "for a in range(1,1001):\n",
    "    if all(f(x,y,a) for x in range(1,1001) for y in range(1,1001)):\n",
    "        print(a)"
   ]
  },
  {
   "cell_type": "code",
   "execution_count": null,
   "metadata": {},
   "outputs": [],
   "source": [
    "def f(x,a):\n",
    "    return ((x % a != 0) <= ((x % 6 == 0) <= (x % 9 != 0)))\n",
    "for a in range(1,1001):\n",
    "    if all(f(x,a) for x in range(1,1001)):\n",
    "        print(a)"
   ]
  },
  {
   "cell_type": "code",
   "execution_count": null,
   "metadata": {},
   "outputs": [],
   "source": [
    "def f(x,y,a):\n",
    "    return ((x<9) <= ((5*y < x) <= (2*x*y< a)))\n",
    "for a in range(1,1001):\n",
    "    if all(f(x,y,a) for x in range(1,1001) for y in range(1,1001)):\n",
    "        print(a)"
   ]
  },
  {
   "cell_type": "code",
   "execution_count": null,
   "metadata": {},
   "outputs": [],
   "source": [
    "def f(x,a):\n",
    "    return (a % 3 == 0) and ((220 % x == 0) <= ((a % x !=0) <= (550 % x != 0)))\n",
    "for a in range(1,1001):\n",
    "    if all(f(x,a) for x in range(1,1001)):\n",
    "        print(a)"
   ]
  },
  {
   "cell_type": "code",
   "execution_count": null,
   "metadata": {},
   "outputs": [],
   "source": [
    "def f(x,y,a):\n",
    "    return ((7*y + x) < a) or ((2*x + 3*y) > 98)\n",
    "for a in range(1,1001):\n",
    "    if all(f(x,y,a) for x in range(1,1001) for y in range(1,1001)):\n",
    "        print(a)"
   ]
  },
  {
   "cell_type": "code",
   "execution_count": null,
   "metadata": {},
   "outputs": [],
   "source": [
    "def f(x,a):\n",
    "    return (((x % 175 == 0) <= (x % 25 != 0)) or ((2*x + a) >= 1780))\n",
    "for a in range(1,10001):\n",
    "    if all(f(x,a) for x in range(1,10001)):\n",
    "        print(a)"
   ]
  },
  {
   "cell_type": "code",
   "execution_count": null,
   "metadata": {},
   "outputs": [],
   "source": [
    "def f(x,a):\n",
    "    return ((x + a) >= 160) or ((x % 7 == 0) <= ((x-17) <= 0))\n",
    "for a in range(1,1001):\n",
    "    if all(f(x,a) for x in range(1,1001)):\n",
    "        print(a)"
   ]
  },
  {
   "cell_type": "code",
   "execution_count": null,
   "metadata": {},
   "outputs": [],
   "source": [
    "def f(x, a):\n",
    "    return ((x & 52 != 0) and (x & 36 == 0)) <= (not(x & a == 0))\n",
    "for a in range(1,1001):\n",
    "    if all(f(x,a) for x in range(1,1001)):\n",
    "        print(a)"
   ]
  },
  {
   "cell_type": "code",
   "execution_count": null,
   "metadata": {},
   "outputs": [],
   "source": [
    "def f(x,a):\n",
    "    return ((x & 94 != 0) <= ((x & 21 == 0) <= (x & a != 0)))\n",
    "for a in range(1,1000):\n",
    "    if all(f(x,a) for x in range(1,1000)):\n",
    "        print(a)"
   ]
  },
  {
   "cell_type": "code",
   "execution_count": null,
   "metadata": {},
   "outputs": [],
   "source": [
    "def f(x,a):\n",
    "    return (x & 41 == 0) <= ((x&119!=0)<=(x&a!=0))\n",
    "for a in range(1000):\n",
    "    if all(f(x,a) for x in range(1000)):\n",
    "        print(a)"
   ]
  },
  {
   "cell_type": "code",
   "execution_count": null,
   "metadata": {},
   "outputs": [],
   "source": [
    "def f(x,y,a):\n",
    "    return ((x +a > 180)<=(a & 36 == 0)) or ((y % 12 ==0) and (x & 36 !=0))\n",
    "for a in range(1,101):\n",
    "    if all(f(x,y,a) for x in range(1,101) for y in range(1,101)):\n",
    "        print(a)"
   ]
  },
  {
   "cell_type": "code",
   "execution_count": null,
   "metadata": {},
   "outputs": [],
   "source": [
    "def f(x,a):\n",
    "    return (a and (not 45 <= x <= 68)) <= ((15 <= x <= 33) or (45 <= x <= 68))\n",
    "maxa = 0\n",
    "for st in range(1,100):\n",
    "    for en in range(1,100):\n",
    "        if all(f(x,st <= x <= en) for x in range(1,100)):\n",
    "            if en - st > maxa:\n",
    "                maxa = en - st\n",
    "print(maxa)"
   ]
  },
  {
   "cell_type": "code",
   "execution_count": null,
   "metadata": {},
   "outputs": [],
   "source": [
    "def f(x,a):\n",
    "    return (a <= (43 <= x <= 49)) or (44 <= x <= 53)\n",
    "maxa = 0\n",
    "for st in range(1,100):\n",
    "    for en in range(1,100):\n",
    "        if all(f(x,st <= x <= en) for x in range(1,100)):\n",
    "            if en - st > maxa:\n",
    "                maxa = en - st\n",
    "print(maxa)"
   ]
  },
  {
   "cell_type": "code",
   "execution_count": null,
   "metadata": {},
   "outputs": [],
   "source": [
    "def f(x,a):\n",
    "    return (not(not 13 <= x<= 19)<=(17 <= x <= 23)) <= (a <= ((not 17 <= x <= 23)<= (13 <= x<=19)))\n",
    "maxa = 0\n",
    "for st in range(1,100):\n",
    "    for en in range(1,100):\n",
    "        if all(f(x,st <= x <= en) for x in range(1,100)):\n",
    "            if en - st > maxa:\n",
    "                maxa = en - st\n",
    "print(maxa)"
   ]
  },
  {
   "cell_type": "code",
   "execution_count": null,
   "metadata": {},
   "outputs": [],
   "source": [
    "p = {x for x in range(2, 21, 2)}  # задаём множество P\n",
    "q = {x for x in range(5, 51, 5)}  # задаём множество Q\n",
    "a = {x for x in range(1000)}  # так как ищем наибольшее кол-во значений в множестве A, то изначально помещаем в него много чисел\n",
    "\n",
    "def f(x):  # задаём функцию от икса\n",
    "    return ((x in a) <= (x in p)) and ((x in q) <= (not (x in a)))  # переписываем выражение из условия\n",
    "\n",
    "for x in range(1000):  # проходимся по всем числам, которые поместили в множество A\n",
    "    if f(x) == 0:  # если функция от этого числа ложна, то для того, что функция стала истиной это число не должно находиться в множестве\n",
    "        a.remove(x)  # удаляем этот элемент из множества\n",
    "print(len(a))  # выводим длину множества, она будет максимально возможной"
   ]
  },
  {
   "cell_type": "code",
   "execution_count": null,
   "metadata": {},
   "outputs": [],
   "source": [
    "p = {2,4,8,12,15}\n",
    "q = {3,6,8,15}\n",
    "a = {x for x in range(1000)}\n",
    "def f(x):\n",
    "    return ((x in p) <= (not x in q) or (x in a))\n",
    "\n",
    "for x in range(1000):\n",
    "    if f(x) == 1:\n",
    "        print(a)"
   ]
  },
  {
   "cell_type": "code",
   "execution_count": null,
   "metadata": {},
   "outputs": [],
   "source": [
    "def f(x,a):\n",
    "    return (54 <= x <= 75) <= (((25 <= x <= 120) == (54 <= x <= 75)) or ((not 25 <= x <= 120) <= a))\n",
    "maxa = 100\n",
    "for st in range(1,100):\n",
    "    for en in range(1,100):\n",
    "        if all(f(x,st <= x <= en) for x in range(1,100)):\n",
    "            if en - st < maxa:\n",
    "                maxa = en - st\n",
    "print(maxa)"
   ]
  },
  {
   "cell_type": "code",
   "execution_count": null,
   "metadata": {},
   "outputs": [],
   "source": [
    "def f(x, E):  # переписываем функцию из условия\n",
    "    D = 15 <= x <= 40  # записываем принадлежность x отрезку D как двойное неравенство\n",
    "    C = 21 <= x <= 63  # записываем принадлежность x отрезку C как двойное неравенство\n",
    "    A = 7 <= x <= E  # записываем принадлежность x отрезку A как двойное неравенство\n",
    "    return D <= (((not C) and (not A)) <= (not D))  # выводим рез-тат выражения\n",
    "\n",
    "for E in range(100):  # перебираем целые значения E\n",
    "    if all(f(x / 2, E) for x in range(0, 100 * 2)):  # для любого x (проверяем \n",
    "                                                     # целые и дроби с дробной часть, равной 0.5)\n",
    "                                                     # ищем, всегда ли принимает формула значение 1. Если да, \n",
    "                                                     # то нашли наименьшее E \n",
    "        print(E)  # выводим это E (ответ)\n",
    "        break  # останавливаем программу"
   ]
  },
  {
   "cell_type": "code",
   "execution_count": null,
   "metadata": {},
   "outputs": [],
   "source": [
    "def f(x,y,a):\n",
    "    return ((x + y <= 24) or (y <= x - 2) or (y >= a))\n",
    "for a in range(1000):\n",
    "    if all(f(x,y,a) for x in range(1000) for y in range(1000)):\n",
    "        print(a)"
   ]
  },
  {
   "cell_type": "code",
   "execution_count": null,
   "metadata": {},
   "outputs": [],
   "source": [
    "def f(x,a):\n",
    "    return (x % a != 0) <= ((x % 14 == 0) <= (x % 4 != 0))\n",
    "for a in range(1,1000):\n",
    "    if all(f(x,a) for x in range(1,1000)):\n",
    "        print(a)"
   ]
  },
  {
   "cell_type": "code",
   "execution_count": null,
   "metadata": {},
   "outputs": [],
   "source": [
    "def f(x,a):\n",
    "    return ((x % 2 == 0) <= (x % 13 !=0)) or (x + a >= 1000)\n",
    "for a in range(1,1500):\n",
    "    if all(f(x,a) for x in range(1,1500)):\n",
    "        print(a)"
   ]
  },
  {
   "cell_type": "code",
   "execution_count": null,
   "metadata": {},
   "outputs": [],
   "source": [
    "a = set()\n",
    "def f(x,a):\n",
    "    p =x in {1,3,4,9,11,13,15,17,19,21}\n",
    "    q =x in {3,6,9,12,15,18,21,24,27,30}\n",
    "    return (p <= a) or ((not a) <= (not q))\n",
    "for x in range(0,1000):\n",
    "    if f(x,x in a)==0:\n",
    "        a.add(x)\n",
    "print(a)"
   ]
  },
  {
   "cell_type": "code",
   "execution_count": null,
   "metadata": {},
   "outputs": [],
   "source": [
    "p ={12,23,34,45,56}\n",
    "q ={23,35,56,68,89}\n",
    "a = set()\n",
    "def f(x):\n",
    "    return (x in p) or (x in q) or (not x in a)\n",
    "for x in range(0,1000):\n",
    "    if not f(x):\n",
    "        print(x)"
   ]
  },
  {
   "cell_type": "code",
   "execution_count": null,
   "metadata": {},
   "outputs": [],
   "source": [
    "def f(x,a):\n",
    "    p = x in range(5,55)\n",
    "    q = x in range(50,94)\n",
    "    return ((not p) and q) <= (x > a)\n",
    "\n",
    "for a in range(0,100):\n",
    "    c = 0\n",
    "    for x in range(0,100):\n",
    "        if f(x,a) == 0:\n",
    "            c += 1\n",
    "    if c == 20:\n",
    "        print(a)\n",
    "        break\n"
   ]
  },
  {
   "cell_type": "code",
   "execution_count": null,
   "metadata": {},
   "outputs": [],
   "source": [
    "m = 10**6\n",
    "P = [i for i in range(10, 51)]\n",
    "Q = [i for i in range(30, 71)]\n",
    "for Amin in range(1, 100):\n",
    "    for Amax in range(Amin + 1, 100):\n",
    "        check = 1\n",
    "        A = [i for i in range(Amin, Amax)]\n",
    "        for x in range(-300, 300):\n",
    "            f = (not((x in P) <= (x in A))) or (x in Q)\n",
    "            if f:\n",
    "                check = 0\n",
    "                break\n",
    "        if check == 1:\n",
    "            m = min(m,Amax - Amin)\n",
    "print(m-1)"
   ]
  },
  {
   "cell_type": "code",
   "execution_count": null,
   "metadata": {},
   "outputs": [],
   "source": [
    "def f(x,a):\n",
    "    return ((x % 10 == 0) and (x % 26 == 0) and (x >= 300)) <= (a <= x)\n",
    "for a in range(1,1000):\n",
    "    if all(f(x, a) for x in range(1,1000)):\n",
    "        print(a)"
   ]
  },
  {
   "cell_type": "code",
   "execution_count": null,
   "metadata": {},
   "outputs": [],
   "source": [
    "def f(x,y,a):\n",
    "    return ((a < x) or (x ** 2 - 7 * x + 10)) and ((a >= y) or (y ** 2 + 7 * y + 12 > 0))\n",
    "k = 0\n",
    "for a in range(-100,100):\n",
    "    if all(f(x,y,a) for x in range(-100,100) for y in range(-100,100)):\n",
    "        k += 1\n",
    "print(k)"
   ]
  },
  {
   "cell_type": "code",
   "execution_count": null,
   "metadata": {},
   "outputs": [],
   "source": [
    "def f(x,y,a):\n",
    "    return ((x ** 2 > 16) or (a > x)) and ((y ** 2 <= 81) or (a <= y))\n",
    "k = 0\n",
    "for a in range(-100,1000):\n",
    "    if all(f(x,y,a) for x in range(1,1000) for y in range(1,1000)):\n",
    "        k += 1\n",
    "print(k)"
   ]
  },
  {
   "cell_type": "code",
   "execution_count": 17,
   "metadata": {},
   "outputs": [
    {
     "name": "stdout",
     "output_type": "stream",
     "text": [
      "12\n"
     ]
    }
   ],
   "source": [
    "def f(x,a):\n",
    "    return (x & 49 == 0) <= ((x & 28 != 0) <= (x & a != 0))\n",
    "\n",
    "for a in range(0,100):\n",
    "    if all(f(x,a) for x in range(0,100)):\n",
    "        print(a)\n",
    "        break"
   ]
  },
  {
   "cell_type": "code",
   "execution_count": 22,
   "metadata": {},
   "outputs": [
    {
     "name": "stdout",
     "output_type": "stream",
     "text": [
      "30\n"
     ]
    }
   ],
   "source": [
    "p = range(25,241)\n",
    "q = range(175,301)\n",
    "r = range(270,341)\n",
    "\n",
    "def f(x,p,q,r,a):\n",
    "    return ((x in q) <= (x in p)) or ((not x in a) <= (x in r))\n",
    "\n",
    "mn = 10 ** 10\n",
    "for st in range(1,400):\n",
    "    for en in range(st + 1, 400):\n",
    "        a = range(st,en + 1)\n",
    "        if all(f(x,p,q,r,a) for x in range(0,400)):\n",
    "            mn = min(mn, len(a))\n",
    "\n",
    "print(mn + 1)"
   ]
  },
  {
   "cell_type": "code",
   "execution_count": null,
   "metadata": {},
   "outputs": [],
   "source": []
  }
 ],
 "metadata": {
  "kernelspec": {
   "display_name": "Python 3",
   "language": "python",
   "name": "python3"
  },
  "language_info": {
   "codemirror_mode": {
    "name": "ipython",
    "version": 3
   },
   "file_extension": ".py",
   "mimetype": "text/x-python",
   "name": "python",
   "nbconvert_exporter": "python",
   "pygments_lexer": "ipython3",
   "version": "3.12.8"
  }
 },
 "nbformat": 4,
 "nbformat_minor": 2
}
