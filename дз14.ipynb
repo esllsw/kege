{
 "cells": [
  {
   "cell_type": "code",
   "execution_count": null,
   "metadata": {},
   "outputs": [],
   "source": [
    "x = 9 ** 7 + 3 ** 21 - 9\n",
    "s = ''\n",
    "while x >0:\n",
    "    s = str(x%3) + s\n",
    "    x//=3\n",
    "print(s.count('2'))\n"
   ]
  },
  {
   "cell_type": "code",
   "execution_count": null,
   "metadata": {},
   "outputs": [],
   "source": [
    "x = 7 * 729 ** 543 - 6 * 81 ** 765 - 5 * 9 ** 987 - 20\n",
    "s = ''\n",
    "while x > 0:\n",
    "    s = str(x%9) + s\n",
    "    x//=9\n",
    "print(s.count('8'))"
   ]
  },
  {
   "cell_type": "code",
   "execution_count": null,
   "metadata": {},
   "outputs": [],
   "source": [
    "x = 343 ** 515 - 6 * 49 ** 520 + 5 * 49 ** 510 - 3 * 7 ** 530 -550\n",
    "s = ''\n",
    "while x > 0:\n",
    "    s = str(x%7) + s\n",
    "    x//=7\n",
    "print(s.count('6'))"
   ]
  },
  {
   "cell_type": "code",
   "execution_count": null,
   "metadata": {},
   "outputs": [],
   "source": [
    "alph = '0123456789abcde'\n",
    "\n",
    "for x in alph:\n",
    "    x1 = int(f'97531{x}19',15)\n",
    "    x2 = int(f'3{x}519',15)\n",
    "    if (x1 + x2) % 11 == 0:\n",
    "        print(x,(x1 + x2)//11)"
   ]
  },
  {
   "cell_type": "code",
   "execution_count": null,
   "metadata": {},
   "outputs": [],
   "source": [
    "alph = '0123456789abcdefg'\n",
    "ans = []\n",
    "for x in alph:\n",
    "    x1 =  int(f'149{x}3',17)\n",
    "    x2 = int(f'{x}612',17)\n",
    "    x3 = int(f'{x}54{x}',17)\n",
    "    if (x1 + x2 - x3) % 7 == 0:\n",
    "        ans.append(x)\n",
    "print(ans)"
   ]
  },
  {
   "cell_type": "code",
   "execution_count": null,
   "metadata": {},
   "outputs": [],
   "source": [
    "alph = '0123456789abcdefg'\n",
    "for x in alph:\n",
    "    x1 = int(f'19{x}61',12)\n",
    "    x2 = int(f'3393{x}',17)\n",
    "    x3 = int(f'60{x}05',15)\n",
    "    if (x1 + x2) == x3:\n",
    "        print(x, x3)"
   ]
  },
  {
   "cell_type": "code",
   "execution_count": null,
   "metadata": {},
   "outputs": [],
   "source": [
    "x = 3 * 625 ** 173 + 4 * 125 ** 180 + 3 * 25 ** 157 + 2 * 5 ** 155 + 156\n",
    "s = 0\n",
    "while x > 0:\n",
    "    if x % 25 == 0:\n",
    "        s +=1\n",
    "    x//=25\n",
    "print(s)"
   ]
  },
  {
   "cell_type": "code",
   "execution_count": null,
   "metadata": {},
   "outputs": [],
   "source": [
    "n = 44\n",
    "for x in range(43):\n",
    "    a =4 * n **3 + (2 +x)* n ** 2+(x+2)* n +4 \n",
    "    if a % 42 == 0:\n",
    "        print(x,a/42)"
   ]
  },
  {
   "cell_type": "code",
   "execution_count": null,
   "metadata": {},
   "outputs": [],
   "source": [
    "x = 4 * 8 ** 3032 + 3 * 16 ** 1956 + 870\n",
    "s = ''\n",
    "while x > 0:\n",
    "    s = str(x%7) + s\n",
    "    x//=7\n",
    "print(s.count('3'))\n",
    "print(s.count('3') * 3-s.count('1'))"
   ]
  },
  {
   "cell_type": "code",
   "execution_count": null,
   "metadata": {},
   "outputs": [],
   "source": [
    "print(int('36053',8)-int('4773',8))"
   ]
  },
  {
   "cell_type": "code",
   "execution_count": null,
   "metadata": {},
   "outputs": [],
   "source": [
    "x = 2 ** 24 + 2** 14 - 2 ** 5\n",
    "n = bin(x)[2:]\n",
    "print(n.count('1'))"
   ]
  },
  {
   "cell_type": "code",
   "execution_count": null,
   "metadata": {},
   "outputs": [],
   "source": [
    "x = 3 * 16 ** 2018 - 2 * 8 ** 1028 - 3 * 4 ** 1100 - 2 ** 1050 - 2022\n",
    "s = ''\n",
    "while x > 0:\n",
    "    s = str(x%4) + s\n",
    "    x //= 4\n",
    "print(s.count('3'))"
   ]
  },
  {
   "cell_type": "code",
   "execution_count": null,
   "metadata": {},
   "outputs": [],
   "source": [
    "alph = '0123456789abcde'\n",
    "for x in alph:\n",
    "    x1 = int(f'99658{x}29',15)\n",
    "    x2 = int(f'102{x}023',15)\n",
    "    if (x1+x2) % 14 == 0:\n",
    "        print(x, (x1+x2)/14)"
   ]
  },
  {
   "cell_type": "code",
   "execution_count": null,
   "metadata": {},
   "outputs": [],
   "source": [
    "alph = '0123456789abcde'\n",
    "for x in alph:\n",
    "    x1 = int(f'1{x}51',15)\n",
    "    x2 = int(f'3{x}2',15)\n",
    "    if (x1-x2) % 4 ==0:\n",
    "        print(x,(x1-x2)/4)"
   ]
  },
  {
   "cell_type": "code",
   "execution_count": null,
   "metadata": {},
   "outputs": [],
   "source": [
    "x = 7 ** 202 + 49 ** 102 - 7 ** 20\n",
    "s = ''\n",
    "while x> 0:\n",
    "    s = str(x%7) +s\n",
    "    x//=7\n",
    "print(s.count('6'))"
   ]
  },
  {
   "cell_type": "code",
   "execution_count": 84,
   "metadata": {},
   "outputs": [],
   "source": [
    "x = 1234 ** 999 + 453 ** 998 + 123 ** 997 + 435\n",
    "s = ''\n",
    "for i in range(2,10000):\n",
    "    while x > 0:\n",
    "        s = str(x%i) + s\n",
    "        x//=i\n",
    "    if s.count('0') == 250:\n",
    "        print(i)"
   ]
  },
  {
   "cell_type": "code",
   "execution_count": null,
   "metadata": {},
   "outputs": [],
   "source": [
    "x = 1234 ** 999 + 453 ** 998 + 123 ** 997 + 435\n",
    "s = ''\n",
    "i = int(input())\n",
    "while x > 0:\n",
    "    s = str(x%i) + s\n",
    "    x//=i\n",
    "print(s.count('0'))"
   ]
  },
  {
   "cell_type": "code",
   "execution_count": 8,
   "metadata": {},
   "outputs": [],
   "source": [
    "def summ(n):\n",
    "    s = 0 \n",
    "    while n > 0:\n",
    "        s += n % 10\n",
    "        n//=10\n",
    "    return s"
   ]
  },
  {
   "cell_type": "code",
   "execution_count": null,
   "metadata": {},
   "outputs": [],
   "source": [
    "def n6(n):\n",
    "    a = ''\n",
    "    while n > 0:\n",
    "        a = str(n%6) + a\n",
    "        n//=6\n",
    "    return a"
   ]
  },
  {
   "cell_type": "code",
   "execution_count": null,
   "metadata": {},
   "outputs": [],
   "source": [
    "def summ(n):\n",
    "    s = 0 \n",
    "    while n > 0:\n",
    "        s += n % 10\n",
    "        n//=10\n",
    "    return s\n",
    "def n6(n):\n",
    "    a = ''\n",
    "    while n > 0:\n",
    "        a = str(n%6) + a\n",
    "        n//=6\n",
    "    return a\n",
    "alph = '0123456789abcdef'\n",
    "for x in alph:\n",
    "    a1 = int('b7a'+x+'9',16)\n",
    "    a2 = int('54'+x+'ed',16)\n",
    "    a = a1 + a2\n",
    "\n",
    "    if summ(int(n6(int(a)))) == 25:\n",
    "        print(x,a)"
   ]
  },
  {
   "cell_type": "code",
   "execution_count": null,
   "metadata": {},
   "outputs": [],
   "source": [
    "x = 16 ** 820 - 2 ** 761 + 14\n",
    "s = ''\n",
    "while x > 0:\n",
    "    s = str(x%4) + s\n",
    "    x //= 4\n",
    "print(s.count('0'))"
   ]
  },
  {
   "cell_type": "code",
   "execution_count": null,
   "metadata": {},
   "outputs": [],
   "source": [
    "x = 5 ** 2004 - 5 ** 1016 - 25 ** 508 - 5 ** 400 + 25 ** 250 - 27\n",
    "s = ''\n",
    "while x > 0:\n",
    "    s = str(x%5) + s\n",
    "    x //= 5\n",
    "print(s.count('4'))"
   ]
  },
  {
   "cell_type": "code",
   "execution_count": null,
   "metadata": {},
   "outputs": [],
   "source": [
    "alph = '0123456789abcdefghmn'\n",
    "for x in alph:\n",
    "    x1 = int(f'{x}1418',13)\n",
    "    x2 = int(f'1{x}037',14)\n",
    "    x3 = int(f'2{x}209',19)\n",
    "    if x1 + x2 == x3:\n",
    "        print(x,x3)"
   ]
  },
  {
   "cell_type": "code",
   "execution_count": null,
   "metadata": {},
   "outputs": [],
   "source": [
    "# Перебираем значения х, начиная с наименьшего\n",
    "for x in range(1, 100):\n",
    "  sx = str(x) # Для удобства вынесем в отдельную переменную строчный х\n",
    "\n",
    "  # Далее запишем выражения для левой и правой частей уравнения\n",
    "  # Здесь мы в строчном виде добавляем х в число и сразу переводим в 10сс\n",
    "  left = int(sx + '1418', 13) + int('1' + sx + '037', 14)\n",
    "  right = int('2' + sx + '209', 19)\n",
    "\n",
    "  # Затем проверяем, равна ли левая часть правой\n",
    "  if left == right:\n",
    "    print(right) # и выводим правую часть в случае выполнения\n",
    "    break"
   ]
  },
  {
   "cell_type": "code",
   "execution_count": null,
   "metadata": {},
   "outputs": [],
   "source": [
    "for x in range(1,45):\n",
    "    n1 = 3 * 44 ** 0 + 2 * 44 ** 1 + x * 44 ** 2 + 1 * 44 ** 3\n",
    "    n2 = 1 * 44 ** 0 + x * 44 + 2 * 44 ** 2 + 3 * 44 ** 3\n",
    "    n = n1 + n2 \n",
    "    if n % 42 == 0:\n",
    "        print(n//42)"
   ]
  },
  {
   "cell_type": "code",
   "execution_count": null,
   "metadata": {},
   "outputs": [],
   "source": [
    "alph = '0123456789abcde'\n",
    "for x in alph:\n",
    "    x1 = int(f'97968{x}13',15)\n",
    "    x2 = int(f'7{x}213',15)\n",
    "    if (x1+x2) % 14 == 0:\n",
    "        print(x,(x1+x2)/14)"
   ]
  },
  {
   "cell_type": "code",
   "execution_count": null,
   "metadata": {},
   "outputs": [],
   "source": [
    "alph = '0123456789abcdefg'\n",
    "for x in alph:\n",
    "    x1 = int(f'131{x}1',15)\n",
    "    x2 = int(f'13{x}3',17)\n",
    "    if (x1+x2) % 11 == 0:\n",
    "        print(x,(x1+x2)//11)"
   ]
  },
  {
   "cell_type": "code",
   "execution_count": null,
   "metadata": {},
   "outputs": [],
   "source": [
    "s = 'ABCDEFGHIJKLMNOPQRSTUVWXYZa'  # алфавит, который позволит определить, какие значения \"скрываются\" за M, T и Y, и символ a как 37-й символ 37-ричной СС \n",
    "                                   # (хотя в целом этот символ не необходим)\n",
    "\n",
    "# Известно, что в СС до 36-й A = 10, B = 11... Z = 36, и переводить эти \"цифры\" в 10 СС можно через int('*цифра*', r), где r - число от 2 до 36 включительно. \n",
    "# Для 37-й СС понадобился бы еще один символ, который мы не можем превратить в число 37 через int(*цифра*, 37), т.к. 37-ричной СС, \n",
    "# строго говоря, не существует в виде, понятном человеку (и питону тоже). В таком случае нужно идти на ухищрения и играть по правилам ФИПИ...\n",
    "\n",
    "# В строке s можно найти значение численное значение каждого символа в СС старше 10, прибавив к индексу символа 10.\n",
    "# Например, A = 0 индекс и значение 10, B = 1 индекс и значение 11 и т.д.\n",
    "\n",
    "for x in range(37):  # задаем цикл возможных числовых значений переменной x\n",
    "  c = (2 + 7 * 37 + x * 37 ** 2 + (s.find('F') + 10) * 37 ** 3 + (s.find('M') + 10) * 37 ** 4 +\n",
    "    2 + (s.find('Y') + 10) * 37 + 7 * 37 ** 2 + x * 37 ** 3 + (s.find('T') + 10) * 37 ** 4)  # ОЧЕНЬ внимательно записываем число из условия\n",
    "  if c % 536 == 0:  # если оно кратно 536\n",
    "    print(c // 536)  # выводим частное от деления числа \n",
    "    break"
   ]
  },
  {
   "cell_type": "code",
   "execution_count": null,
   "metadata": {},
   "outputs": [],
   "source": [
    "res = 0\n",
    "for x in range(0,101):\n",
    "    n1 = 2 * x ** 0 + 5 * x + 1 * x ** 2 + 3 * x ** 3 + 1 * x ** 4\n",
    "    n2 = 5 * 100 ** 0 + 2 * 100 ** 1 + x * 100 ** 2 + 7 * 100 ** 3\n",
    "    n = n1 + n2\n",
    "    if n % 11 == 0:\n",
    "        res += 1\n",
    "print(res)"
   ]
  }
 ],
 "metadata": {
  "kernelspec": {
   "display_name": "Python 3",
   "language": "python",
   "name": "python3"
  },
  "language_info": {
   "codemirror_mode": {
    "name": "ipython",
    "version": 3
   },
   "file_extension": ".py",
   "mimetype": "text/x-python",
   "name": "python",
   "nbconvert_exporter": "python",
   "pygments_lexer": "ipython3",
   "version": "3.13.0"
  }
 },
 "nbformat": 4,
 "nbformat_minor": 2
}
