{
 "cells": [
  {
   "cell_type": "code",
   "execution_count": null,
   "metadata": {},
   "outputs": [],
   "source": [
    "from ipaddress import *"
   ]
  },
  {
   "cell_type": "code",
   "execution_count": null,
   "metadata": {},
   "outputs": [],
   "source": [
    "net = ip_network('192.168.32.160/255.255.255.240',0)\n",
    "k = 0\n",
    "for x in net:\n",
    "    s = f'{x:b}'\n",
    "    # print(s,x)\n",
    "    if s.count('1') % 2 == 0:\n",
    "        k += 1\n",
    "print(k)"
   ]
  },
  {
   "cell_type": "code",
   "execution_count": null,
   "metadata": {},
   "outputs": [],
   "source": [
    "for x in range(30):\n",
    "    net = ip_network(f'229.117.114.172/{x}', 0)\n",
    "    print(net,net.netmask)"
   ]
  },
  {
   "cell_type": "code",
   "execution_count": null,
   "metadata": {},
   "outputs": [],
   "source": [
    "for x in range(33):\n",
    "    net = ip_network(f'220.128.112.142/{x}',0)\n",
    "    print(net,net.netmask)"
   ]
  },
  {
   "cell_type": "code",
   "execution_count": null,
   "metadata": {},
   "outputs": [],
   "source": [
    "for x in range(33):\n",
    "    net = ip_network(f'215.181.200.27/{x}',0)\n",
    "    print(net,net.netmask)"
   ]
  },
  {
   "cell_type": "code",
   "execution_count": null,
   "metadata": {},
   "outputs": [],
   "source": [
    "net = ip_network('158.132.161.128/255.255.255.128',0)\n",
    "k = 0\n",
    "for x in net:\n",
    "    s = f'{x:b}'\n",
    "    if s[-1] == '1':\n",
    "        k +=1\n",
    "\n",
    "print(k)\n"
   ]
  },
  {
   "cell_type": "code",
   "execution_count": null,
   "metadata": {},
   "outputs": [],
   "source": [
    "net = ip_network(f'174.114.120.0/255.255.252.0',0)\n",
    "k = 0\n",
    "for x in net:\n",
    "    s = f'{x:b}'\n",
    "    if s.count('1') % 2 == 0:\n",
    "        k += 1\n",
    "print(k)"
   ]
  },
  {
   "cell_type": "code",
   "execution_count": null,
   "metadata": {},
   "outputs": [],
   "source": [
    "for x in range(33):\n",
    "    net = ip_network(f'190.120.251.78/{x}', 0)\n",
    "    print(net,net.netmask)"
   ]
  },
  {
   "cell_type": "code",
   "execution_count": null,
   "metadata": {},
   "outputs": [],
   "source": [
    "for x in range(33):\n",
    "    net = ip_network(f'134.73.209.97/{x}',0)\n",
    "    print(net,net.netmask)"
   ]
  },
  {
   "cell_type": "code",
   "execution_count": null,
   "metadata": {},
   "outputs": [],
   "source": [
    "for x in range(33):\n",
    "    net = ip_network(f'180.2.252.76/{x}',0)\n",
    "    print(net,net.netmask)"
   ]
  },
  {
   "cell_type": "code",
   "execution_count": null,
   "metadata": {},
   "outputs": [],
   "source": [
    "net = ip_network('119.124.96.0/255.255.240.0',0)\n",
    "k = 0\n",
    "for x in net:\n",
    "    s = f'{x:b}'\n",
    "    if s[-1] == \"0\":\n",
    "        k += 1\n",
    "print(k)"
   ]
  },
  {
   "cell_type": "code",
   "execution_count": null,
   "metadata": {},
   "outputs": [],
   "source": [
    "for x in range(33):\n",
    "    net = ip_network(f'90.155.69.100/{x}',0)\n",
    "    print(net,net.netmask)"
   ]
  },
  {
   "cell_type": "code",
   "execution_count": null,
   "metadata": {},
   "outputs": [],
   "source": [
    "net = ip_network('135.221.128.0/255.255.128.0',0)\n",
    "a = []\n",
    "for x in net:\n",
    "    s = f'{x:b}'\n",
    "    a.append(s.count('1'))\n",
    "print(min(a))"
   ]
  },
  {
   "cell_type": "code",
   "execution_count": null,
   "metadata": {},
   "outputs": [],
   "source": [
    "net = ip_network('117.32.0.0/255.224.0.0')  # Создаем сеть с адресом и маской из условия\n",
    "counter = 0  # Инициализируем переменную-счетчик\n",
    "for i in net:  # Перебираем все адреса узлов в сети\n",
    "    a = list(map(int,str(i).split('.')))  # Из IP-адреса создаем список из 4 чисел, разбивая его по точкам\n",
    "    if len(set(a)) == 3:  # Проверяем, что в адресе ровно два одинаковых байта (то есть длина множества равна 3)\n",
    "        counter += 1  # Если это так, то увеличиваем счетчик\n",
    "print(counter)  # Печатаем ответ. Но, в условии сказано, что мы не используем IP-адрес сети и широковещательный\n",
    "# Значит, нас интересует значение на 2 меньше. Ответ: 40640 - 2 = 40638"
   ]
  },
  {
   "cell_type": "code",
   "execution_count": null,
   "metadata": {},
   "outputs": [],
   "source": [
    "for x in range(33):\n",
    "    net = ip_network(f'130.140.241.137/{x}',0)\n",
    "    print(net,net.netmask)"
   ]
  },
  {
   "cell_type": "code",
   "execution_count": null,
   "metadata": {},
   "outputs": [],
   "source": [
    "for x in range(33):\n",
    "    net = ip_network(f\"168.224.22.193/{x}\",0)\n",
    "    print(net,net.netmask)"
   ]
  },
  {
   "cell_type": "code",
   "execution_count": null,
   "metadata": {},
   "outputs": [],
   "source": [
    "k = 0\n",
    "for x in range(33):\n",
    "    net = ip_network(f'158.116.11.146/{x}',0)\n",
    "    print(net,net.netmask)\n",
    "    if str(net.network_address) == '158.116.0.0':\n",
    "        k += 1\n",
    "\n",
    "print(k)"
   ]
  },
  {
   "cell_type": "code",
   "execution_count": null,
   "metadata": {},
   "outputs": [],
   "source": [
    "net = ip_network('151.192.0.0/255.224.0.0')\n",
    "c = 0\n",
    "for i in net:\n",
    "    if bin(int(i))[2:].count('0') == bin(int(i))[2:].count('1'):\n",
    "        c += 1\n",
    "\n",
    "print(c)"
   ]
  },
  {
   "cell_type": "code",
   "execution_count": null,
   "metadata": {},
   "outputs": [],
   "source": [
    "for i in range(10,32):\n",
    "    net = ip_network(f'143.131.211.37/{i}',0)\n",
    "    k = 0\n",
    "    for x in net:\n",
    "        a = f'{x:b}'\n",
    "        if a.count('1')== 10:\n",
    "            k += 1\n",
    "    if k == 15:\n",
    "        print(i)"
   ]
  },
  {
   "cell_type": "code",
   "execution_count": null,
   "metadata": {},
   "outputs": [],
   "source": [
    "from ipaddress import *  # импортируем библиотеку\n",
    "\n",
    "ip_1 = \"112.117.107.70\"  # вводим первый узел\n",
    "ip_2 = \"112.117.121.80\"  # вводим второй узел\n",
    "\n",
    "for i in range(33):  # перебираем кол-во единиц в маске\n",
    "    # создаем сетевой адрес первого и второго узла для нашей сети из IP-адреса\n",
    "    network_1 = ip_network(f\"{ip_1}/{i}\", strict=False)\n",
    "    network_2 = ip_network(f\"{ip_2}/{i}\", strict=False)\n",
    "    if network_1 == network_2:  # сравниваем одинаковые ли они получились\n",
    "        print(network_1.num_addresses)  # если да, то выводим кол-во адресов\n",
    "        # выбираем из вывода самое маленькое -> 8192"
   ]
  },
  {
   "cell_type": "code",
   "execution_count": null,
   "metadata": {},
   "outputs": [],
   "source": [
    "net = ip_network(f'235.86.56.0/255.255.248.0')\n",
    "k = 0\n",
    "for x in net:\n",
    "    a = f\"{x:b}\"\n",
    "    if a[-2:] == \"11\":\n",
    "        k += 1\n",
    "print(k)"
   ]
  },
  {
   "cell_type": "code",
   "execution_count": null,
   "metadata": {},
   "outputs": [],
   "source": [
    "net = ip_network(f'180.23.32.0/255.255.240.0')\n",
    "k = 0\n",
    "for x in net:\n",
    "    s = f'{x:b}'\n",
    "    if s.count('1') % 2 == 0:\n",
    "        k += 1\n",
    "print(k)"
   ]
  },
  {
   "cell_type": "code",
   "execution_count": null,
   "metadata": {},
   "outputs": [],
   "source": [
    "net = ip_network(f\"185.8.0.0/255.255.128.0\")\n",
    "max = 0\n",
    "for x in net:\n",
    "    s = f\"{x:b}\"\n",
    "    if s.count('1') > max:\n",
    "        max = s.count('1')\n",
    "print(max)"
   ]
  },
  {
   "cell_type": "code",
   "execution_count": null,
   "metadata": {},
   "outputs": [],
   "source": [
    "net = ip_network(f\"101.157.240.0/255.255.252.0\")\n",
    "k = 0\n",
    "for x in net:\n",
    "    s = f\"{x:b}\"\n",
    "    s1 = s[:16]\n",
    "    s2 = s[16:]\n",
    "    if s1.count('1') > s2.count(\"1\"):\n",
    "        k += 1\n",
    "print(k)"
   ]
  },
  {
   "cell_type": "code",
   "execution_count": null,
   "metadata": {},
   "outputs": [],
   "source": [
    "net = ip_network(f'112.154.133.208/255.255.252.0',0)\n",
    "k = 0\n",
    "for x in net:\n",
    "    s = f\"{x:b}\"\n",
    "    s1 = s[:16]\n",
    "    s2 = s[16:]\n",
    "    if s2.count('0') % 2 == 1 and s1.count('1') <= s2.count('0'):\n",
    "        k += 1\n",
    "print(k)"
   ]
  },
  {
   "cell_type": "code",
   "execution_count": null,
   "metadata": {},
   "outputs": [],
   "source": [
    "s = '0123456789ABCDEFGH'\n",
    "print(len(s))"
   ]
  },
  {
   "cell_type": "code",
   "execution_count": null,
   "metadata": {},
   "outputs": [],
   "source": []
  }
 ],
 "metadata": {
  "kernelspec": {
   "display_name": "Python 3",
   "language": "python",
   "name": "python3"
  },
  "language_info": {
   "codemirror_mode": {
    "name": "ipython",
    "version": 3
   },
   "file_extension": ".py",
   "mimetype": "text/x-python",
   "name": "python",
   "nbconvert_exporter": "python",
   "pygments_lexer": "ipython3",
   "version": "3.12.8"
  }
 },
 "nbformat": 4,
 "nbformat_minor": 2
}
