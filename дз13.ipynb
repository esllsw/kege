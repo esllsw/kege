{
 "cells": [
  {
   "cell_type": "code",
   "execution_count": null,
   "metadata": {},
   "outputs": [],
   "source": [
    "from ipaddress import *"
   ]
  },
  {
   "cell_type": "markdown",
   "metadata": {},
   "source": [
    "Сеть задана IP-адресом 214.96.0.0 и маской сети 255.240.0.0. Сколько в этой сети IP-адресов, у которых количество нулей в двоичной записи IP-адреса кратно трём?"
   ]
  },
  {
   "cell_type": "code",
   "execution_count": null,
   "metadata": {},
   "outputs": [],
   "source": [
    "net = ip_network(f'214.96.0.0/255.240.0.0')\n",
    "k = 0\n",
    "\n",
    "for x in net:\n",
    "    s = f'{x:b}' #такое работает только на 3.9 и выше\n",
    "    if s.count('0') % 3 == 0:\n",
    "        k += 1\n",
    "print(k)"
   ]
  },
  {
   "cell_type": "markdown",
   "metadata": {},
   "source": [
    "Сеть задана IP-адресом 192.168.31.80 и маской сети 255.255.255.240. Определите максимальную сумму единиц в двоичной записи IP-адреса в этой сети."
   ]
  },
  {
   "cell_type": "code",
   "execution_count": null,
   "metadata": {},
   "outputs": [],
   "source": [
    "net = ip_network(f'192.168.31.80/255.255.255.240')\n",
    "k = 0\n",
    "\n",
    "for x in net:\n",
    "    s = f'{x:b}'\n",
    "    k = max(k,s.count('1'))\n",
    "\n",
    "print(k)"
   ]
  },
  {
   "cell_type": "markdown",
   "metadata": {},
   "source": [
    "Сеть задана IP-адресом 154.233.0.0 и маской сети 255.255.0.0. Сколько в этой сети IP-адресов, двоичная запись которых оканчивается на 0?\n",
    "\n",
    "Руками:\n",
    "В заданной сети с IP-адресом 154.233.0.0 и маской сети 255.255.0.0, первые два октета определяют сеть, а остальные два октета - адреса узлов в этой сети. Маска 255.255.0.0 в двоичном формате будет 11111111.11111111.00000000.00000000.\n",
    "Итак, у нас есть 16 бит для адресов узлов. Всего возможных адресов узлов составляет \n",
    "2^16=65536\n",
    "\n",
    "При этом вам нужно учитывать только те IP-адреса, которые оканчиваются на 0. Это означает, что последний бит адреса узла должен быть 0, что применимо к половине всех адресов узлов. Таким образом, количество IP-адресов, оканчивающихся на 0, будет половиной от общего числа адресов узлов \n",
    "2^16 / 2 = 65536 / 2 = 32768"
   ]
  },
  {
   "cell_type": "code",
   "execution_count": null,
   "metadata": {},
   "outputs": [],
   "source": [
    "net = ip_network(f'154.233.0.0/255.255.0.0')\n",
    "k = 0\n",
    "\n",
    "for x in net:\n",
    "    s = f'{x:b}'\n",
    "    if s[-1] == '0':\n",
    "        k += 1\n",
    "\n",
    "print(k)"
   ]
  },
  {
   "cell_type": "markdown",
   "metadata": {},
   "source": [
    "Известно, что IP-адреса машин, работающих в рамках одной сети, 201.92.0.20 и 201.92.0.49.\n",
    "\n",
    "Сколько еще устройств можно подключить, если известно, что в маске сети стоит максимально возможное количество единиц и два адреса в сети зарезервировано (широковещательный и адрес сети).\n",
    "\n",
    "Решение: \n",
    "Для начала переведём последний байт каждого IP-адреса, т.к остальные три байта в них совпадают:\n",
    "\n",
    "20 = 00010100\n",
    "\n",
    "49 = 00110001\n",
    "\n",
    "Видим, что первые два бита нулевые, а так как в маске сети стоит максимально возможное количество единиц, то под адреса устройств остаётся 6 бит. Значит, в этой сети может быть \n",
    "2^6 = 64\n",
    "\n",
    "Из них 2 устройства уже учтены в условии, и 2 зарезервированы под широковещательный и адрес сети. Тогда можно подключить ещё 64 - 2 - 2 = 60 устройств."
   ]
  },
  {
   "cell_type": "markdown",
   "metadata": {},
   "source": [
    "Сеть, в которой содержится узел с IP-адресом 108.8.190.123, задана маской сети 255.255.A.0, где A – некоторое допустимое для записи маски число. Определите минимальное значение A, для которого для всех IP-адресов этой сети в двоичной записи IP-адреса суммарное количество единиц в левых двух байтах не более суммарного количества единиц в правых двух байтах."
   ]
  },
  {
   "cell_type": "code",
   "execution_count": null,
   "metadata": {},
   "outputs": [],
   "source": [
    "def check(ip):  # создаем функцию, для проверки ip-адресов на сумму левых и правых двух байтов\n",
    "    if sum(map(int, ip[:16])) <= sum(map(int, ip[16:])):  # если сумма первых 16-ти символов не превышает суммы вторых 16-ти\n",
    "        return True  # адрес нам подходит, возвращаем True\n",
    "    return False  # возвращаем False, если условие не сработало\n",
    "\n",
    "\n",
    "for mask in range(33):  # Перебираем маски подсети\n",
    "    net = ip_network(f'108.8.190.123/{mask}', False)  # создаем сеть с адресом узла из задания\n",
    "    if all(check(f'{ip:b}') for ip in net):  # если ВСЕ адреса этой сети подходят под условие задачи\n",
    "        print(net.netmask)  # выводим маску подсети, из которой берем только 3 байт - байт А из задания -> 252\n",
    "        break "
   ]
  },
  {
   "cell_type": "markdown",
   "metadata": {},
   "source": [
    "Сеть задана IP-адресом 87.226.26.72 и маской сети 255.255.255.252. Сколько в этой сети IP-адресов, у которых количество нулей в двоичной записи IP-адреса чётно?"
   ]
  },
  {
   "cell_type": "code",
   "execution_count": null,
   "metadata": {},
   "outputs": [],
   "source": [
    "net = ip_network(f'87.226.26.72/255.255.255.252',0)\n",
    "k = 0\n",
    "\n",
    "for x in net:\n",
    "    s = f'{x:b}'\n",
    "    if s.count('0') % 2 == 0:\n",
    "        k += 1\n",
    "\n",
    "print(k)"
   ]
  },
  {
   "cell_type": "markdown",
   "metadata": {},
   "source": [
    "Для узла с IP-адресом 92.52.42.52 адрес сети равен 92.52.42.0. Чему равно наибольшее возможное значение последнего (самого правого) байта маски?"
   ]
  },
  {
   "cell_type": "code",
   "execution_count": null,
   "metadata": {},
   "outputs": [],
   "source": [
    "for mask in range(1,33):\n",
    "    net = ip_network(f'92.52.42.52/{mask}',0)\n",
    "    print(net,net.netmask)\n",
    "\n",
    "#ищем в выводе подходящий адрес сети, в netmask ищем максимально возможное значение 4го байта маски"
   ]
  },
  {
   "cell_type": "markdown",
   "metadata": {},
   "source": [
    "Для узла с IP-адресом 163.232.136.60 адрес сети равен 163.232.136.0. Найдите наибольшее возможное количество единиц в двоичной записи маски подсети."
   ]
  },
  {
   "cell_type": "code",
   "execution_count": null,
   "metadata": {},
   "outputs": [],
   "source": [
    "for mask in range(1,33):\n",
    "    net = ip_network(f'163.232.136.60/{mask}', 0)\n",
    "    print(net, net.netmask)"
   ]
  },
  {
   "cell_type": "code",
   "execution_count": null,
   "metadata": {},
   "outputs": [],
   "source": [
    "net = ip_network('192.168.32.160/255.255.255.240',0)\n",
    "k = 0\n",
    "for x in net:\n",
    "    s = f'{x:b}'\n",
    "    # print(s,x)\n",
    "    if s.count('1') % 2 == 0:\n",
    "        k += 1\n",
    "print(k)"
   ]
  },
  {
   "cell_type": "code",
   "execution_count": null,
   "metadata": {},
   "outputs": [],
   "source": [
    "for x in range(30):\n",
    "    net = ip_network(f'229.117.114.172/{x}', 0)\n",
    "    print(net,net.netmask)"
   ]
  },
  {
   "cell_type": "code",
   "execution_count": null,
   "metadata": {},
   "outputs": [],
   "source": [
    "for x in range(33):\n",
    "    net = ip_network(f'220.128.112.142/{x}',0)\n",
    "    print(net,net.netmask)"
   ]
  },
  {
   "cell_type": "code",
   "execution_count": null,
   "metadata": {},
   "outputs": [],
   "source": [
    "for x in range(33):\n",
    "    net = ip_network(f'215.181.200.27/{x}',0)\n",
    "    print(net,net.netmask)"
   ]
  },
  {
   "cell_type": "code",
   "execution_count": null,
   "metadata": {},
   "outputs": [],
   "source": [
    "net = ip_network('158.132.161.128/255.255.255.128',0)\n",
    "k = 0\n",
    "for x in net:\n",
    "    s = f'{x:b}'\n",
    "    if s[-1] == '1':\n",
    "        k +=1\n",
    "\n",
    "print(k)\n"
   ]
  },
  {
   "cell_type": "code",
   "execution_count": null,
   "metadata": {},
   "outputs": [],
   "source": [
    "net = ip_network(f'174.114.120.0/255.255.252.0',0)\n",
    "k = 0\n",
    "for x in net:\n",
    "    s = f'{x:b}'\n",
    "    if s.count('1') % 2 == 0:\n",
    "        k += 1\n",
    "print(k)"
   ]
  },
  {
   "cell_type": "code",
   "execution_count": null,
   "metadata": {},
   "outputs": [],
   "source": [
    "for x in range(33):\n",
    "    net = ip_network(f'190.120.251.78/{x}', 0)\n",
    "    print(net,net.netmask)"
   ]
  },
  {
   "cell_type": "code",
   "execution_count": null,
   "metadata": {},
   "outputs": [],
   "source": [
    "for x in range(33):\n",
    "    net = ip_network(f'134.73.209.97/{x}',0)\n",
    "    print(net,net.netmask)"
   ]
  },
  {
   "cell_type": "code",
   "execution_count": null,
   "metadata": {},
   "outputs": [],
   "source": [
    "for x in range(33):\n",
    "    net = ip_network(f'180.2.252.76/{x}',0)\n",
    "    print(net,net.netmask)"
   ]
  },
  {
   "cell_type": "code",
   "execution_count": null,
   "metadata": {},
   "outputs": [],
   "source": [
    "net = ip_network('119.124.96.0/255.255.240.0',0)\n",
    "k = 0\n",
    "for x in net:\n",
    "    s = f'{x:b}'\n",
    "    if s[-1] == \"0\":\n",
    "        k += 1\n",
    "print(k)"
   ]
  },
  {
   "cell_type": "code",
   "execution_count": null,
   "metadata": {},
   "outputs": [],
   "source": [
    "for x in range(33):\n",
    "    net = ip_network(f'90.155.69.100/{x}',0)\n",
    "    print(net,net.netmask)"
   ]
  },
  {
   "cell_type": "code",
   "execution_count": null,
   "metadata": {},
   "outputs": [],
   "source": [
    "net = ip_network('135.221.128.0/255.255.128.0',0)\n",
    "a = []\n",
    "for x in net:\n",
    "    s = f'{x:b}'\n",
    "    a.append(s.count('1'))\n",
    "print(min(a))"
   ]
  },
  {
   "cell_type": "code",
   "execution_count": null,
   "metadata": {},
   "outputs": [],
   "source": [
    "net = ip_network('117.32.0.0/255.224.0.0')  # Создаем сеть с адресом и маской из условия\n",
    "counter = 0  # Инициализируем переменную-счетчик\n",
    "for i in net:  # Перебираем все адреса узлов в сети\n",
    "    a = list(map(int,str(i).split('.')))  # Из IP-адреса создаем список из 4 чисел, разбивая его по точкам\n",
    "    if len(set(a)) == 3:  # Проверяем, что в адресе ровно два одинаковых байта (то есть длина множества равна 3)\n",
    "        counter += 1  # Если это так, то увеличиваем счетчик\n",
    "print(counter)  # Печатаем ответ. Но, в условии сказано, что мы не используем IP-адрес сети и широковещательный\n",
    "# Значит, нас интересует значение на 2 меньше. Ответ: 40640 - 2 = 40638"
   ]
  },
  {
   "cell_type": "code",
   "execution_count": null,
   "metadata": {},
   "outputs": [],
   "source": [
    "for x in range(33):\n",
    "    net = ip_network(f'130.140.241.137/{x}',0)\n",
    "    print(net,net.netmask)"
   ]
  },
  {
   "cell_type": "code",
   "execution_count": null,
   "metadata": {},
   "outputs": [],
   "source": [
    "for x in range(33):\n",
    "    net = ip_network(f\"168.224.22.193/{x}\",0)\n",
    "    print(net,net.netmask)"
   ]
  },
  {
   "cell_type": "code",
   "execution_count": null,
   "metadata": {},
   "outputs": [],
   "source": [
    "k = 0\n",
    "for x in range(33):\n",
    "    net = ip_network(f'158.116.11.146/{x}',0)\n",
    "    print(net,net.netmask)\n",
    "    if str(net.network_address) == '158.116.0.0':\n",
    "        k += 1\n",
    "\n",
    "print(k)"
   ]
  },
  {
   "cell_type": "code",
   "execution_count": null,
   "metadata": {},
   "outputs": [],
   "source": [
    "net = ip_network('151.192.0.0/255.224.0.0')\n",
    "c = 0\n",
    "for i in net:\n",
    "    if bin(int(i))[2:].count('0') == bin(int(i))[2:].count('1'):\n",
    "        c += 1\n",
    "\n",
    "print(c)"
   ]
  },
  {
   "cell_type": "code",
   "execution_count": null,
   "metadata": {},
   "outputs": [],
   "source": [
    "for i in range(10,32):\n",
    "    net = ip_network(f'143.131.211.37/{i}',0)\n",
    "    k = 0\n",
    "    for x in net:\n",
    "        a = f'{x:b}'\n",
    "        if a.count('1')== 10:\n",
    "            k += 1\n",
    "    if k == 15:\n",
    "        print(i)"
   ]
  },
  {
   "cell_type": "code",
   "execution_count": null,
   "metadata": {},
   "outputs": [],
   "source": [
    "from ipaddress import *  # импортируем библиотеку\n",
    "\n",
    "ip_1 = \"112.117.107.70\"  # вводим первый узел\n",
    "ip_2 = \"112.117.121.80\"  # вводим второй узел\n",
    "\n",
    "for i in range(33):  # перебираем кол-во единиц в маске\n",
    "    # создаем сетевой адрес первого и второго узла для нашей сети из IP-адреса\n",
    "    network_1 = ip_network(f\"{ip_1}/{i}\", strict=False)\n",
    "    network_2 = ip_network(f\"{ip_2}/{i}\", strict=False)\n",
    "    if network_1 == network_2:  # сравниваем одинаковые ли они получились\n",
    "        print(network_1.num_addresses)  # если да, то выводим кол-во адресов\n",
    "        # выбираем из вывода самое маленькое -> 8192"
   ]
  },
  {
   "cell_type": "code",
   "execution_count": null,
   "metadata": {},
   "outputs": [],
   "source": [
    "net = ip_network(f'235.86.56.0/255.255.248.0')\n",
    "k = 0\n",
    "for x in net:\n",
    "    a = f\"{x:b}\"\n",
    "    if a[-2:] == \"11\":\n",
    "        k += 1\n",
    "print(k)"
   ]
  },
  {
   "cell_type": "code",
   "execution_count": null,
   "metadata": {},
   "outputs": [],
   "source": [
    "net = ip_network(f'180.23.32.0/255.255.240.0')\n",
    "k = 0\n",
    "for x in net:\n",
    "    s = f'{x:b}'\n",
    "    if s.count('1') % 2 == 0:\n",
    "        k += 1\n",
    "print(k)"
   ]
  },
  {
   "cell_type": "code",
   "execution_count": null,
   "metadata": {},
   "outputs": [],
   "source": [
    "net = ip_network(f\"185.8.0.0/255.255.128.0\")\n",
    "max = 0\n",
    "for x in net:\n",
    "    s = f\"{x:b}\"\n",
    "    if s.count('1') > max:\n",
    "        max = s.count('1')\n",
    "print(max)"
   ]
  },
  {
   "cell_type": "code",
   "execution_count": null,
   "metadata": {},
   "outputs": [],
   "source": [
    "net = ip_network(f\"101.157.240.0/255.255.252.0\")\n",
    "k = 0\n",
    "for x in net:\n",
    "    s = f\"{x:b}\"\n",
    "    s1 = s[:16]\n",
    "    s2 = s[16:]\n",
    "    if s1.count('1') > s2.count(\"1\"):\n",
    "        k += 1\n",
    "print(k)"
   ]
  },
  {
   "cell_type": "code",
   "execution_count": null,
   "metadata": {},
   "outputs": [],
   "source": [
    "net = ip_network(f'112.154.133.208/255.255.252.0',0)\n",
    "k = 0\n",
    "for x in net:\n",
    "    s = f\"{x:b}\"\n",
    "    s1 = s[:16]\n",
    "    s2 = s[16:]\n",
    "    if s2.count('0') % 2 == 1 and s1.count('1') <= s2.count('0'):\n",
    "        k += 1\n",
    "print(k)"
   ]
  }
 ],
 "metadata": {
  "kernelspec": {
   "display_name": "Python 3",
   "language": "python",
   "name": "python3"
  },
  "language_info": {
   "codemirror_mode": {
    "name": "ipython",
    "version": 3
   },
   "file_extension": ".py",
   "mimetype": "text/x-python",
   "name": "python",
   "nbconvert_exporter": "python",
   "pygments_lexer": "ipython3",
   "version": "3.12.8"
  }
 },
 "nbformat": 4,
 "nbformat_minor": 2
}
